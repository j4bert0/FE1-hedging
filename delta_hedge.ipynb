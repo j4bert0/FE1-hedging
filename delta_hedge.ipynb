{
 "cells": [
  {
   "cell_type": "code",
   "execution_count": 1,
   "metadata": {},
   "outputs": [],
   "source": [
    "%%capture\n",
    "%run utils.ipynb\n",
    "%run data.ipynb\n",
    "\n",
    "import warnings\n",
    "warnings.filterwarnings(\"ignore\")"
   ]
  },
  {
   "cell_type": "markdown",
   "metadata": {},
   "source": [
    "Most of the utility functions are implemented in 'utils.ipynb'. Data set is described in 'data.ipynb'."
   ]
  },
  {
   "cell_type": "markdown",
   "metadata": {},
   "source": [
    "# Hedging"
   ]
  },
  {
   "cell_type": "markdown",
   "metadata": {},
   "source": [
    "The fundamental idea of hedging is to immunize the current position in derivative instruments against changes in the underlying asset. Hedging is set up by taking an opposite position in the underlying (i.e. long call, short asset). The size of the hedging positon is dependent on **the hedging strategy** used.\n",
    "\n",
    "Various hedging strategies are considered below."
   ]
  },
  {
   "cell_type": "markdown",
   "metadata": {},
   "source": [
    "### Accuracy of hedging"
   ]
  },
  {
   "cell_type": "markdown",
   "metadata": {},
   "source": [
    "Hedging strategy can be measured by the average accuracy of the hedge. Let $P_t$ be the derivative portfolio and $R_t$ the replicating (hedge) portfolio.\n",
    "\n",
    "$$MSE=\\frac{1}{N}\\sum_{i=1}^N\\big(dP_i-dR_i\\big)^2$$"
   ]
  },
  {
   "cell_type": "markdown",
   "metadata": {},
   "source": [
    "# Delta hedging (single option)"
   ]
  },
  {
   "cell_type": "markdown",
   "metadata": {},
   "source": [
    "Delta hedging is set up as following\n",
    "\n",
    "$$P_t=C_t-\\Delta_t S_t$$\n",
    "\n",
    "that is, portfolio $P_t$ consists being long call ($C_t:=$ price of an call at $t$) and short $\\Delta$-units of the underlying ($S_t:=$ price of the underlying at $t$).\n",
    "\n",
    "Now at time $t=0$, we form the portfolio\n",
    "\n",
    "$$P_0=C_0-\\Delta_0 S_0$$\n",
    "\n",
    "Given our **rehedging frequency** k, the portfolio is rehedged. That is new $\\Delta_{0+k}$ is calculated at time $t=k$ and corresponding portfolio $P_{0+k}$ is formed. Note: Variations in $C_t$ and $S_t$ are stochastic.\n",
    "\n",
    "Delta is calculated by solving **implied volatility** from $C_t$ and using this to compute $\\Delta_t$"
   ]
  },
  {
   "cell_type": "markdown",
   "metadata": {},
   "source": [
    "### Data"
   ]
  },
  {
   "cell_type": "markdown",
   "metadata": {},
   "source": [
    "Consider an at-the-money (ATM) option, maturing at 15.01.2010. As suggested in the assignment, let $t_0=$ 45 days to maturity."
   ]
  },
  {
   "cell_type": "code",
   "execution_count": 2,
   "metadata": {},
   "outputs": [
    {
     "data": {
      "text/plain": [
       "516.09"
      ]
     },
     "execution_count": 2,
     "metadata": {},
     "output_type": "execute_result"
    }
   ],
   "source": [
    "isx15012010C = get_sheet('isx15012010C')\n",
    "isx_m45 = isx15012010C[isx15012010C.shape[0]-45:].reset_index()\n",
    "sp500_spot = isx_m45.iloc[0]['sp500_spot'] # S&P500 spot\n",
    "sp500_spot"
   ]
  },
  {
   "cell_type": "markdown",
   "metadata": {},
   "source": [
    "Since at $t_0$: $S_0=516.09$, call with $E=515$ is closest we can get to ATM. However, price series for this option is not complete (consists NaN values). Hence $E=520$ is chosen, which is in-the-money (ITM)."
   ]
  },
  {
   "cell_type": "code",
   "execution_count": 3,
   "metadata": {},
   "outputs": [
    {
     "data": {
      "text/html": [
       "<div>\n",
       "<style scoped>\n",
       "    .dataframe tbody tr th:only-of-type {\n",
       "        vertical-align: middle;\n",
       "    }\n",
       "\n",
       "    .dataframe tbody tr th {\n",
       "        vertical-align: top;\n",
       "    }\n",
       "\n",
       "    .dataframe thead th {\n",
       "        text-align: right;\n",
       "    }\n",
       "</style>\n",
       "<table border=\"1\" class=\"dataframe\">\n",
       "  <thead>\n",
       "    <tr style=\"text-align: right;\">\n",
       "      <th></th>\n",
       "      <th>days_to_mat</th>\n",
       "      <th>520</th>\n",
       "      <th>sp500_spot</th>\n",
       "      <th>rf</th>\n",
       "    </tr>\n",
       "  </thead>\n",
       "  <tbody>\n",
       "    <tr>\n",
       "      <th>0</th>\n",
       "      <td>45</td>\n",
       "      <td>13.3</td>\n",
       "      <td>516.09</td>\n",
       "      <td>0.07</td>\n",
       "    </tr>\n",
       "    <tr>\n",
       "      <th>1</th>\n",
       "      <td>44</td>\n",
       "      <td>13.8</td>\n",
       "      <td>516.54</td>\n",
       "      <td>0.07</td>\n",
       "    </tr>\n",
       "    <tr>\n",
       "      <th>2</th>\n",
       "      <td>43</td>\n",
       "      <td>10.2</td>\n",
       "      <td>510.35</td>\n",
       "      <td>0.07</td>\n",
       "    </tr>\n",
       "    <tr>\n",
       "      <th>3</th>\n",
       "      <td>42</td>\n",
       "      <td>9.5</td>\n",
       "      <td>508.79</td>\n",
       "      <td>0.04</td>\n",
       "    </tr>\n",
       "    <tr>\n",
       "      <th>4</th>\n",
       "      <td>41</td>\n",
       "      <td>11.6</td>\n",
       "      <td>516.00</td>\n",
       "      <td>0.04</td>\n",
       "    </tr>\n",
       "  </tbody>\n",
       "</table>\n",
       "</div>"
      ],
      "text/plain": [
       "   days_to_mat   520  sp500_spot    rf\n",
       "0           45  13.3      516.09  0.07\n",
       "1           44  13.8      516.54  0.07\n",
       "2           43  10.2      510.35  0.07\n",
       "3           42   9.5      508.79  0.04\n",
       "4           41  11.6      516.00  0.04"
      ]
     },
     "execution_count": 3,
     "metadata": {},
     "output_type": "execute_result"
    }
   ],
   "source": [
    "isx_m45_E520 = isx_m45[['days_to_mat',520,'sp500_spot','rf']]\n",
    "isx_m45_E520 = isx_m45_E520\n",
    "isx_m45_E520.head()"
   ]
  },
  {
   "cell_type": "markdown",
   "metadata": {},
   "source": [
    "How did the underlying asset (S&P500 index) behave during the run time of the option? The asset was quite volatile during the period (up and down movement). This affects the hedging (when measured with MSE): the more frequent rebalancing leads to large changes in the replicating portfolio, and thus larger MSE."
   ]
  },
  {
   "cell_type": "code",
   "execution_count": 4,
   "metadata": {},
   "outputs": [
    {
     "data": {
      "text/plain": [
       "Text(0, 0.5, 'Spot')"
      ]
     },
     "execution_count": 4,
     "metadata": {},
     "output_type": "execute_result"
    },
    {
     "data": {
      "image/png": "[encoded data removed]",
      "text/plain": [
       "<Figure size 432x288 with 1 Axes>"
      ]
     },
     "metadata": {
      "needs_background": "light"
     },
     "output_type": "display_data"
    }
   ],
   "source": [
    "plt.plot(isx_m45_E520['sp500_spot'])\n",
    "plt.title('S&P 500 index')\n",
    "plt.xlabel('t')\n",
    "plt.ylabel('Spot')"
   ]
  },
  {
   "cell_type": "markdown",
   "metadata": {},
   "source": [
    "### Results: At-the-money option (isx15012010C, $E=520$)"
   ]
  },
  {
   "cell_type": "markdown",
   "metadata": {},
   "source": [
    "Solve implied volatility for each time step $t$."
   ]
  },
  {
   "cell_type": "code",
   "execution_count": 5,
   "metadata": {},
   "outputs": [],
   "source": [
    "# Rowwise computations of implied vola and delta\n",
    "def implied_vola_rows(E,row):  return solve_implied_vola(row[E],row['sp500_spot'],E,row['days_to_mat'],row['rf'])\n",
    "def delta_rows(E,row): return delta_call(row['sp500_spot'],E,row['days_to_mat'],row['rf'],row['implied_vola='+str(E)])\n",
    "def vega_rows(E,row): return vega_call(row['sp500_spot'],E,row['days_to_mat'],row['rf'],row['implied_vola='+str(E)])"
   ]
  },
  {
   "cell_type": "code",
   "execution_count": 6,
   "metadata": {},
   "outputs": [],
   "source": [
    "isx_m45_E520['implied_vola=520'] = isx_m45_E520.apply(lambda row: implied_vola_rows(520,row), axis=1)"
   ]
  },
  {
   "cell_type": "markdown",
   "metadata": {},
   "source": [
    "Solve delta for each time step $t$."
   ]
  },
  {
   "cell_type": "code",
   "execution_count": 7,
   "metadata": {},
   "outputs": [],
   "source": [
    "isx_m45_E520['delta=520'] = isx_m45_E520.apply(lambda row: delta_rows(520,row), axis=1)\n",
    "isx_m45_E520_general = isx_m45_E520 # dataframe for general results"
   ]
  },
  {
   "cell_type": "markdown",
   "metadata": {},
   "source": [
    "Set rows for corresponding rehedging frequency. Here rehedging frequency $k=2$."
   ]
  },
  {
   "cell_type": "code",
   "execution_count": 9,
   "metadata": {},
   "outputs": [],
   "source": [
    "isx_m45_E520['delta_freq'] = set_rehedge_freq(2,isx_m45_E520['delta=520']) # rehedging frequency = 2\n",
    "isx_m45_E520['hedge_pos'] = isx_m45_E520.apply(lambda row: row['sp500_spot']*row['delta_freq'],axis=1)\n",
    "isx_m45_E520['change_P'] = isx_m45_E520[520].diff()\n",
    "isx_m45_E520['change_R'] = isx_m45_E520['hedge_pos'].diff()\n",
    "isx_m45_E520['MSE'] = isx_m45_E520.apply(lambda row: (row['change_P']-row['change_R'])**2,axis=1)"
   ]
  },
  {
   "cell_type": "code",
   "execution_count": 10,
   "metadata": {},
   "outputs": [
    {
     "data": {
      "text/html": [
       "<div>\n",
       "<style scoped>\n",
       "    .dataframe tbody tr th:only-of-type {\n",
       "        vertical-align: middle;\n",
       "    }\n",
       "\n",
       "    .dataframe tbody tr th {\n",
       "        vertical-align: top;\n",
       "    }\n",
       "\n",
       "    .dataframe thead th {\n",
       "        text-align: right;\n",
       "    }\n",
       "</style>\n",
       "<table border=\"1\" class=\"dataframe\">\n",
       "  <thead>\n",
       "    <tr style=\"text-align: right;\">\n",
       "      <th></th>\n",
       "      <th>days_to_mat</th>\n",
       "      <th>520</th>\n",
       "      <th>sp500_spot</th>\n",
       "      <th>rf</th>\n",
       "      <th>implied_vola=520</th>\n",
       "      <th>delta=520</th>\n",
       "      <th>vega=520</th>\n",
       "      <th>delta_freq</th>\n",
       "      <th>hedge_pos</th>\n",
       "      <th>change_P</th>\n",
       "      <th>change_R</th>\n",
       "      <th>MSE</th>\n",
       "    </tr>\n",
       "  </thead>\n",
       "  <tbody>\n",
       "    <tr>\n",
       "      <th>0</th>\n",
       "      <td>45</td>\n",
       "      <td>13.3</td>\n",
       "      <td>516.09</td>\n",
       "      <td>0.07</td>\n",
       "      <td>0.180213</td>\n",
       "      <td>0.519439</td>\n",
       "      <td>72.207010</td>\n",
       "      <td>0.519439</td>\n",
       "      <td>268.077297</td>\n",
       "      <td>NaN</td>\n",
       "      <td>NaN</td>\n",
       "      <td>NaN</td>\n",
       "    </tr>\n",
       "    <tr>\n",
       "      <th>1</th>\n",
       "      <td>44</td>\n",
       "      <td>13.8</td>\n",
       "      <td>516.54</td>\n",
       "      <td>0.07</td>\n",
       "      <td>0.186651</td>\n",
       "      <td>0.523761</td>\n",
       "      <td>71.420468</td>\n",
       "      <td>0.519439</td>\n",
       "      <td>268.311045</td>\n",
       "      <td>0.5</td>\n",
       "      <td>0.233748</td>\n",
       "      <td>0.070890</td>\n",
       "    </tr>\n",
       "    <tr>\n",
       "      <th>2</th>\n",
       "      <td>43</td>\n",
       "      <td>10.2</td>\n",
       "      <td>510.35</td>\n",
       "      <td>0.07</td>\n",
       "      <td>0.180940</td>\n",
       "      <td>0.445206</td>\n",
       "      <td>69.221906</td>\n",
       "      <td>0.445206</td>\n",
       "      <td>227.210627</td>\n",
       "      <td>-3.6</td>\n",
       "      <td>-41.100417</td>\n",
       "      <td>1406.281292</td>\n",
       "    </tr>\n",
       "    <tr>\n",
       "      <th>3</th>\n",
       "      <td>42</td>\n",
       "      <td>9.5</td>\n",
       "      <td>508.79</td>\n",
       "      <td>0.04</td>\n",
       "      <td>0.193750</td>\n",
       "      <td>0.409551</td>\n",
       "      <td>67.076318</td>\n",
       "      <td>0.445206</td>\n",
       "      <td>226.516107</td>\n",
       "      <td>-0.7</td>\n",
       "      <td>-0.694521</td>\n",
       "      <td>0.000030</td>\n",
       "    </tr>\n",
       "    <tr>\n",
       "      <th>4</th>\n",
       "      <td>41</td>\n",
       "      <td>11.6</td>\n",
       "      <td>516.00</td>\n",
       "      <td>0.04</td>\n",
       "      <td>0.179705</td>\n",
       "      <td>0.490627</td>\n",
       "      <td>68.973996</td>\n",
       "      <td>0.490627</td>\n",
       "      <td>253.163736</td>\n",
       "      <td>2.1</td>\n",
       "      <td>26.647630</td>\n",
       "      <td>602.586117</td>\n",
       "    </tr>\n",
       "  </tbody>\n",
       "</table>\n",
       "</div>"
      ],
      "text/plain": [
       "   days_to_mat   520  sp500_spot    rf  implied_vola=520  delta=520  \\\n",
       "0           45  13.3      516.09  0.07          0.180213   0.519439   \n",
       "1           44  13.8      516.54  0.07          0.186651   0.523761   \n",
       "2           43  10.2      510.35  0.07          0.180940   0.445206   \n",
       "3           42   9.5      508.79  0.04          0.193750   0.409551   \n",
       "4           41  11.6      516.00  0.04          0.179705   0.490627   \n",
       "\n",
       "    vega=520  delta_freq   hedge_pos  change_P   change_R          MSE  \n",
       "0  72.207010    0.519439  268.077297       NaN        NaN          NaN  \n",
       "1  71.420468    0.519439  268.311045       0.5   0.233748     0.070890  \n",
       "2  69.221906    0.445206  227.210627      -3.6 -41.100417  1406.281292  \n",
       "3  67.076318    0.445206  226.516107      -0.7  -0.694521     0.000030  \n",
       "4  68.973996    0.490627  253.163736       2.1  26.647630   602.586117  "
      ]
     },
     "execution_count": 10,
     "metadata": {},
     "output_type": "execute_result"
    }
   ],
   "source": [
    "isx_m45_E520.head()"
   ]
  },
  {
   "cell_type": "markdown",
   "metadata": {},
   "source": [
    "Plot delta timeseries to see if it is **stable** and seem reasonable."
   ]
  },
  {
   "cell_type": "code",
   "execution_count": 11,
   "metadata": {},
   "outputs": [
    {
     "data": {
      "text/plain": [
       "Text(0.5, 0, 'Time')"
      ]
     },
     "execution_count": 11,
     "metadata": {},
     "output_type": "execute_result"
    },
    {
     "data": {
      "image/png": "[encoded data removed]",
      "text/plain": [
       "<Figure size 432x288 with 1 Axes>"
      ]
     },
     "metadata": {
      "needs_background": "light"
     },
     "output_type": "display_data"
    }
   ],
   "source": [
    "plt.plot(isx_m45_E520['delta=520'])\n",
    "plt.ylim(0, 1)\n",
    "plt.title('Delta, isx15012010C, E=520')\n",
    "plt.ylabel(\"Delta\")\n",
    "plt.xlabel(\"Time\")"
   ]
  },
  {
   "cell_type": "markdown",
   "metadata": {},
   "source": [
    "As the option is chosen ITM, the delta is in the 0.5 region for most of the time (as expected). As the price of the underlying increases and finally is way above the strike, delta reaches 1. (Interpreting the delta as the probability of the option expiring in the money)."
   ]
  },
  {
   "cell_type": "code",
   "execution_count": 12,
   "metadata": {},
   "outputs": [
    {
     "data": {
      "text/plain": [
       "1485.8262522898835"
      ]
     },
     "execution_count": 12,
     "metadata": {},
     "output_type": "execute_result"
    }
   ],
   "source": [
    "isx_m45_E520['MSE'].sum()/isx_m45_E520['MSE'].count() # Average hedging (square) error"
   ]
  },
  {
   "cell_type": "markdown",
   "metadata": {},
   "source": [
    "Delta hedging isx15012010C, $E=520$ with rehedging frequency $k=2$: $MSE=1485.83$\n",
    "\n",
    "This seems quite high so lets check the computation data more carefully. (Last columns contains the hedging error for each time step)."
   ]
  },
  {
   "cell_type": "code",
   "execution_count": 13,
   "metadata": {},
   "outputs": [
    {
     "data": {
      "text/html": [
       "<div>\n",
       "<style scoped>\n",
       "    .dataframe tbody tr th:only-of-type {\n",
       "        vertical-align: middle;\n",
       "    }\n",
       "\n",
       "    .dataframe tbody tr th {\n",
       "        vertical-align: top;\n",
       "    }\n",
       "\n",
       "    .dataframe thead th {\n",
       "        text-align: right;\n",
       "    }\n",
       "</style>\n",
       "<table border=\"1\" class=\"dataframe\">\n",
       "  <thead>\n",
       "    <tr style=\"text-align: right;\">\n",
       "      <th></th>\n",
       "      <th>days_to_mat</th>\n",
       "      <th>520</th>\n",
       "      <th>sp500_spot</th>\n",
       "      <th>delta_freq</th>\n",
       "      <th>hedge_pos</th>\n",
       "      <th>change_P</th>\n",
       "      <th>change_R</th>\n",
       "      <th>MSE</th>\n",
       "    </tr>\n",
       "  </thead>\n",
       "  <tbody>\n",
       "    <tr>\n",
       "      <th>0</th>\n",
       "      <td>45</td>\n",
       "      <td>13.30</td>\n",
       "      <td>516.09</td>\n",
       "      <td>0.519439</td>\n",
       "      <td>268.077297</td>\n",
       "      <td>NaN</td>\n",
       "      <td>NaN</td>\n",
       "      <td>NaN</td>\n",
       "    </tr>\n",
       "    <tr>\n",
       "      <th>1</th>\n",
       "      <td>44</td>\n",
       "      <td>13.80</td>\n",
       "      <td>516.54</td>\n",
       "      <td>0.519439</td>\n",
       "      <td>268.311045</td>\n",
       "      <td>0.50</td>\n",
       "      <td>0.233748</td>\n",
       "      <td>0.070890</td>\n",
       "    </tr>\n",
       "    <tr>\n",
       "      <th>2</th>\n",
       "      <td>43</td>\n",
       "      <td>10.20</td>\n",
       "      <td>510.35</td>\n",
       "      <td>0.445206</td>\n",
       "      <td>227.210627</td>\n",
       "      <td>-3.60</td>\n",
       "      <td>-41.100417</td>\n",
       "      <td>1406.281292</td>\n",
       "    </tr>\n",
       "    <tr>\n",
       "      <th>3</th>\n",
       "      <td>42</td>\n",
       "      <td>9.50</td>\n",
       "      <td>508.79</td>\n",
       "      <td>0.445206</td>\n",
       "      <td>226.516107</td>\n",
       "      <td>-0.70</td>\n",
       "      <td>-0.694521</td>\n",
       "      <td>0.000030</td>\n",
       "    </tr>\n",
       "    <tr>\n",
       "      <th>4</th>\n",
       "      <td>41</td>\n",
       "      <td>11.60</td>\n",
       "      <td>516.00</td>\n",
       "      <td>0.490627</td>\n",
       "      <td>253.163736</td>\n",
       "      <td>2.10</td>\n",
       "      <td>26.647630</td>\n",
       "      <td>602.586117</td>\n",
       "    </tr>\n",
       "    <tr>\n",
       "      <th>5</th>\n",
       "      <td>40</td>\n",
       "      <td>11.00</td>\n",
       "      <td>515.80</td>\n",
       "      <td>0.490627</td>\n",
       "      <td>253.065611</td>\n",
       "      <td>-0.60</td>\n",
       "      <td>-0.098125</td>\n",
       "      <td>0.251878</td>\n",
       "    </tr>\n",
       "    <tr>\n",
       "      <th>6</th>\n",
       "      <td>39</td>\n",
       "      <td>11.65</td>\n",
       "      <td>517.14</td>\n",
       "      <td>0.503026</td>\n",
       "      <td>260.135056</td>\n",
       "      <td>0.65</td>\n",
       "      <td>7.069445</td>\n",
       "      <td>41.209280</td>\n",
       "    </tr>\n",
       "    <tr>\n",
       "      <th>7</th>\n",
       "      <td>38</td>\n",
       "      <td>11.65</td>\n",
       "      <td>517.14</td>\n",
       "      <td>0.503026</td>\n",
       "      <td>260.135056</td>\n",
       "      <td>0.00</td>\n",
       "      <td>0.000000</td>\n",
       "      <td>0.000000</td>\n",
       "    </tr>\n",
       "    <tr>\n",
       "      <th>8</th>\n",
       "      <td>37</td>\n",
       "      <td>9.00</td>\n",
       "      <td>508.98</td>\n",
       "      <td>0.408595</td>\n",
       "      <td>207.966620</td>\n",
       "      <td>-2.65</td>\n",
       "      <td>-52.168437</td>\n",
       "      <td>2452.075559</td>\n",
       "    </tr>\n",
       "    <tr>\n",
       "      <th>9</th>\n",
       "      <td>36</td>\n",
       "      <td>9.60</td>\n",
       "      <td>510.74</td>\n",
       "      <td>0.408595</td>\n",
       "      <td>208.685747</td>\n",
       "      <td>0.60</td>\n",
       "      <td>0.719127</td>\n",
       "      <td>0.014191</td>\n",
       "    </tr>\n",
       "    <tr>\n",
       "      <th>10</th>\n",
       "      <td>35</td>\n",
       "      <td>11.50</td>\n",
       "      <td>516.38</td>\n",
       "      <td>0.496714</td>\n",
       "      <td>256.493301</td>\n",
       "      <td>1.90</td>\n",
       "      <td>47.807554</td>\n",
       "      <td>2107.503485</td>\n",
       "    </tr>\n",
       "    <tr>\n",
       "      <th>11</th>\n",
       "      <td>34</td>\n",
       "      <td>10.30</td>\n",
       "      <td>515.63</td>\n",
       "      <td>0.496714</td>\n",
       "      <td>256.120765</td>\n",
       "      <td>-1.20</td>\n",
       "      <td>-0.372536</td>\n",
       "      <td>0.684697</td>\n",
       "    </tr>\n",
       "    <tr>\n",
       "      <th>12</th>\n",
       "      <td>33</td>\n",
       "      <td>9.00</td>\n",
       "      <td>511.98</td>\n",
       "      <td>0.433861</td>\n",
       "      <td>222.127936</td>\n",
       "      <td>-1.30</td>\n",
       "      <td>-33.992829</td>\n",
       "      <td>1068.821078</td>\n",
       "    </tr>\n",
       "    <tr>\n",
       "      <th>13</th>\n",
       "      <td>32</td>\n",
       "      <td>9.80</td>\n",
       "      <td>513.89</td>\n",
       "      <td>0.433861</td>\n",
       "      <td>222.956609</td>\n",
       "      <td>0.80</td>\n",
       "      <td>0.828674</td>\n",
       "      <td>0.000822</td>\n",
       "    </tr>\n",
       "    <tr>\n",
       "      <th>14</th>\n",
       "      <td>31</td>\n",
       "      <td>8.60</td>\n",
       "      <td>512.45</td>\n",
       "      <td>0.439019</td>\n",
       "      <td>224.975043</td>\n",
       "      <td>-1.20</td>\n",
       "      <td>2.018433</td>\n",
       "      <td>10.358312</td>\n",
       "    </tr>\n",
       "    <tr>\n",
       "      <th>15</th>\n",
       "      <td>30</td>\n",
       "      <td>6.80</td>\n",
       "      <td>507.03</td>\n",
       "      <td>0.439019</td>\n",
       "      <td>222.595562</td>\n",
       "      <td>-1.80</td>\n",
       "      <td>-2.379480</td>\n",
       "      <td>0.335798</td>\n",
       "    </tr>\n",
       "    <tr>\n",
       "      <th>16</th>\n",
       "      <td>29</td>\n",
       "      <td>6.50</td>\n",
       "      <td>509.33</td>\n",
       "      <td>0.382072</td>\n",
       "      <td>194.600643</td>\n",
       "      <td>-0.30</td>\n",
       "      <td>-27.994919</td>\n",
       "      <td>767.008521</td>\n",
       "    </tr>\n",
       "    <tr>\n",
       "      <th>17</th>\n",
       "      <td>28</td>\n",
       "      <td>7.40</td>\n",
       "      <td>511.88</td>\n",
       "      <td>0.382072</td>\n",
       "      <td>195.574927</td>\n",
       "      <td>0.90</td>\n",
       "      <td>0.974283</td>\n",
       "      <td>0.005518</td>\n",
       "    </tr>\n",
       "    <tr>\n",
       "      <th>18</th>\n",
       "      <td>27</td>\n",
       "      <td>8.15</td>\n",
       "      <td>513.66</td>\n",
       "      <td>0.432228</td>\n",
       "      <td>222.018353</td>\n",
       "      <td>0.75</td>\n",
       "      <td>26.443426</td>\n",
       "      <td>660.152139</td>\n",
       "    </tr>\n",
       "    <tr>\n",
       "      <th>19</th>\n",
       "      <td>26</td>\n",
       "      <td>7.80</td>\n",
       "      <td>515.35</td>\n",
       "      <td>0.432228</td>\n",
       "      <td>222.748818</td>\n",
       "      <td>-0.35</td>\n",
       "      <td>0.730466</td>\n",
       "      <td>1.167406</td>\n",
       "    </tr>\n",
       "    <tr>\n",
       "      <th>20</th>\n",
       "      <td>25</td>\n",
       "      <td>6.60</td>\n",
       "      <td>512.13</td>\n",
       "      <td>0.397951</td>\n",
       "      <td>203.802462</td>\n",
       "      <td>-1.20</td>\n",
       "      <td>-18.946356</td>\n",
       "      <td>314.933154</td>\n",
       "    </tr>\n",
       "    <tr>\n",
       "      <th>21</th>\n",
       "      <td>24</td>\n",
       "      <td>6.00</td>\n",
       "      <td>511.97</td>\n",
       "      <td>0.397951</td>\n",
       "      <td>203.738790</td>\n",
       "      <td>-0.60</td>\n",
       "      <td>-0.063672</td>\n",
       "      <td>0.287648</td>\n",
       "    </tr>\n",
       "    <tr>\n",
       "      <th>22</th>\n",
       "      <td>23</td>\n",
       "      <td>4.10</td>\n",
       "      <td>505.71</td>\n",
       "      <td>0.291264</td>\n",
       "      <td>147.295184</td>\n",
       "      <td>-1.90</td>\n",
       "      <td>-56.443606</td>\n",
       "      <td>2975.004933</td>\n",
       "    </tr>\n",
       "    <tr>\n",
       "      <th>23</th>\n",
       "      <td>22</td>\n",
       "      <td>4.40</td>\n",
       "      <td>508.73</td>\n",
       "      <td>0.291264</td>\n",
       "      <td>148.174802</td>\n",
       "      <td>0.30</td>\n",
       "      <td>0.879618</td>\n",
       "      <td>0.335957</td>\n",
       "    </tr>\n",
       "    <tr>\n",
       "      <th>24</th>\n",
       "      <td>21</td>\n",
       "      <td>4.95</td>\n",
       "      <td>513.94</td>\n",
       "      <td>0.399246</td>\n",
       "      <td>205.188368</td>\n",
       "      <td>0.55</td>\n",
       "      <td>57.013566</td>\n",
       "      <td>3188.134274</td>\n",
       "    </tr>\n",
       "    <tr>\n",
       "      <th>25</th>\n",
       "      <td>20</td>\n",
       "      <td>5.10</td>\n",
       "      <td>515.15</td>\n",
       "      <td>0.399246</td>\n",
       "      <td>205.671455</td>\n",
       "      <td>0.15</td>\n",
       "      <td>0.483087</td>\n",
       "      <td>0.110947</td>\n",
       "    </tr>\n",
       "    <tr>\n",
       "      <th>26</th>\n",
       "      <td>19</td>\n",
       "      <td>5.00</td>\n",
       "      <td>515.44</td>\n",
       "      <td>0.422906</td>\n",
       "      <td>217.982456</td>\n",
       "      <td>-0.10</td>\n",
       "      <td>12.311001</td>\n",
       "      <td>154.032946</td>\n",
       "    </tr>\n",
       "    <tr>\n",
       "      <th>27</th>\n",
       "      <td>18</td>\n",
       "      <td>6.20</td>\n",
       "      <td>518.16</td>\n",
       "      <td>0.422906</td>\n",
       "      <td>219.132760</td>\n",
       "      <td>1.20</td>\n",
       "      <td>1.150303</td>\n",
       "      <td>0.002470</td>\n",
       "    </tr>\n",
       "    <tr>\n",
       "      <th>28</th>\n",
       "      <td>17</td>\n",
       "      <td>6.20</td>\n",
       "      <td>518.16</td>\n",
       "      <td>0.502313</td>\n",
       "      <td>260.278566</td>\n",
       "      <td>0.00</td>\n",
       "      <td>41.145806</td>\n",
       "      <td>1692.977367</td>\n",
       "    </tr>\n",
       "    <tr>\n",
       "      <th>29</th>\n",
       "      <td>16</td>\n",
       "      <td>6.20</td>\n",
       "      <td>519.13</td>\n",
       "      <td>0.502313</td>\n",
       "      <td>260.765809</td>\n",
       "      <td>0.00</td>\n",
       "      <td>0.487244</td>\n",
       "      <td>0.237406</td>\n",
       "    </tr>\n",
       "    <tr>\n",
       "      <th>30</th>\n",
       "      <td>15</td>\n",
       "      <td>5.95</td>\n",
       "      <td>518.75</td>\n",
       "      <td>0.512273</td>\n",
       "      <td>265.741649</td>\n",
       "      <td>-0.25</td>\n",
       "      <td>4.975840</td>\n",
       "      <td>27.309403</td>\n",
       "    </tr>\n",
       "    <tr>\n",
       "      <th>31</th>\n",
       "      <td>14</td>\n",
       "      <td>5.80</td>\n",
       "      <td>518.90</td>\n",
       "      <td>0.512273</td>\n",
       "      <td>265.818490</td>\n",
       "      <td>-0.15</td>\n",
       "      <td>0.076841</td>\n",
       "      <td>0.051457</td>\n",
       "    </tr>\n",
       "    <tr>\n",
       "      <th>32</th>\n",
       "      <td>13</td>\n",
       "      <td>4.10</td>\n",
       "      <td>514.09</td>\n",
       "      <td>0.387708</td>\n",
       "      <td>199.316619</td>\n",
       "      <td>-1.70</td>\n",
       "      <td>-66.501871</td>\n",
       "      <td>4199.282501</td>\n",
       "    </tr>\n",
       "    <tr>\n",
       "      <th>33</th>\n",
       "      <td>12</td>\n",
       "      <td>4.10</td>\n",
       "      <td>514.09</td>\n",
       "      <td>0.387708</td>\n",
       "      <td>199.316619</td>\n",
       "      <td>0.00</td>\n",
       "      <td>0.000000</td>\n",
       "      <td>0.000000</td>\n",
       "    </tr>\n",
       "    <tr>\n",
       "      <th>34</th>\n",
       "      <td>11</td>\n",
       "      <td>7.00</td>\n",
       "      <td>522.73</td>\n",
       "      <td>0.635401</td>\n",
       "      <td>332.142921</td>\n",
       "      <td>2.90</td>\n",
       "      <td>132.826302</td>\n",
       "      <td>16880.843989</td>\n",
       "    </tr>\n",
       "    <tr>\n",
       "      <th>35</th>\n",
       "      <td>10</td>\n",
       "      <td>7.50</td>\n",
       "      <td>524.60</td>\n",
       "      <td>0.635401</td>\n",
       "      <td>333.331120</td>\n",
       "      <td>0.50</td>\n",
       "      <td>1.188199</td>\n",
       "      <td>0.473618</td>\n",
       "    </tr>\n",
       "    <tr>\n",
       "      <th>36</th>\n",
       "      <td>9</td>\n",
       "      <td>7.80</td>\n",
       "      <td>524.31</td>\n",
       "      <td>0.680263</td>\n",
       "      <td>356.668802</td>\n",
       "      <td>0.30</td>\n",
       "      <td>23.337681</td>\n",
       "      <td>530.734761</td>\n",
       "    </tr>\n",
       "    <tr>\n",
       "      <th>37</th>\n",
       "      <td>8</td>\n",
       "      <td>8.83</td>\n",
       "      <td>526.34</td>\n",
       "      <td>0.680263</td>\n",
       "      <td>358.049736</td>\n",
       "      <td>1.03</td>\n",
       "      <td>1.380934</td>\n",
       "      <td>0.123155</td>\n",
       "    </tr>\n",
       "    <tr>\n",
       "      <th>38</th>\n",
       "      <td>7</td>\n",
       "      <td>9.40</td>\n",
       "      <td>527.76</td>\n",
       "      <td>0.808321</td>\n",
       "      <td>426.599717</td>\n",
       "      <td>0.57</td>\n",
       "      <td>68.549981</td>\n",
       "      <td>4621.277876</td>\n",
       "    </tr>\n",
       "    <tr>\n",
       "      <th>39</th>\n",
       "      <td>6</td>\n",
       "      <td>8.90</td>\n",
       "      <td>528.61</td>\n",
       "      <td>0.808321</td>\n",
       "      <td>427.286791</td>\n",
       "      <td>-0.50</td>\n",
       "      <td>0.687073</td>\n",
       "      <td>1.409143</td>\n",
       "    </tr>\n",
       "    <tr>\n",
       "      <th>40</th>\n",
       "      <td>5</td>\n",
       "      <td>6.80</td>\n",
       "      <td>524.29</td>\n",
       "      <td>0.684107</td>\n",
       "      <td>358.670441</td>\n",
       "      <td>-2.10</td>\n",
       "      <td>-68.616350</td>\n",
       "      <td>4424.424797</td>\n",
       "    </tr>\n",
       "    <tr>\n",
       "      <th>41</th>\n",
       "      <td>4</td>\n",
       "      <td>9.00</td>\n",
       "      <td>527.93</td>\n",
       "      <td>0.684107</td>\n",
       "      <td>361.160590</td>\n",
       "      <td>2.20</td>\n",
       "      <td>2.490149</td>\n",
       "      <td>0.084187</td>\n",
       "    </tr>\n",
       "    <tr>\n",
       "      <th>42</th>\n",
       "      <td>3</td>\n",
       "      <td>10.10</td>\n",
       "      <td>529.59</td>\n",
       "      <td>0.921081</td>\n",
       "      <td>487.795536</td>\n",
       "      <td>1.10</td>\n",
       "      <td>126.634946</td>\n",
       "      <td>15759.022640</td>\n",
       "    </tr>\n",
       "    <tr>\n",
       "      <th>43</th>\n",
       "      <td>2</td>\n",
       "      <td>4.10</td>\n",
       "      <td>524.11</td>\n",
       "      <td>0.921081</td>\n",
       "      <td>482.748010</td>\n",
       "      <td>-6.00</td>\n",
       "      <td>-5.047526</td>\n",
       "      <td>0.907206</td>\n",
       "    </tr>\n",
       "    <tr>\n",
       "      <th>44</th>\n",
       "      <td>1</td>\n",
       "      <td>NaN</td>\n",
       "      <td>NaN</td>\n",
       "      <td>NaN</td>\n",
       "      <td>NaN</td>\n",
       "      <td>NaN</td>\n",
       "      <td>NaN</td>\n",
       "      <td>NaN</td>\n",
       "    </tr>\n",
       "  </tbody>\n",
       "</table>\n",
       "</div>"
      ],
      "text/plain": [
       "    days_to_mat    520  sp500_spot  delta_freq   hedge_pos  change_P  \\\n",
       "0            45  13.30      516.09    0.519439  268.077297       NaN   \n",
       "1            44  13.80      516.54    0.519439  268.311045      0.50   \n",
       "2            43  10.20      510.35    0.445206  227.210627     -3.60   \n",
       "3            42   9.50      508.79    0.445206  226.516107     -0.70   \n",
       "4            41  11.60      516.00    0.490627  253.163736      2.10   \n",
       "5            40  11.00      515.80    0.490627  253.065611     -0.60   \n",
       "6            39  11.65      517.14    0.503026  260.135056      0.65   \n",
       "7            38  11.65      517.14    0.503026  260.135056      0.00   \n",
       "8            37   9.00      508.98    0.408595  207.966620     -2.65   \n",
       "9            36   9.60      510.74    0.408595  208.685747      0.60   \n",
       "10           35  11.50      516.38    0.496714  256.493301      1.90   \n",
       "11           34  10.30      515.63    0.496714  256.120765     -1.20   \n",
       "12           33   9.00      511.98    0.433861  222.127936     -1.30   \n",
       "13           32   9.80      513.89    0.433861  222.956609      0.80   \n",
       "14           31   8.60      512.45    0.439019  224.975043     -1.20   \n",
       "15           30   6.80      507.03    0.439019  222.595562     -1.80   \n",
       "16           29   6.50      509.33    0.382072  194.600643     -0.30   \n",
       "17           28   7.40      511.88    0.382072  195.574927      0.90   \n",
       "18           27   8.15      513.66    0.432228  222.018353      0.75   \n",
       "19           26   7.80      515.35    0.432228  222.748818     -0.35   \n",
       "20           25   6.60      512.13    0.397951  203.802462     -1.20   \n",
       "21           24   6.00      511.97    0.397951  203.738790     -0.60   \n",
       "22           23   4.10      505.71    0.291264  147.295184     -1.90   \n",
       "23           22   4.40      508.73    0.291264  148.174802      0.30   \n",
       "24           21   4.95      513.94    0.399246  205.188368      0.55   \n",
       "25           20   5.10      515.15    0.399246  205.671455      0.15   \n",
       "26           19   5.00      515.44    0.422906  217.982456     -0.10   \n",
       "27           18   6.20      518.16    0.422906  219.132760      1.20   \n",
       "28           17   6.20      518.16    0.502313  260.278566      0.00   \n",
       "29           16   6.20      519.13    0.502313  260.765809      0.00   \n",
       "30           15   5.95      518.75    0.512273  265.741649     -0.25   \n",
       "31           14   5.80      518.90    0.512273  265.818490     -0.15   \n",
       "32           13   4.10      514.09    0.387708  199.316619     -1.70   \n",
       "33           12   4.10      514.09    0.387708  199.316619      0.00   \n",
       "34           11   7.00      522.73    0.635401  332.142921      2.90   \n",
       "35           10   7.50      524.60    0.635401  333.331120      0.50   \n",
       "36            9   7.80      524.31    0.680263  356.668802      0.30   \n",
       "37            8   8.83      526.34    0.680263  358.049736      1.03   \n",
       "38            7   9.40      527.76    0.808321  426.599717      0.57   \n",
       "39            6   8.90      528.61    0.808321  427.286791     -0.50   \n",
       "40            5   6.80      524.29    0.684107  358.670441     -2.10   \n",
       "41            4   9.00      527.93    0.684107  361.160590      2.20   \n",
       "42            3  10.10      529.59    0.921081  487.795536      1.10   \n",
       "43            2   4.10      524.11    0.921081  482.748010     -6.00   \n",
       "44            1    NaN         NaN         NaN         NaN       NaN   \n",
       "\n",
       "      change_R           MSE  \n",
       "0          NaN           NaN  \n",
       "1     0.233748      0.070890  \n",
       "2   -41.100417   1406.281292  \n",
       "3    -0.694521      0.000030  \n",
       "4    26.647630    602.586117  \n",
       "5    -0.098125      0.251878  \n",
       "6     7.069445     41.209280  \n",
       "7     0.000000      0.000000  \n",
       "8   -52.168437   2452.075559  \n",
       "9     0.719127      0.014191  \n",
       "10   47.807554   2107.503485  \n",
       "11   -0.372536      0.684697  \n",
       "12  -33.992829   1068.821078  \n",
       "13    0.828674      0.000822  \n",
       "14    2.018433     10.358312  \n",
       "15   -2.379480      0.335798  \n",
       "16  -27.994919    767.008521  \n",
       "17    0.974283      0.005518  \n",
       "18   26.443426    660.152139  \n",
       "19    0.730466      1.167406  \n",
       "20  -18.946356    314.933154  \n",
       "21   -0.063672      0.287648  \n",
       "22  -56.443606   2975.004933  \n",
       "23    0.879618      0.335957  \n",
       "24   57.013566   3188.134274  \n",
       "25    0.483087      0.110947  \n",
       "26   12.311001    154.032946  \n",
       "27    1.150303      0.002470  \n",
       "28   41.145806   1692.977367  \n",
       "29    0.487244      0.237406  \n",
       "30    4.975840     27.309403  \n",
       "31    0.076841      0.051457  \n",
       "32  -66.501871   4199.282501  \n",
       "33    0.000000      0.000000  \n",
       "34  132.826302  16880.843989  \n",
       "35    1.188199      0.473618  \n",
       "36   23.337681    530.734761  \n",
       "37    1.380934      0.123155  \n",
       "38   68.549981   4621.277876  \n",
       "39    0.687073      1.409143  \n",
       "40  -68.616350   4424.424797  \n",
       "41    2.490149      0.084187  \n",
       "42  126.634946  15759.022640  \n",
       "43   -5.047526      0.907206  \n",
       "44         NaN           NaN  "
      ]
     },
     "execution_count": 13,
     "metadata": {},
     "output_type": "execute_result"
    }
   ],
   "source": [
    "isx_m45_E520[['days_to_mat',520,'sp500_spot','delta_freq','hedge_pos','change_P','change_R','MSE']]"
   ]
  },
  {
   "cell_type": "markdown",
   "metadata": {},
   "source": [
    "It seems like that delta becomes more volatile towards the end of lifetime of the option (in case ITM). In above the single largest hedging errors are from 11 and 3 days to maturity (16880.8 and 15759.0 respectively).\n",
    "\n",
    "It seems like everything is computed correctly to this stage."
   ]
  },
  {
   "cell_type": "markdown",
   "metadata": {},
   "source": [
    "With different rehedging frequencies:\n",
    "\n",
    "$k=3$"
   ]
  },
  {
   "cell_type": "code",
   "execution_count": 14,
   "metadata": {},
   "outputs": [],
   "source": [
    "isx_m45_E520['delta_freq'] = set_rehedge_freq(3,isx_m45_E520['delta=520'])"
   ]
  },
  {
   "cell_type": "code",
   "execution_count": 15,
   "metadata": {},
   "outputs": [
    {
     "data": {
      "text/plain": [
       "1625.729144408308"
      ]
     },
     "execution_count": 15,
     "metadata": {},
     "output_type": "execute_result"
    }
   ],
   "source": [
    "isx_m45_E520['hedge_pos'] = isx_m45_E520.apply(lambda row: row['sp500_spot']*row['delta_freq'],axis=1)\n",
    "isx_m45_E520['change_P'] = isx_m45_E520[520].diff()\n",
    "isx_m45_E520['change_R'] = isx_m45_E520['hedge_pos'].diff()\n",
    "isx_m45_E520['MSE'] = isx_m45_E520.apply(lambda row: (row['change_P']-row['change_R'])**2,axis=1)\n",
    "isx_m45_E520['MSE'].sum()/isx_m45_E520['MSE'].count()"
   ]
  },
  {
   "cell_type": "markdown",
   "metadata": {},
   "source": [
    "Delta hedging isx15012010C, $E=520$ with rehedging frequency $k=3$: $MSE=1625.72$"
   ]
  },
  {
   "cell_type": "markdown",
   "metadata": {},
   "source": [
    "To generalize the results, lets plot $MSE$ as a function of rehedging frequency $k$ for isx15012010C, $E=520$."
   ]
  },
  {
   "cell_type": "code",
   "execution_count": 16,
   "metadata": {},
   "outputs": [
    {
     "data": {
      "text/plain": [
       "Text(0.5, 0, 'Rehedging frequency')"
      ]
     },
     "execution_count": 16,
     "metadata": {},
     "output_type": "execute_result"
    },
    {
     "data": {
      "image/png": "[encoded data removed]",
      "text/plain": [
       "<Figure size 432x288 with 1 Axes>"
      ]
     },
     "metadata": {
      "needs_background": "light"
     },
     "output_type": "display_data"
    }
   ],
   "source": [
    "plt.plot(range(1,15),[MSE_delta_for_freq_strike(520,x,isx_m45_E520_general) for x in range(1,15)])\n",
    "plt.title(\"isx15012010C, E=520\")\n",
    "plt.ylabel(\"MSE\")\n",
    "plt.xlabel(\"Rehedging frequency\")"
   ]
  },
  {
   "cell_type": "markdown",
   "metadata": {},
   "source": [
    "The result is unexpected: hedging accuracy measured by MSE is better with longer rehedging frequencies."
   ]
  },
  {
   "cell_type": "markdown",
   "metadata": {},
   "source": [
    "### Results: In-the-money option (isx15012010C, $E=500$)"
   ]
  },
  {
   "cell_type": "code",
   "execution_count": 17,
   "metadata": {},
   "outputs": [
    {
     "data": {
      "text/html": [
       "<div>\n",
       "<style scoped>\n",
       "    .dataframe tbody tr th:only-of-type {\n",
       "        vertical-align: middle;\n",
       "    }\n",
       "\n",
       "    .dataframe tbody tr th {\n",
       "        vertical-align: top;\n",
       "    }\n",
       "\n",
       "    .dataframe thead th {\n",
       "        text-align: right;\n",
       "    }\n",
       "</style>\n",
       "<table border=\"1\" class=\"dataframe\">\n",
       "  <thead>\n",
       "    <tr style=\"text-align: right;\">\n",
       "      <th></th>\n",
       "      <th>days_to_mat</th>\n",
       "      <th>500</th>\n",
       "      <th>sp500_spot</th>\n",
       "      <th>rf</th>\n",
       "    </tr>\n",
       "  </thead>\n",
       "  <tbody>\n",
       "    <tr>\n",
       "      <th>0</th>\n",
       "      <td>45</td>\n",
       "      <td>25.80</td>\n",
       "      <td>516.09</td>\n",
       "      <td>0.07</td>\n",
       "    </tr>\n",
       "    <tr>\n",
       "      <th>1</th>\n",
       "      <td>44</td>\n",
       "      <td>26.25</td>\n",
       "      <td>516.54</td>\n",
       "      <td>0.07</td>\n",
       "    </tr>\n",
       "    <tr>\n",
       "      <th>2</th>\n",
       "      <td>43</td>\n",
       "      <td>21.50</td>\n",
       "      <td>510.35</td>\n",
       "      <td>0.07</td>\n",
       "    </tr>\n",
       "    <tr>\n",
       "      <th>3</th>\n",
       "      <td>42</td>\n",
       "      <td>20.25</td>\n",
       "      <td>508.79</td>\n",
       "      <td>0.04</td>\n",
       "    </tr>\n",
       "    <tr>\n",
       "      <th>4</th>\n",
       "      <td>41</td>\n",
       "      <td>24.00</td>\n",
       "      <td>516.00</td>\n",
       "      <td>0.04</td>\n",
       "    </tr>\n",
       "  </tbody>\n",
       "</table>\n",
       "</div>"
      ],
      "text/plain": [
       "   days_to_mat    500  sp500_spot    rf\n",
       "0           45  25.80      516.09  0.07\n",
       "1           44  26.25      516.54  0.07\n",
       "2           43  21.50      510.35  0.07\n",
       "3           42  20.25      508.79  0.04\n",
       "4           41  24.00      516.00  0.04"
      ]
     },
     "execution_count": 17,
     "metadata": {},
     "output_type": "execute_result"
    }
   ],
   "source": [
    "isx_m45_E500 = isx_m45[['days_to_mat',500,'sp500_spot','rf']]\n",
    "isx_m45_E500.head()"
   ]
  },
  {
   "cell_type": "code",
   "execution_count": 18,
   "metadata": {},
   "outputs": [
    {
     "data": {
      "text/html": [
       "<div>\n",
       "<style scoped>\n",
       "    .dataframe tbody tr th:only-of-type {\n",
       "        vertical-align: middle;\n",
       "    }\n",
       "\n",
       "    .dataframe tbody tr th {\n",
       "        vertical-align: top;\n",
       "    }\n",
       "\n",
       "    .dataframe thead th {\n",
       "        text-align: right;\n",
       "    }\n",
       "</style>\n",
       "<table border=\"1\" class=\"dataframe\">\n",
       "  <thead>\n",
       "    <tr style=\"text-align: right;\">\n",
       "      <th></th>\n",
       "      <th>days_to_mat</th>\n",
       "      <th>500</th>\n",
       "      <th>sp500_spot</th>\n",
       "      <th>rf</th>\n",
       "      <th>implied_vola=500</th>\n",
       "      <th>delta=500</th>\n",
       "    </tr>\n",
       "  </thead>\n",
       "  <tbody>\n",
       "    <tr>\n",
       "      <th>0</th>\n",
       "      <td>45</td>\n",
       "      <td>25.80</td>\n",
       "      <td>516.09</td>\n",
       "      <td>0.07</td>\n",
       "      <td>0.185945</td>\n",
       "      <td>0.742136</td>\n",
       "    </tr>\n",
       "    <tr>\n",
       "      <th>1</th>\n",
       "      <td>44</td>\n",
       "      <td>26.25</td>\n",
       "      <td>516.54</td>\n",
       "      <td>0.07</td>\n",
       "      <td>0.191233</td>\n",
       "      <td>0.742298</td>\n",
       "    </tr>\n",
       "    <tr>\n",
       "      <th>2</th>\n",
       "      <td>43</td>\n",
       "      <td>21.50</td>\n",
       "      <td>510.35</td>\n",
       "      <td>0.07</td>\n",
       "      <td>0.188957</td>\n",
       "      <td>0.682781</td>\n",
       "    </tr>\n",
       "    <tr>\n",
       "      <th>3</th>\n",
       "      <td>42</td>\n",
       "      <td>20.25</td>\n",
       "      <td>508.79</td>\n",
       "      <td>0.04</td>\n",
       "      <td>0.205838</td>\n",
       "      <td>0.636988</td>\n",
       "    </tr>\n",
       "    <tr>\n",
       "      <th>4</th>\n",
       "      <td>41</td>\n",
       "      <td>24.00</td>\n",
       "      <td>516.00</td>\n",
       "      <td>0.04</td>\n",
       "      <td>0.190034</td>\n",
       "      <td>0.724729</td>\n",
       "    </tr>\n",
       "  </tbody>\n",
       "</table>\n",
       "</div>"
      ],
      "text/plain": [
       "   days_to_mat    500  sp500_spot    rf  implied_vola=500  delta=500\n",
       "0           45  25.80      516.09  0.07          0.185945   0.742136\n",
       "1           44  26.25      516.54  0.07          0.191233   0.742298\n",
       "2           43  21.50      510.35  0.07          0.188957   0.682781\n",
       "3           42  20.25      508.79  0.04          0.205838   0.636988\n",
       "4           41  24.00      516.00  0.04          0.190034   0.724729"
      ]
     },
     "execution_count": 18,
     "metadata": {},
     "output_type": "execute_result"
    }
   ],
   "source": [
    "isx_m45_E500['implied_vola=500'] = isx_m45_E500.apply(lambda row: implied_vola_rows(500,row), axis=1)\n",
    "isx_m45_E500['delta=500'] = isx_m45_E500.apply(lambda row: delta_rows(500,row), axis=1)\n",
    "isx_m45_E500.head()"
   ]
  },
  {
   "cell_type": "code",
   "execution_count": 19,
   "metadata": {},
   "outputs": [
    {
     "data": {
      "text/plain": [
       "Text(0.5, 0, 'Time')"
      ]
     },
     "execution_count": 19,
     "metadata": {},
     "output_type": "execute_result"
    },
    {
     "data": {
      "image/png": "[encoded data removed]",
      "text/plain": [
       "<Figure size 432x288 with 1 Axes>"
      ]
     },
     "metadata": {
      "needs_background": "light"
     },
     "output_type": "display_data"
    }
   ],
   "source": [
    "plt.plot(isx_m45_E500['delta=500'])\n",
    "plt.ylim(0, 1)\n",
    "plt.title('Delta, isx15012010C, E=500')\n",
    "plt.ylabel(\"Delta\")\n",
    "plt.xlabel(\"Time\")"
   ]
  },
  {
   "cell_type": "markdown",
   "metadata": {},
   "source": [
    "From the above delta plot we can see that computation of delta (through implied volatility) has not been **stable**."
   ]
  },
  {
   "cell_type": "code",
   "execution_count": 20,
   "metadata": {},
   "outputs": [
    {
     "data": {
      "text/plain": [
       "Text(0.5, 0, 'Rehedging frequency')"
      ]
     },
     "execution_count": 20,
     "metadata": {},
     "output_type": "execute_result"
    },
    {
     "data": {
      "image/png": "[encoded data removed]",
      "text/plain": [
       "<Figure size 432x288 with 1 Axes>"
      ]
     },
     "metadata": {
      "needs_background": "light"
     },
     "output_type": "display_data"
    }
   ],
   "source": [
    "plt.plot(range(1,15),[MSE_delta_for_freq_strike(500,x,isx_m45_E500) for x in range(1,15)])\n",
    "plt.title(\"isx15012010C, E=500\")\n",
    "plt.ylabel(\"MSE\")\n",
    "plt.xlabel(\"Rehedging frequency\")"
   ]
  },
  {
   "cell_type": "markdown",
   "metadata": {},
   "source": [
    "### Results: Out-the-money option (isx15012010C, $E=540$)"
   ]
  },
  {
   "cell_type": "code",
   "execution_count": 21,
   "metadata": {},
   "outputs": [
    {
     "data": {
      "text/html": [
       "<div>\n",
       "<style scoped>\n",
       "    .dataframe tbody tr th:only-of-type {\n",
       "        vertical-align: middle;\n",
       "    }\n",
       "\n",
       "    .dataframe tbody tr th {\n",
       "        vertical-align: top;\n",
       "    }\n",
       "\n",
       "    .dataframe thead th {\n",
       "        text-align: right;\n",
       "    }\n",
       "</style>\n",
       "<table border=\"1\" class=\"dataframe\">\n",
       "  <thead>\n",
       "    <tr style=\"text-align: right;\">\n",
       "      <th></th>\n",
       "      <th>days_to_mat</th>\n",
       "      <th>540</th>\n",
       "      <th>sp500_spot</th>\n",
       "      <th>rf</th>\n",
       "    </tr>\n",
       "  </thead>\n",
       "  <tbody>\n",
       "    <tr>\n",
       "      <th>0</th>\n",
       "      <td>45</td>\n",
       "      <td>5.65</td>\n",
       "      <td>516.09</td>\n",
       "      <td>0.07</td>\n",
       "    </tr>\n",
       "    <tr>\n",
       "      <th>1</th>\n",
       "      <td>44</td>\n",
       "      <td>5.65</td>\n",
       "      <td>516.54</td>\n",
       "      <td>0.07</td>\n",
       "    </tr>\n",
       "    <tr>\n",
       "      <th>2</th>\n",
       "      <td>43</td>\n",
       "      <td>4.00</td>\n",
       "      <td>510.35</td>\n",
       "      <td>0.07</td>\n",
       "    </tr>\n",
       "    <tr>\n",
       "      <th>3</th>\n",
       "      <td>42</td>\n",
       "      <td>3.20</td>\n",
       "      <td>508.79</td>\n",
       "      <td>0.04</td>\n",
       "    </tr>\n",
       "    <tr>\n",
       "      <th>4</th>\n",
       "      <td>41</td>\n",
       "      <td>4.10</td>\n",
       "      <td>516.00</td>\n",
       "      <td>0.04</td>\n",
       "    </tr>\n",
       "  </tbody>\n",
       "</table>\n",
       "</div>"
      ],
      "text/plain": [
       "   days_to_mat   540  sp500_spot    rf\n",
       "0           45  5.65      516.09  0.07\n",
       "1           44  5.65      516.54  0.07\n",
       "2           43  4.00      510.35  0.07\n",
       "3           42  3.20      508.79  0.04\n",
       "4           41  4.10      516.00  0.04"
      ]
     },
     "execution_count": 21,
     "metadata": {},
     "output_type": "execute_result"
    }
   ],
   "source": [
    "isx_m45_E540 = isx_m45[['days_to_mat',540,'sp500_spot','rf']]\n",
    "isx_m45_E540.head()"
   ]
  },
  {
   "cell_type": "code",
   "execution_count": 22,
   "metadata": {},
   "outputs": [
    {
     "data": {
      "text/html": [
       "<div>\n",
       "<style scoped>\n",
       "    .dataframe tbody tr th:only-of-type {\n",
       "        vertical-align: middle;\n",
       "    }\n",
       "\n",
       "    .dataframe tbody tr th {\n",
       "        vertical-align: top;\n",
       "    }\n",
       "\n",
       "    .dataframe thead th {\n",
       "        text-align: right;\n",
       "    }\n",
       "</style>\n",
       "<table border=\"1\" class=\"dataframe\">\n",
       "  <thead>\n",
       "    <tr style=\"text-align: right;\">\n",
       "      <th></th>\n",
       "      <th>days_to_mat</th>\n",
       "      <th>540</th>\n",
       "      <th>sp500_spot</th>\n",
       "      <th>rf</th>\n",
       "      <th>implied_vola=540</th>\n",
       "      <th>delta=540</th>\n",
       "    </tr>\n",
       "  </thead>\n",
       "  <tbody>\n",
       "    <tr>\n",
       "      <th>0</th>\n",
       "      <td>45</td>\n",
       "      <td>5.65</td>\n",
       "      <td>516.09</td>\n",
       "      <td>0.07</td>\n",
       "      <td>1.778030e-01</td>\n",
       "      <td>0.289119</td>\n",
       "    </tr>\n",
       "    <tr>\n",
       "      <th>1</th>\n",
       "      <td>44</td>\n",
       "      <td>5.65</td>\n",
       "      <td>516.54</td>\n",
       "      <td>0.07</td>\n",
       "      <td>1.781358e-01</td>\n",
       "      <td>0.290890</td>\n",
       "    </tr>\n",
       "    <tr>\n",
       "      <th>2</th>\n",
       "      <td>43</td>\n",
       "      <td>4.00</td>\n",
       "      <td>510.35</td>\n",
       "      <td>0.07</td>\n",
       "      <td>1.796929e-01</td>\n",
       "      <td>0.226303</td>\n",
       "    </tr>\n",
       "    <tr>\n",
       "      <th>3</th>\n",
       "      <td>42</td>\n",
       "      <td>3.20</td>\n",
       "      <td>508.79</td>\n",
       "      <td>0.04</td>\n",
       "      <td>-2.572883e+12</td>\n",
       "      <td>0.000000</td>\n",
       "    </tr>\n",
       "    <tr>\n",
       "      <th>4</th>\n",
       "      <td>41</td>\n",
       "      <td>4.10</td>\n",
       "      <td>516.00</td>\n",
       "      <td>0.04</td>\n",
       "      <td>1.690803e-01</td>\n",
       "      <td>0.243642</td>\n",
       "    </tr>\n",
       "  </tbody>\n",
       "</table>\n",
       "</div>"
      ],
      "text/plain": [
       "   days_to_mat   540  sp500_spot    rf  implied_vola=540  delta=540\n",
       "0           45  5.65      516.09  0.07      1.778030e-01   0.289119\n",
       "1           44  5.65      516.54  0.07      1.781358e-01   0.290890\n",
       "2           43  4.00      510.35  0.07      1.796929e-01   0.226303\n",
       "3           42  3.20      508.79  0.04     -2.572883e+12   0.000000\n",
       "4           41  4.10      516.00  0.04      1.690803e-01   0.243642"
      ]
     },
     "execution_count": 22,
     "metadata": {},
     "output_type": "execute_result"
    }
   ],
   "source": [
    "isx_m45_E540['implied_vola=540'] = isx_m45_E540.apply(lambda row: implied_vola_rows(540,row), axis=1)\n",
    "isx_m45_E540['delta=540'] = isx_m45_E540.apply(lambda row: delta_rows(540,row), axis=1)\n",
    "isx_m45_E540.head()"
   ]
  },
  {
   "cell_type": "code",
   "execution_count": 23,
   "metadata": {},
   "outputs": [
    {
     "data": {
      "text/plain": [
       "Text(0.5, 0, 'Time')"
      ]
     },
     "execution_count": 23,
     "metadata": {},
     "output_type": "execute_result"
    },
    {
     "data": {
      "image/png": "[encoded data removed]",
      "text/plain": [
       "<Figure size 432x288 with 1 Axes>"
      ]
     },
     "metadata": {
      "needs_background": "light"
     },
     "output_type": "display_data"
    }
   ],
   "source": [
    "plt.plot(isx_m45_E540['delta=540'])\n",
    "plt.ylim(0, 1)\n",
    "plt.title('Delta, isx15012010C, E=540')\n",
    "plt.ylabel(\"Delta\")\n",
    "plt.xlabel(\"Time\")"
   ]
  },
  {
   "cell_type": "markdown",
   "metadata": {},
   "source": [
    "Computation of delta is not **stable**."
   ]
  },
  {
   "cell_type": "markdown",
   "metadata": {},
   "source": [
    "From this we can deduce that the the computation is stable for strikes approximately in range $[500,535]$"
   ]
  },
  {
   "cell_type": "markdown",
   "metadata": {},
   "source": [
    "### Results (isx15012010C, other strike prices)"
   ]
  },
  {
   "cell_type": "markdown",
   "metadata": {},
   "source": [
    "Choosing options with strikes prices such that we can establish some stability in the computations."
   ]
  },
  {
   "cell_type": "code",
   "execution_count": 24,
   "metadata": {},
   "outputs": [
    {
     "data": {
      "text/plain": [
       "array([500, 505, 510, 515, 520, 525, 530], dtype=object)"
      ]
     },
     "execution_count": 24,
     "metadata": {},
     "output_type": "execute_result"
    }
   ],
   "source": [
    "strikes = isx_m45.columns.values[2:49]\n",
    "strikes = strikes[32:-8]\n",
    "strikes"
   ]
  },
  {
   "cell_type": "markdown",
   "metadata": {},
   "source": [
    "Implied volatility and delta for all of the options in the dataframe (**computation heavy**). Solves $45\\cdot47=2115$ times the implied volatility problem by Newton's iteration."
   ]
  },
  {
   "cell_type": "code",
   "execution_count": 25,
   "metadata": {},
   "outputs": [
    {
     "name": "stdout",
     "output_type": "stream",
     "text": [
      ">> Implied volas and deltas computed.\n",
      ">> Time taken 8.772924423217773 s\n"
     ]
    }
   ],
   "source": [
    "dataf = volas_and_deltas_df(isx_m45,strikes)"
   ]
  },
  {
   "cell_type": "code",
   "execution_count": 26,
   "metadata": {},
   "outputs": [
    {
     "data": {
      "image/png": "[encoded data removed]",
      "text/plain": [
       "<Figure size 432x288 with 1 Axes>"
      ]
     },
     "metadata": {
      "needs_background": "light"
     },
     "output_type": "display_data"
    }
   ],
   "source": [
    "for E in strikes:\n",
    "    MSEs = [MSE_delta_for_freq_strike(E,x,dataf) for x in range(1,15)]\n",
    "    if E < sp500_spot:\n",
    "        # OTM: red\n",
    "        plt.plot(range(1,15),MSEs,'r-')\n",
    "    else:\n",
    "        # ITM: blue\n",
    "        plt.plot(range(1,15),MSEs,'b-')"
   ]
  },
  {
   "cell_type": "markdown",
   "metadata": {},
   "source": [
    "### Sanity checks with delta curves"
   ]
  },
  {
   "cell_type": "code",
   "execution_count": 27,
   "metadata": {},
   "outputs": [
    {
     "data": {
      "text/plain": [
       "Text(0.5, 0, 'Strike')"
      ]
     },
     "execution_count": 27,
     "metadata": {},
     "output_type": "execute_result"
    },
    {
     "data": {
      "image/png": "[encoded data removed]",
      "text/plain": [
       "<Figure size 432x288 with 1 Axes>"
      ]
     },
     "metadata": {
      "needs_background": "light"
     },
     "output_type": "display_data"
    }
   ],
   "source": [
    "deltas = ['days_to_mat'] + ['delta='+str(x) for x in strikes]\n",
    "delta_df = dataf[deltas].iloc[5:-1,]\n",
    "for d in range(1,len(delta_df)-10):\n",
    "    plt.plot(strikes,delta_df.iloc[d,1:].values)\n",
    "plt.title(\"Delta curves (isx15012010C)\")\n",
    "plt.ylabel(\"Delta\")\n",
    "plt.xlabel(\"Strike\")"
   ]
  },
  {
   "cell_type": "markdown",
   "metadata": {},
   "source": [
    "In above figure delta curve is plotted for each day. The curves become more steeper as the maturity approaches. Also the general shape of the curves is what we would expect for call delta: for in-the-money options, probability for the option to mature in the money high. For out-of-the-money options, this probability is low.\n",
    "\n",
    "Note that the above figure also highlights some computational **instability**."
   ]
  },
  {
   "cell_type": "code",
   "execution_count": 28,
   "metadata": {},
   "outputs": [
    {
     "data": {
      "text/html": [
       "<div>\n",
       "<style scoped>\n",
       "    .dataframe tbody tr th:only-of-type {\n",
       "        vertical-align: middle;\n",
       "    }\n",
       "\n",
       "    .dataframe tbody tr th {\n",
       "        vertical-align: top;\n",
       "    }\n",
       "\n",
       "    .dataframe thead th {\n",
       "        text-align: right;\n",
       "    }\n",
       "</style>\n",
       "<table border=\"1\" class=\"dataframe\">\n",
       "  <thead>\n",
       "    <tr style=\"text-align: right;\">\n",
       "      <th></th>\n",
       "      <th>days_to_mat</th>\n",
       "      <th>delta=500</th>\n",
       "      <th>delta=505</th>\n",
       "      <th>delta=510</th>\n",
       "      <th>delta=515</th>\n",
       "      <th>delta=520</th>\n",
       "      <th>delta=525</th>\n",
       "      <th>delta=530</th>\n",
       "    </tr>\n",
       "  </thead>\n",
       "  <tbody>\n",
       "    <tr>\n",
       "      <th>5</th>\n",
       "      <td>40</td>\n",
       "      <td>0.731711</td>\n",
       "      <td>0.676757</td>\n",
       "      <td>0.618443</td>\n",
       "      <td>0.551972</td>\n",
       "      <td>0.485888</td>\n",
       "      <td>0.420860</td>\n",
       "      <td>0.349956</td>\n",
       "    </tr>\n",
       "    <tr>\n",
       "      <th>6</th>\n",
       "      <td>39</td>\n",
       "      <td>0.740433</td>\n",
       "      <td>0.687157</td>\n",
       "      <td>0.629552</td>\n",
       "      <td>0.569169</td>\n",
       "      <td>0.503026</td>\n",
       "      <td>0.436180</td>\n",
       "      <td>0.369371</td>\n",
       "    </tr>\n",
       "    <tr>\n",
       "      <th>7</th>\n",
       "      <td>38</td>\n",
       "      <td>0.739149</td>\n",
       "      <td>0.686035</td>\n",
       "      <td>0.628579</td>\n",
       "      <td>0.568309</td>\n",
       "      <td>0.502320</td>\n",
       "      <td>0.435601</td>\n",
       "      <td>0.368905</td>\n",
       "    </tr>\n",
       "    <tr>\n",
       "      <th>8</th>\n",
       "      <td>37</td>\n",
       "      <td>0.645015</td>\n",
       "      <td>0.589907</td>\n",
       "      <td>0.531649</td>\n",
       "      <td>0.471509</td>\n",
       "      <td>0.408595</td>\n",
       "      <td>0.352179</td>\n",
       "      <td>0.296938</td>\n",
       "    </tr>\n",
       "    <tr>\n",
       "      <th>9</th>\n",
       "      <td>36</td>\n",
       "      <td>0.662156</td>\n",
       "      <td>0.622493</td>\n",
       "      <td>0.553228</td>\n",
       "      <td>0.496453</td>\n",
       "      <td>0.428537</td>\n",
       "      <td>0.364495</td>\n",
       "      <td>0.296604</td>\n",
       "    </tr>\n",
       "    <tr>\n",
       "      <th>10</th>\n",
       "      <td>35</td>\n",
       "      <td>0.736776</td>\n",
       "      <td>0.683666</td>\n",
       "      <td>0.621719</td>\n",
       "      <td>0.562602</td>\n",
       "      <td>0.496714</td>\n",
       "      <td>0.427757</td>\n",
       "      <td>0.359172</td>\n",
       "    </tr>\n",
       "    <tr>\n",
       "      <th>11</th>\n",
       "      <td>34</td>\n",
       "      <td>0.740289</td>\n",
       "      <td>0.682454</td>\n",
       "      <td>0.624965</td>\n",
       "      <td>0.553063</td>\n",
       "      <td>0.483258</td>\n",
       "      <td>0.414047</td>\n",
       "      <td>0.343336</td>\n",
       "    </tr>\n",
       "    <tr>\n",
       "      <th>12</th>\n",
       "      <td>33</td>\n",
       "      <td>0.693783</td>\n",
       "      <td>0.632942</td>\n",
       "      <td>0.568426</td>\n",
       "      <td>0.501840</td>\n",
       "      <td>0.433861</td>\n",
       "      <td>0.365617</td>\n",
       "      <td>0.303380</td>\n",
       "    </tr>\n",
       "    <tr>\n",
       "      <th>13</th>\n",
       "      <td>32</td>\n",
       "      <td>0.712392</td>\n",
       "      <td>0.657892</td>\n",
       "      <td>0.597617</td>\n",
       "      <td>0.532985</td>\n",
       "      <td>0.463956</td>\n",
       "      <td>0.393221</td>\n",
       "      <td>0.327623</td>\n",
       "    </tr>\n",
       "    <tr>\n",
       "      <th>14</th>\n",
       "      <td>31</td>\n",
       "      <td>0.702153</td>\n",
       "      <td>0.637409</td>\n",
       "      <td>0.583148</td>\n",
       "      <td>0.511683</td>\n",
       "      <td>0.439019</td>\n",
       "      <td>0.367802</td>\n",
       "      <td>0.301918</td>\n",
       "    </tr>\n",
       "    <tr>\n",
       "      <th>15</th>\n",
       "      <td>30</td>\n",
       "      <td>0.639389</td>\n",
       "      <td>0.573878</td>\n",
       "      <td>0.504535</td>\n",
       "      <td>0.434117</td>\n",
       "      <td>0.366276</td>\n",
       "      <td>0.310277</td>\n",
       "      <td>0.235762</td>\n",
       "    </tr>\n",
       "    <tr>\n",
       "      <th>16</th>\n",
       "      <td>29</td>\n",
       "      <td>0.670624</td>\n",
       "      <td>0.607670</td>\n",
       "      <td>0.536299</td>\n",
       "      <td>0.462808</td>\n",
       "      <td>0.382072</td>\n",
       "      <td>0.317377</td>\n",
       "      <td>0.246853</td>\n",
       "    </tr>\n",
       "    <tr>\n",
       "      <th>17</th>\n",
       "      <td>28</td>\n",
       "      <td>0.707828</td>\n",
       "      <td>0.639089</td>\n",
       "      <td>0.575149</td>\n",
       "      <td>0.498269</td>\n",
       "      <td>0.419116</td>\n",
       "      <td>0.342494</td>\n",
       "      <td>0.268231</td>\n",
       "    </tr>\n",
       "    <tr>\n",
       "      <th>18</th>\n",
       "      <td>27</td>\n",
       "      <td>0.703391</td>\n",
       "      <td>0.641766</td>\n",
       "      <td>0.578044</td>\n",
       "      <td>0.507649</td>\n",
       "      <td>0.432228</td>\n",
       "      <td>0.355954</td>\n",
       "      <td>0.280816</td>\n",
       "    </tr>\n",
       "    <tr>\n",
       "      <th>19</th>\n",
       "      <td>26</td>\n",
       "      <td>0.742887</td>\n",
       "      <td>0.681808</td>\n",
       "      <td>0.610285</td>\n",
       "      <td>0.533154</td>\n",
       "      <td>0.449765</td>\n",
       "      <td>0.365626</td>\n",
       "      <td>0.286945</td>\n",
       "    </tr>\n",
       "    <tr>\n",
       "      <th>20</th>\n",
       "      <td>25</td>\n",
       "      <td>0.686929</td>\n",
       "      <td>0.629884</td>\n",
       "      <td>0.560403</td>\n",
       "      <td>0.481021</td>\n",
       "      <td>0.397951</td>\n",
       "      <td>0.321531</td>\n",
       "      <td>0.235427</td>\n",
       "    </tr>\n",
       "    <tr>\n",
       "      <th>21</th>\n",
       "      <td>24</td>\n",
       "      <td>0.691550</td>\n",
       "      <td>0.630432</td>\n",
       "      <td>0.557316</td>\n",
       "      <td>0.477587</td>\n",
       "      <td>0.387501</td>\n",
       "      <td>0.303928</td>\n",
       "      <td>0.227559</td>\n",
       "    </tr>\n",
       "    <tr>\n",
       "      <th>22</th>\n",
       "      <td>23</td>\n",
       "      <td>0.607884</td>\n",
       "      <td>0.536032</td>\n",
       "      <td>0.455555</td>\n",
       "      <td>0.376619</td>\n",
       "      <td>0.291264</td>\n",
       "      <td>0.223755</td>\n",
       "      <td>1.000000</td>\n",
       "    </tr>\n",
       "    <tr>\n",
       "      <th>23</th>\n",
       "      <td>22</td>\n",
       "      <td>0.675085</td>\n",
       "      <td>0.593630</td>\n",
       "      <td>0.508127</td>\n",
       "      <td>0.413315</td>\n",
       "      <td>0.326250</td>\n",
       "      <td>0.239185</td>\n",
       "      <td>0.000000</td>\n",
       "    </tr>\n",
       "    <tr>\n",
       "      <th>24</th>\n",
       "      <td>21</td>\n",
       "      <td>0.783986</td>\n",
       "      <td>0.707000</td>\n",
       "      <td>0.613302</td>\n",
       "      <td>0.509886</td>\n",
       "      <td>0.399246</td>\n",
       "      <td>0.292209</td>\n",
       "      <td>1.000000</td>\n",
       "    </tr>\n",
       "    <tr>\n",
       "      <th>25</th>\n",
       "      <td>20</td>\n",
       "      <td>0.809525</td>\n",
       "      <td>0.718190</td>\n",
       "      <td>0.641713</td>\n",
       "      <td>0.535480</td>\n",
       "      <td>0.420184</td>\n",
       "      <td>0.303641</td>\n",
       "      <td>0.000000</td>\n",
       "    </tr>\n",
       "    <tr>\n",
       "      <th>26</th>\n",
       "      <td>19</td>\n",
       "      <td>0.796081</td>\n",
       "      <td>0.738826</td>\n",
       "      <td>0.645583</td>\n",
       "      <td>0.540630</td>\n",
       "      <td>0.422906</td>\n",
       "      <td>0.310868</td>\n",
       "      <td>0.207798</td>\n",
       "    </tr>\n",
       "    <tr>\n",
       "      <th>27</th>\n",
       "      <td>18</td>\n",
       "      <td>0.845363</td>\n",
       "      <td>0.796306</td>\n",
       "      <td>0.702836</td>\n",
       "      <td>0.602994</td>\n",
       "      <td>0.486706</td>\n",
       "      <td>0.364214</td>\n",
       "      <td>0.251025</td>\n",
       "    </tr>\n",
       "    <tr>\n",
       "      <th>28</th>\n",
       "      <td>17</td>\n",
       "      <td>0.885437</td>\n",
       "      <td>0.833999</td>\n",
       "      <td>0.730345</td>\n",
       "      <td>0.624503</td>\n",
       "      <td>0.502313</td>\n",
       "      <td>0.374729</td>\n",
       "      <td>0.257479</td>\n",
       "    </tr>\n",
       "    <tr>\n",
       "      <th>29</th>\n",
       "      <td>16</td>\n",
       "      <td>0.912838</td>\n",
       "      <td>0.847100</td>\n",
       "      <td>0.757243</td>\n",
       "      <td>0.652776</td>\n",
       "      <td>0.525341</td>\n",
       "      <td>0.385287</td>\n",
       "      <td>0.264117</td>\n",
       "    </tr>\n",
       "    <tr>\n",
       "      <th>30</th>\n",
       "      <td>15</td>\n",
       "      <td>0.913628</td>\n",
       "      <td>0.842826</td>\n",
       "      <td>0.753963</td>\n",
       "      <td>0.644213</td>\n",
       "      <td>0.512273</td>\n",
       "      <td>0.374198</td>\n",
       "      <td>0.246881</td>\n",
       "    </tr>\n",
       "    <tr>\n",
       "      <th>31</th>\n",
       "      <td>14</td>\n",
       "      <td>0.914161</td>\n",
       "      <td>0.846519</td>\n",
       "      <td>0.760775</td>\n",
       "      <td>0.651197</td>\n",
       "      <td>0.513732</td>\n",
       "      <td>0.367283</td>\n",
       "      <td>0.236587</td>\n",
       "    </tr>\n",
       "    <tr>\n",
       "      <th>32</th>\n",
       "      <td>13</td>\n",
       "      <td>0.785429</td>\n",
       "      <td>0.717596</td>\n",
       "      <td>0.635458</td>\n",
       "      <td>0.515526</td>\n",
       "      <td>0.387708</td>\n",
       "      <td>0.267120</td>\n",
       "      <td>0.000000</td>\n",
       "    </tr>\n",
       "    <tr>\n",
       "      <th>33</th>\n",
       "      <td>12</td>\n",
       "      <td>0.788442</td>\n",
       "      <td>0.720285</td>\n",
       "      <td>0.637937</td>\n",
       "      <td>0.517328</td>\n",
       "      <td>0.388925</td>\n",
       "      <td>0.267868</td>\n",
       "      <td>0.000000</td>\n",
       "    </tr>\n",
       "    <tr>\n",
       "      <th>34</th>\n",
       "      <td>11</td>\n",
       "      <td>1.000000</td>\n",
       "      <td>0.927665</td>\n",
       "      <td>0.861123</td>\n",
       "      <td>0.779237</td>\n",
       "      <td>0.635401</td>\n",
       "      <td>0.469502</td>\n",
       "      <td>0.304923</td>\n",
       "    </tr>\n",
       "    <tr>\n",
       "      <th>35</th>\n",
       "      <td>10</td>\n",
       "      <td>0.971350</td>\n",
       "      <td>0.000000</td>\n",
       "      <td>0.000000</td>\n",
       "      <td>0.850525</td>\n",
       "      <td>0.720088</td>\n",
       "      <td>0.531724</td>\n",
       "      <td>0.344618</td>\n",
       "    </tr>\n",
       "    <tr>\n",
       "      <th>36</th>\n",
       "      <td>9</td>\n",
       "      <td>0.934400</td>\n",
       "      <td>1.000000</td>\n",
       "      <td>0.932223</td>\n",
       "      <td>0.796429</td>\n",
       "      <td>0.680263</td>\n",
       "      <td>0.516800</td>\n",
       "      <td>0.329190</td>\n",
       "    </tr>\n",
       "    <tr>\n",
       "      <th>37</th>\n",
       "      <td>8</td>\n",
       "      <td>1.000000</td>\n",
       "      <td>0.952165</td>\n",
       "      <td>0.899515</td>\n",
       "      <td>0.854349</td>\n",
       "      <td>0.754763</td>\n",
       "      <td>0.585653</td>\n",
       "      <td>0.399542</td>\n",
       "    </tr>\n",
       "    <tr>\n",
       "      <th>38</th>\n",
       "      <td>7</td>\n",
       "      <td>0.938527</td>\n",
       "      <td>0.930279</td>\n",
       "      <td>0.900179</td>\n",
       "      <td>0.884534</td>\n",
       "      <td>0.808321</td>\n",
       "      <td>0.645732</td>\n",
       "      <td>0.430739</td>\n",
       "    </tr>\n",
       "    <tr>\n",
       "      <th>39</th>\n",
       "      <td>6</td>\n",
       "      <td>0.933502</td>\n",
       "      <td>1.000000</td>\n",
       "      <td>0.904073</td>\n",
       "      <td>0.866855</td>\n",
       "      <td>1.000000</td>\n",
       "      <td>0.686309</td>\n",
       "      <td>0.460162</td>\n",
       "    </tr>\n",
       "    <tr>\n",
       "      <th>40</th>\n",
       "      <td>5</td>\n",
       "      <td>0.907378</td>\n",
       "      <td>0.945398</td>\n",
       "      <td>0.861386</td>\n",
       "      <td>0.803199</td>\n",
       "      <td>0.684107</td>\n",
       "      <td>0.488856</td>\n",
       "      <td>0.236736</td>\n",
       "    </tr>\n",
       "    <tr>\n",
       "      <th>41</th>\n",
       "      <td>4</td>\n",
       "      <td>0.953333</td>\n",
       "      <td>0.941550</td>\n",
       "      <td>0.931402</td>\n",
       "      <td>0.875741</td>\n",
       "      <td>0.838691</td>\n",
       "      <td>0.699132</td>\n",
       "      <td>0.387735</td>\n",
       "    </tr>\n",
       "    <tr>\n",
       "      <th>42</th>\n",
       "      <td>3</td>\n",
       "      <td>0.911448</td>\n",
       "      <td>0.888770</td>\n",
       "      <td>0.964706</td>\n",
       "      <td>0.872812</td>\n",
       "      <td>0.921081</td>\n",
       "      <td>0.780713</td>\n",
       "      <td>0.490216</td>\n",
       "    </tr>\n",
       "    <tr>\n",
       "      <th>43</th>\n",
       "      <td>2</td>\n",
       "      <td>1.000000</td>\n",
       "      <td>0.965043</td>\n",
       "      <td>0.000000</td>\n",
       "      <td>1.000000</td>\n",
       "      <td>1.000000</td>\n",
       "      <td>0.000000</td>\n",
       "      <td>1.000000</td>\n",
       "    </tr>\n",
       "  </tbody>\n",
       "</table>\n",
       "</div>"
      ],
      "text/plain": [
       "    days_to_mat  delta=500  delta=505  delta=510  delta=515  delta=520  \\\n",
       "5            40   0.731711   0.676757   0.618443   0.551972   0.485888   \n",
       "6            39   0.740433   0.687157   0.629552   0.569169   0.503026   \n",
       "7            38   0.739149   0.686035   0.628579   0.568309   0.502320   \n",
       "8            37   0.645015   0.589907   0.531649   0.471509   0.408595   \n",
       "9            36   0.662156   0.622493   0.553228   0.496453   0.428537   \n",
       "10           35   0.736776   0.683666   0.621719   0.562602   0.496714   \n",
       "11           34   0.740289   0.682454   0.624965   0.553063   0.483258   \n",
       "12           33   0.693783   0.632942   0.568426   0.501840   0.433861   \n",
       "13           32   0.712392   0.657892   0.597617   0.532985   0.463956   \n",
       "14           31   0.702153   0.637409   0.583148   0.511683   0.439019   \n",
       "15           30   0.639389   0.573878   0.504535   0.434117   0.366276   \n",
       "16           29   0.670624   0.607670   0.536299   0.462808   0.382072   \n",
       "17           28   0.707828   0.639089   0.575149   0.498269   0.419116   \n",
       "18           27   0.703391   0.641766   0.578044   0.507649   0.432228   \n",
       "19           26   0.742887   0.681808   0.610285   0.533154   0.449765   \n",
       "20           25   0.686929   0.629884   0.560403   0.481021   0.397951   \n",
       "21           24   0.691550   0.630432   0.557316   0.477587   0.387501   \n",
       "22           23   0.607884   0.536032   0.455555   0.376619   0.291264   \n",
       "23           22   0.675085   0.593630   0.508127   0.413315   0.326250   \n",
       "24           21   0.783986   0.707000   0.613302   0.509886   0.399246   \n",
       "25           20   0.809525   0.718190   0.641713   0.535480   0.420184   \n",
       "26           19   0.796081   0.738826   0.645583   0.540630   0.422906   \n",
       "27           18   0.845363   0.796306   0.702836   0.602994   0.486706   \n",
       "28           17   0.885437   0.833999   0.730345   0.624503   0.502313   \n",
       "29           16   0.912838   0.847100   0.757243   0.652776   0.525341   \n",
       "30           15   0.913628   0.842826   0.753963   0.644213   0.512273   \n",
       "31           14   0.914161   0.846519   0.760775   0.651197   0.513732   \n",
       "32           13   0.785429   0.717596   0.635458   0.515526   0.387708   \n",
       "33           12   0.788442   0.720285   0.637937   0.517328   0.388925   \n",
       "34           11   1.000000   0.927665   0.861123   0.779237   0.635401   \n",
       "35           10   0.971350   0.000000   0.000000   0.850525   0.720088   \n",
       "36            9   0.934400   1.000000   0.932223   0.796429   0.680263   \n",
       "37            8   1.000000   0.952165   0.899515   0.854349   0.754763   \n",
       "38            7   0.938527   0.930279   0.900179   0.884534   0.808321   \n",
       "39            6   0.933502   1.000000   0.904073   0.866855   1.000000   \n",
       "40            5   0.907378   0.945398   0.861386   0.803199   0.684107   \n",
       "41            4   0.953333   0.941550   0.931402   0.875741   0.838691   \n",
       "42            3   0.911448   0.888770   0.964706   0.872812   0.921081   \n",
       "43            2   1.000000   0.965043   0.000000   1.000000   1.000000   \n",
       "\n",
       "    delta=525  delta=530  \n",
       "5    0.420860   0.349956  \n",
       "6    0.436180   0.369371  \n",
       "7    0.435601   0.368905  \n",
       "8    0.352179   0.296938  \n",
       "9    0.364495   0.296604  \n",
       "10   0.427757   0.359172  \n",
       "11   0.414047   0.343336  \n",
       "12   0.365617   0.303380  \n",
       "13   0.393221   0.327623  \n",
       "14   0.367802   0.301918  \n",
       "15   0.310277   0.235762  \n",
       "16   0.317377   0.246853  \n",
       "17   0.342494   0.268231  \n",
       "18   0.355954   0.280816  \n",
       "19   0.365626   0.286945  \n",
       "20   0.321531   0.235427  \n",
       "21   0.303928   0.227559  \n",
       "22   0.223755   1.000000  \n",
       "23   0.239185   0.000000  \n",
       "24   0.292209   1.000000  \n",
       "25   0.303641   0.000000  \n",
       "26   0.310868   0.207798  \n",
       "27   0.364214   0.251025  \n",
       "28   0.374729   0.257479  \n",
       "29   0.385287   0.264117  \n",
       "30   0.374198   0.246881  \n",
       "31   0.367283   0.236587  \n",
       "32   0.267120   0.000000  \n",
       "33   0.267868   0.000000  \n",
       "34   0.469502   0.304923  \n",
       "35   0.531724   0.344618  \n",
       "36   0.516800   0.329190  \n",
       "37   0.585653   0.399542  \n",
       "38   0.645732   0.430739  \n",
       "39   0.686309   0.460162  \n",
       "40   0.488856   0.236736  \n",
       "41   0.699132   0.387735  \n",
       "42   0.780713   0.490216  \n",
       "43   0.000000   1.000000  "
      ]
     },
     "execution_count": 28,
     "metadata": {},
     "output_type": "execute_result"
    }
   ],
   "source": [
    "delta_df"
   ]
  },
  {
   "cell_type": "markdown",
   "metadata": {},
   "source": [
    "### Results (isx19022010C)"
   ]
  },
  {
   "cell_type": "markdown",
   "metadata": {},
   "source": [
    "Testing options with maturity 15.01.2010."
   ]
  },
  {
   "cell_type": "code",
   "execution_count": 29,
   "metadata": {},
   "outputs": [
    {
     "data": {
      "text/html": [
       "<div>\n",
       "<style scoped>\n",
       "    .dataframe tbody tr th:only-of-type {\n",
       "        vertical-align: middle;\n",
       "    }\n",
       "\n",
       "    .dataframe tbody tr th {\n",
       "        vertical-align: top;\n",
       "    }\n",
       "\n",
       "    .dataframe thead th {\n",
       "        text-align: right;\n",
       "    }\n",
       "</style>\n",
       "<table border=\"1\" class=\"dataframe\">\n",
       "  <thead>\n",
       "    <tr style=\"text-align: right;\">\n",
       "      <th></th>\n",
       "      <th>days_to_mat</th>\n",
       "      <th>460</th>\n",
       "      <th>480</th>\n",
       "      <th>500</th>\n",
       "      <th>520</th>\n",
       "      <th>sp500_spot</th>\n",
       "      <th>rf</th>\n",
       "    </tr>\n",
       "  </thead>\n",
       "  <tbody>\n",
       "    <tr>\n",
       "      <th>0</th>\n",
       "      <td>90</td>\n",
       "      <td>53.45</td>\n",
       "      <td>38.25</td>\n",
       "      <td>25.25</td>\n",
       "      <td>15.05</td>\n",
       "      <td>506.75</td>\n",
       "      <td>0.07</td>\n",
       "    </tr>\n",
       "    <tr>\n",
       "      <th>1</th>\n",
       "      <td>89</td>\n",
       "      <td>53.30</td>\n",
       "      <td>38.25</td>\n",
       "      <td>25.20</td>\n",
       "      <td>14.90</td>\n",
       "      <td>504.52</td>\n",
       "      <td>0.07</td>\n",
       "    </tr>\n",
       "    <tr>\n",
       "      <th>2</th>\n",
       "      <td>88</td>\n",
       "      <td>49.60</td>\n",
       "      <td>34.85</td>\n",
       "      <td>22.30</td>\n",
       "      <td>12.70</td>\n",
       "      <td>500.24</td>\n",
       "      <td>0.07</td>\n",
       "    </tr>\n",
       "    <tr>\n",
       "      <th>3</th>\n",
       "      <td>87</td>\n",
       "      <td>53.10</td>\n",
       "      <td>37.80</td>\n",
       "      <td>24.75</td>\n",
       "      <td>14.40</td>\n",
       "      <td>504.84</td>\n",
       "      <td>0.07</td>\n",
       "    </tr>\n",
       "    <tr>\n",
       "      <th>4</th>\n",
       "      <td>86</td>\n",
       "      <td>49.40</td>\n",
       "      <td>34.70</td>\n",
       "      <td>22.25</td>\n",
       "      <td>12.70</td>\n",
       "      <td>500.00</td>\n",
       "      <td>0.07</td>\n",
       "    </tr>\n",
       "  </tbody>\n",
       "</table>\n",
       "</div>"
      ],
      "text/plain": [
       "   days_to_mat    460    480    500    520  sp500_spot    rf\n",
       "0           90  53.45  38.25  25.25  15.05      506.75  0.07\n",
       "1           89  53.30  38.25  25.20  14.90      504.52  0.07\n",
       "2           88  49.60  34.85  22.30  12.70      500.24  0.07\n",
       "3           87  53.10  37.80  24.75  14.40      504.84  0.07\n",
       "4           86  49.40  34.70  22.25  12.70      500.00  0.07"
      ]
     },
     "execution_count": 29,
     "metadata": {},
     "output_type": "execute_result"
    }
   ],
   "source": [
    "isx19022010C = get_sheet('isx19022010C')\n",
    "isx_1501_selected = isx19022010C[['days_to_mat',460,480,500,520,'sp500_spot','rf']]\n",
    "isx_1501_selected.head()"
   ]
  },
  {
   "cell_type": "markdown",
   "metadata": {},
   "source": [
    "Underlying during the period"
   ]
  },
  {
   "cell_type": "code",
   "execution_count": 30,
   "metadata": {},
   "outputs": [
    {
     "data": {
      "text/plain": [
       "Text(0, 0.5, 'Spot')"
      ]
     },
     "execution_count": 30,
     "metadata": {},
     "output_type": "execute_result"
    },
    {
     "data": {
      "image/png": "[encoded data removed]",
      "text/plain": [
       "<Figure size 432x288 with 1 Axes>"
      ]
     },
     "metadata": {
      "needs_background": "light"
     },
     "output_type": "display_data"
    }
   ],
   "source": [
    "plt.plot(isx_1501_selected['sp500_spot'])\n",
    "plt.title('S&P 500 index')\n",
    "plt.xlabel('t')\n",
    "plt.ylabel('Spot')"
   ]
  },
  {
   "cell_type": "code",
   "execution_count": 31,
   "metadata": {},
   "outputs": [
    {
     "name": "stdout",
     "output_type": "stream",
     "text": [
      ">> Implied volas and deltas computed.\n",
      ">> Time taken 34.93800377845764 s\n"
     ]
    }
   ],
   "source": [
    "strikes_s = [460,480,500,520]\n",
    "dafa_f_s = volas_and_deltas_df(isx_1501_selected,strikes_s)"
   ]
  },
  {
   "cell_type": "code",
   "execution_count": 32,
   "metadata": {},
   "outputs": [
    {
     "data": {
      "text/html": [
       "<div>\n",
       "<style scoped>\n",
       "    .dataframe tbody tr th:only-of-type {\n",
       "        vertical-align: middle;\n",
       "    }\n",
       "\n",
       "    .dataframe tbody tr th {\n",
       "        vertical-align: top;\n",
       "    }\n",
       "\n",
       "    .dataframe thead th {\n",
       "        text-align: right;\n",
       "    }\n",
       "</style>\n",
       "<table border=\"1\" class=\"dataframe\">\n",
       "  <thead>\n",
       "    <tr style=\"text-align: right;\">\n",
       "      <th></th>\n",
       "      <th>days_to_mat</th>\n",
       "      <th>460</th>\n",
       "      <th>480</th>\n",
       "      <th>500</th>\n",
       "      <th>520</th>\n",
       "      <th>sp500_spot</th>\n",
       "      <th>rf</th>\n",
       "      <th>implied_vola=460</th>\n",
       "      <th>delta=460</th>\n",
       "      <th>implied_vola=480</th>\n",
       "      <th>delta=480</th>\n",
       "      <th>implied_vola=500</th>\n",
       "      <th>delta=500</th>\n",
       "      <th>implied_vola=520</th>\n",
       "      <th>delta=520</th>\n",
       "    </tr>\n",
       "  </thead>\n",
       "  <tbody>\n",
       "    <tr>\n",
       "      <th>0</th>\n",
       "      <td>90</td>\n",
       "      <td>53.45</td>\n",
       "      <td>38.25</td>\n",
       "      <td>25.25</td>\n",
       "      <td>15.05</td>\n",
       "      <td>506.75</td>\n",
       "      <td>0.07</td>\n",
       "      <td>1.983775e+12</td>\n",
       "      <td>1.000000</td>\n",
       "      <td>0.150228</td>\n",
       "      <td>0.840294</td>\n",
       "      <td>0.166726</td>\n",
       "      <td>0.659776</td>\n",
       "      <td>0.170040</td>\n",
       "      <td>0.476456</td>\n",
       "    </tr>\n",
       "    <tr>\n",
       "      <th>1</th>\n",
       "      <td>89</td>\n",
       "      <td>53.30</td>\n",
       "      <td>38.25</td>\n",
       "      <td>25.20</td>\n",
       "      <td>14.90</td>\n",
       "      <td>504.52</td>\n",
       "      <td>0.07</td>\n",
       "      <td>1.469150e-01</td>\n",
       "      <td>0.938822</td>\n",
       "      <td>0.179259</td>\n",
       "      <td>0.788123</td>\n",
       "      <td>0.183212</td>\n",
       "      <td>0.630574</td>\n",
       "      <td>0.180412</td>\n",
       "      <td>0.458943</td>\n",
       "    </tr>\n",
       "    <tr>\n",
       "      <th>2</th>\n",
       "      <td>88</td>\n",
       "      <td>49.60</td>\n",
       "      <td>34.85</td>\n",
       "      <td>22.30</td>\n",
       "      <td>12.70</td>\n",
       "      <td>500.24</td>\n",
       "      <td>0.07</td>\n",
       "      <td>1.574312e-01</td>\n",
       "      <td>0.910177</td>\n",
       "      <td>0.179990</td>\n",
       "      <td>0.758811</td>\n",
       "      <td>0.181887</td>\n",
       "      <td>0.594446</td>\n",
       "      <td>0.178532</td>\n",
       "      <td>0.418558</td>\n",
       "    </tr>\n",
       "    <tr>\n",
       "      <th>3</th>\n",
       "      <td>87</td>\n",
       "      <td>53.10</td>\n",
       "      <td>37.80</td>\n",
       "      <td>24.75</td>\n",
       "      <td>14.40</td>\n",
       "      <td>504.84</td>\n",
       "      <td>0.07</td>\n",
       "      <td>1.358920e-01</td>\n",
       "      <td>0.954165</td>\n",
       "      <td>0.173280</td>\n",
       "      <td>0.798405</td>\n",
       "      <td>0.179493</td>\n",
       "      <td>0.634632</td>\n",
       "      <td>0.176710</td>\n",
       "      <td>0.457626</td>\n",
       "    </tr>\n",
       "    <tr>\n",
       "      <th>4</th>\n",
       "      <td>86</td>\n",
       "      <td>49.40</td>\n",
       "      <td>34.70</td>\n",
       "      <td>22.25</td>\n",
       "      <td>12.70</td>\n",
       "      <td>500.00</td>\n",
       "      <td>0.07</td>\n",
       "      <td>1.635057e-01</td>\n",
       "      <td>0.902871</td>\n",
       "      <td>0.184215</td>\n",
       "      <td>0.753545</td>\n",
       "      <td>0.186082</td>\n",
       "      <td>0.590084</td>\n",
       "      <td>0.182446</td>\n",
       "      <td>0.415915</td>\n",
       "    </tr>\n",
       "  </tbody>\n",
       "</table>\n",
       "</div>"
      ],
      "text/plain": [
       "   days_to_mat    460    480    500    520  sp500_spot    rf  \\\n",
       "0           90  53.45  38.25  25.25  15.05      506.75  0.07   \n",
       "1           89  53.30  38.25  25.20  14.90      504.52  0.07   \n",
       "2           88  49.60  34.85  22.30  12.70      500.24  0.07   \n",
       "3           87  53.10  37.80  24.75  14.40      504.84  0.07   \n",
       "4           86  49.40  34.70  22.25  12.70      500.00  0.07   \n",
       "\n",
       "   implied_vola=460  delta=460  implied_vola=480  delta=480  implied_vola=500  \\\n",
       "0      1.983775e+12   1.000000          0.150228   0.840294          0.166726   \n",
       "1      1.469150e-01   0.938822          0.179259   0.788123          0.183212   \n",
       "2      1.574312e-01   0.910177          0.179990   0.758811          0.181887   \n",
       "3      1.358920e-01   0.954165          0.173280   0.798405          0.179493   \n",
       "4      1.635057e-01   0.902871          0.184215   0.753545          0.186082   \n",
       "\n",
       "   delta=500  implied_vola=520  delta=520  \n",
       "0   0.659776          0.170040   0.476456  \n",
       "1   0.630574          0.180412   0.458943  \n",
       "2   0.594446          0.178532   0.418558  \n",
       "3   0.634632          0.176710   0.457626  \n",
       "4   0.590084          0.182446   0.415915  "
      ]
     },
     "execution_count": 32,
     "metadata": {},
     "output_type": "execute_result"
    }
   ],
   "source": [
    "dafa_f_s.head()"
   ]
  },
  {
   "cell_type": "markdown",
   "metadata": {},
   "source": [
    "Are the deltas **stable**?"
   ]
  },
  {
   "cell_type": "code",
   "execution_count": 33,
   "metadata": {},
   "outputs": [],
   "source": [
    "deltas_s = ['delta='+str(x) for x in strikes_s]\n",
    "delta_df_s = dafa_f_s[deltas_s]"
   ]
  },
  {
   "cell_type": "code",
   "execution_count": 34,
   "metadata": {},
   "outputs": [
    {
     "data": {
      "image/png": "[encoded data removed]",
      "text/plain": [
       "<Figure size 432x288 with 1 Axes>"
      ]
     },
     "metadata": {
      "needs_background": "light"
     },
     "output_type": "display_data"
    }
   ],
   "source": [
    "plt.ylim(0, 1)\n",
    "plt.title('Deltas, isx19022010C')\n",
    "plt.ylabel(\"Delta\")\n",
    "plt.xlabel(\"Time\")\n",
    "\n",
    "for E in strikes_s:\n",
    "    plt.plot(delta_df_s['delta='+str(E)])"
   ]
  },
  {
   "cell_type": "markdown",
   "metadata": {},
   "source": [
    "Nope."
   ]
  },
  {
   "cell_type": "code",
   "execution_count": 35,
   "metadata": {},
   "outputs": [
    {
     "data": {
      "text/plain": [
       "Text(0.5, 0, 'Time')"
      ]
     },
     "execution_count": 35,
     "metadata": {},
     "output_type": "execute_result"
    },
    {
     "data": {
      "image/png": "[encoded data removed]",
      "text/plain": [
       "<Figure size 432x288 with 1 Axes>"
      ]
     },
     "metadata": {
      "needs_background": "light"
     },
     "output_type": "display_data"
    }
   ],
   "source": [
    "plt.plot(delta_df_s['delta=500'])\n",
    "plt.ylim(0, 1)\n",
    "plt.title('Deltas, isx19022010C, E=500')\n",
    "plt.ylabel(\"Delta\")\n",
    "plt.xlabel(\"Time\")"
   ]
  },
  {
   "cell_type": "code",
   "execution_count": 36,
   "metadata": {},
   "outputs": [
    {
     "data": {
      "text/plain": [
       "Text(0.5, 0, 'Rehedging frequency')"
      ]
     },
     "execution_count": 36,
     "metadata": {},
     "output_type": "execute_result"
    },
    {
     "data": {
      "image/png": "[encoded data removed]",
      "text/plain": [
       "<Figure size 432x288 with 1 Axes>"
      ]
     },
     "metadata": {
      "needs_background": "light"
     },
     "output_type": "display_data"
    }
   ],
   "source": [
    "plt.plot(range(1,15),[MSE_delta_for_freq_strike(500,x,dafa_f_s) for x in range(1,15)])\n",
    "plt.title(\"isx19022010C, E=500\")\n",
    "plt.ylabel(\"MSE\")\n",
    "plt.xlabel(\"Rehedging frequency\")"
   ]
  },
  {
   "cell_type": "code",
   "execution_count": null,
   "metadata": {},
   "outputs": [],
   "source": []
  }
 ],
 "metadata": {
  "kernelspec": {
   "display_name": "Python 3",
   "language": "python",
   "name": "python3"
  },
  "language_info": {
   "codemirror_mode": {
    "name": "ipython",
    "version": 3
   },
   "file_extension": ".py",
   "mimetype": "text/x-python",
   "name": "python",
   "nbconvert_exporter": "python",
   "pygments_lexer": "ipython3",
   "version": "3.7.3"
  }
 },
 "nbformat": 4,
 "nbformat_minor": 2
}
