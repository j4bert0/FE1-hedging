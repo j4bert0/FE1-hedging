{
 "cells": [
  {
   "cell_type": "code",
   "execution_count": 15,
   "metadata": {},
   "outputs": [],
   "source": [
    "%%capture\n",
    "%run data.ipynb\n",
    "%run utils.ipynb\n",
    "import warnings\n",
    "warnings.filterwarnings(\"ignore\")"
   ]
  },
  {
   "cell_type": "markdown",
   "metadata": {},
   "source": [
    "Most of the utility functions are implemented in 'utils.ipynb'. Data set is described in 'data.ipynb'."
   ]
  },
  {
   "cell_type": "markdown",
   "metadata": {},
   "source": [
    "# Hedging"
   ]
  },
  {
   "cell_type": "markdown",
   "metadata": {},
   "source": [
    "The fundamental idea of hedging is to immunize the current position in derivative instruments against changes in the underlying asset. Hedging is set up by taking an opposite position in the underlying (i.e. long call, short asset). The size of the hedging positon is dependent on **the hedging strategy** used.\n",
    "\n",
    "Various hedging strategies are considered below."
   ]
  },
  {
   "cell_type": "markdown",
   "metadata": {},
   "source": [
    "### Accuracy of hedging"
   ]
  },
  {
   "cell_type": "markdown",
   "metadata": {},
   "source": [
    "Hedging strategy can be measured by the average accuracy of the hedge. Let $P_t$ be the derivative portfolio and $R_t$ the replicating (hedge) portfolio.\n",
    "\n",
    "$$MSE=\\frac{1}{N}\\sum_{i=1}^N\\big(dP_i-dR_i\\big)^2$$"
   ]
  },
  {
   "cell_type": "markdown",
   "metadata": {},
   "source": [
    "# Delta hedging (single option)"
   ]
  },
  {
   "cell_type": "markdown",
   "metadata": {},
   "source": [
    "Delta hedging is set up as following\n",
    "\n",
    "$$P_t=C_t-\\Delta_t S_t$$\n",
    "\n",
    "that is, portfolio $P_t$ consists being long call ($C_t:=$ price of an call at $t$) and short $\\Delta$-units of the underlying ($S_t:=$ price of the underlying at $t$).\n",
    "\n",
    "Now at time $t=0$, we form the portfolio\n",
    "\n",
    "$$P_0=C_0-\\Delta_0 S_0$$\n",
    "\n",
    "Given our **rehedging frequency** k, the portfolio is rehedged. That is new $\\Delta_{0+k}$ is calculated at time $t=k$ and corresponding portfolio $P_{0+k}$ is formed. Note: Variations in $C_t$ and $S_t$ are stochastic.\n",
    "\n",
    "Delta is calculated by solving **implied volatility** from $C_t$ and using this to compute $\\Delta_t$"
   ]
  },
  {
   "cell_type": "markdown",
   "metadata": {},
   "source": [
    "### Data"
   ]
  },
  {
   "cell_type": "markdown",
   "metadata": {},
   "source": [
    "Consider an at-the-money (ATM) option, maturing at 15.01.2010. As suggested in the assignment, let $t_0=$ 45 days to maturity."
   ]
  },
  {
   "cell_type": "code",
   "execution_count": 2,
   "metadata": {},
   "outputs": [
    {
     "data": {
      "text/plain": [
       "516.09"
      ]
     },
     "execution_count": 2,
     "metadata": {},
     "output_type": "execute_result"
    }
   ],
   "source": [
    "isx15012010C = get_sheet('isx15012010C')\n",
    "isx_m45 = isx15012010C[isx15012010C.shape[0]-45:].reset_index()\n",
    "sp500_spot = isx_m45.iloc[0]['sp500_spot'] # S&P500 spot\n",
    "sp500_spot"
   ]
  },
  {
   "cell_type": "markdown",
   "metadata": {},
   "source": [
    "Since at $t_0$: $S_0=516.09$, call with $E=515$ is closest we can get to ATM. However, price series for this option is not complete (consists NaN values). Hence $E=520$ is chosen, which is in-the-money (ITM)."
   ]
  },
  {
   "cell_type": "code",
   "execution_count": 3,
   "metadata": {},
   "outputs": [
    {
     "data": {
      "text/html": [
       "<div>\n",
       "<style scoped>\n",
       "    .dataframe tbody tr th:only-of-type {\n",
       "        vertical-align: middle;\n",
       "    }\n",
       "\n",
       "    .dataframe tbody tr th {\n",
       "        vertical-align: top;\n",
       "    }\n",
       "\n",
       "    .dataframe thead th {\n",
       "        text-align: right;\n",
       "    }\n",
       "</style>\n",
       "<table border=\"1\" class=\"dataframe\">\n",
       "  <thead>\n",
       "    <tr style=\"text-align: right;\">\n",
       "      <th></th>\n",
       "      <th>days_to_mat</th>\n",
       "      <th>520</th>\n",
       "      <th>sp500_spot</th>\n",
       "      <th>rf</th>\n",
       "    </tr>\n",
       "  </thead>\n",
       "  <tbody>\n",
       "    <tr>\n",
       "      <td>0</td>\n",
       "      <td>45</td>\n",
       "      <td>13.3</td>\n",
       "      <td>516.09</td>\n",
       "      <td>0.07</td>\n",
       "    </tr>\n",
       "    <tr>\n",
       "      <td>1</td>\n",
       "      <td>44</td>\n",
       "      <td>13.8</td>\n",
       "      <td>516.54</td>\n",
       "      <td>0.07</td>\n",
       "    </tr>\n",
       "    <tr>\n",
       "      <td>2</td>\n",
       "      <td>43</td>\n",
       "      <td>10.2</td>\n",
       "      <td>510.35</td>\n",
       "      <td>0.07</td>\n",
       "    </tr>\n",
       "    <tr>\n",
       "      <td>3</td>\n",
       "      <td>42</td>\n",
       "      <td>9.5</td>\n",
       "      <td>508.79</td>\n",
       "      <td>0.04</td>\n",
       "    </tr>\n",
       "    <tr>\n",
       "      <td>4</td>\n",
       "      <td>41</td>\n",
       "      <td>11.6</td>\n",
       "      <td>516.00</td>\n",
       "      <td>0.04</td>\n",
       "    </tr>\n",
       "  </tbody>\n",
       "</table>\n",
       "</div>"
      ],
      "text/plain": [
       "   days_to_mat   520  sp500_spot    rf\n",
       "0           45  13.3      516.09  0.07\n",
       "1           44  13.8      516.54  0.07\n",
       "2           43  10.2      510.35  0.07\n",
       "3           42   9.5      508.79  0.04\n",
       "4           41  11.6      516.00  0.04"
      ]
     },
     "execution_count": 3,
     "metadata": {},
     "output_type": "execute_result"
    }
   ],
   "source": [
    "isx_m45_E520 = isx_m45[['days_to_mat',520,'sp500_spot','rf']]\n",
    "isx_m45_E520.head()"
   ]
  },
  {
   "cell_type": "markdown",
   "metadata": {},
   "source": [
    "How did the underlying asset (S&P500 index) behave during the run time of the option?"
   ]
  },
  {
   "cell_type": "code",
   "execution_count": 4,
   "metadata": {},
   "outputs": [
    {
     "data": {
      "text/plain": [
       "Text(0, 0.5, 'Spot')"
      ]
     },
     "execution_count": 4,
     "metadata": {},
     "output_type": "execute_result"
    },
    {
     "data": {
      "image/png": "[encoded data removed]",
      "text/plain": [
       "<Figure size 432x288 with 1 Axes>"
      ]
     },
     "metadata": {
      "needs_background": "light"
     },
     "output_type": "display_data"
    }
   ],
   "source": [
    "plt.plot(isx_m45_E520['sp500_spot'])\n",
    "plt.title('S&P 500 index')\n",
    "plt.xlabel('t')\n",
    "plt.ylabel('Spot')"
   ]
  },
  {
   "cell_type": "markdown",
   "metadata": {},
   "source": [
    "### Results (isx15012010C, $E=520$)"
   ]
  },
  {
   "cell_type": "markdown",
   "metadata": {},
   "source": [
    "Solve implied volatility for each time step $t$."
   ]
  },
  {
   "cell_type": "code",
   "execution_count": 5,
   "metadata": {},
   "outputs": [],
   "source": [
    "# Rowwise computations of implied vola and delta\n",
    "def implied_vola_rows(E,row):  return solve_implied_vola(row[E],row['sp500_spot'],E,row['days_to_mat'],row['rf'])\n",
    "def delta_rows(E,row): return delta_call(row['sp500_spot'],E,row['days_to_mat'],row['rf'],row['implied_vola='+str(E)])"
   ]
  },
  {
   "cell_type": "code",
   "execution_count": 6,
   "metadata": {},
   "outputs": [],
   "source": [
    "isx_m45_E520['implied_vola=520'] = isx_m45_E520.apply(lambda row: implied_vola_rows(520,row), axis=1)"
   ]
  },
  {
   "cell_type": "markdown",
   "metadata": {},
   "source": [
    "Solve delta for each time step $t$."
   ]
  },
  {
   "cell_type": "code",
   "execution_count": 7,
   "metadata": {},
   "outputs": [],
   "source": [
    "isx_m45_E520['delta=520'] = isx_m45_E520.apply(lambda row: delta_rows(520,row), axis=1)\n",
    "isx_m45_E520_general = isx_m45_E520 # dataframe for general results"
   ]
  },
  {
   "cell_type": "markdown",
   "metadata": {},
   "source": [
    "Set rows for corresponding rehedging frequency. Here rehedging frequency $k=2$."
   ]
  },
  {
   "cell_type": "code",
   "execution_count": 8,
   "metadata": {},
   "outputs": [],
   "source": [
    "isx_m45_E520['delta_freq'] = set_rehedge_freq(2,isx_m45_E520['delta=520']) # rehedging frequency = 2\n",
    "isx_m45_E520['hedge_pos'] = isx_m45_E520.apply(lambda row: row['sp500_spot']*row['delta_freq'],axis=1)\n",
    "isx_m45_E520['change_P'] = isx_m45_E520[520].diff()\n",
    "isx_m45_E520['change_R'] = isx_m45_E520['hedge_pos'].diff()\n",
    "isx_m45_E520['MSE'] = isx_m45_E520.apply(lambda row: (row['change_P']-row['change_R'])**2,axis=1)"
   ]
  },
  {
   "cell_type": "code",
   "execution_count": 9,
   "metadata": {},
   "outputs": [
    {
     "data": {
      "text/html": [
       "<div>\n",
       "<style scoped>\n",
       "    .dataframe tbody tr th:only-of-type {\n",
       "        vertical-align: middle;\n",
       "    }\n",
       "\n",
       "    .dataframe tbody tr th {\n",
       "        vertical-align: top;\n",
       "    }\n",
       "\n",
       "    .dataframe thead th {\n",
       "        text-align: right;\n",
       "    }\n",
       "</style>\n",
       "<table border=\"1\" class=\"dataframe\">\n",
       "  <thead>\n",
       "    <tr style=\"text-align: right;\">\n",
       "      <th></th>\n",
       "      <th>days_to_mat</th>\n",
       "      <th>520</th>\n",
       "      <th>sp500_spot</th>\n",
       "      <th>rf</th>\n",
       "      <th>implied_vola=520</th>\n",
       "      <th>delta=520</th>\n",
       "      <th>delta_freq</th>\n",
       "      <th>hedge_pos</th>\n",
       "      <th>change_P</th>\n",
       "      <th>change_R</th>\n",
       "      <th>MSE</th>\n",
       "    </tr>\n",
       "  </thead>\n",
       "  <tbody>\n",
       "    <tr>\n",
       "      <td>0</td>\n",
       "      <td>45</td>\n",
       "      <td>13.3</td>\n",
       "      <td>516.09</td>\n",
       "      <td>0.07</td>\n",
       "      <td>0.181326</td>\n",
       "      <td>0.563495</td>\n",
       "      <td>0.563495</td>\n",
       "      <td>290.814063</td>\n",
       "      <td>NaN</td>\n",
       "      <td>NaN</td>\n",
       "      <td>NaN</td>\n",
       "    </tr>\n",
       "    <tr>\n",
       "      <td>1</td>\n",
       "      <td>44</td>\n",
       "      <td>13.8</td>\n",
       "      <td>516.54</td>\n",
       "      <td>0.07</td>\n",
       "      <td>0.187510</td>\n",
       "      <td>0.561783</td>\n",
       "      <td>0.563495</td>\n",
       "      <td>291.067635</td>\n",
       "      <td>0.5</td>\n",
       "      <td>0.253573</td>\n",
       "      <td>0.060726</td>\n",
       "    </tr>\n",
       "    <tr>\n",
       "      <td>2</td>\n",
       "      <td>43</td>\n",
       "      <td>10.2</td>\n",
       "      <td>510.35</td>\n",
       "      <td>0.07</td>\n",
       "      <td>0.187954</td>\n",
       "      <td>0.556205</td>\n",
       "      <td>0.556205</td>\n",
       "      <td>283.859201</td>\n",
       "      <td>-3.6</td>\n",
       "      <td>-7.208435</td>\n",
       "      <td>13.020800</td>\n",
       "    </tr>\n",
       "    <tr>\n",
       "      <td>3</td>\n",
       "      <td>42</td>\n",
       "      <td>9.5</td>\n",
       "      <td>508.79</td>\n",
       "      <td>0.04</td>\n",
       "      <td>0.202831</td>\n",
       "      <td>0.531685</td>\n",
       "      <td>0.556205</td>\n",
       "      <td>282.991521</td>\n",
       "      <td>-0.7</td>\n",
       "      <td>-0.867680</td>\n",
       "      <td>0.028116</td>\n",
       "    </tr>\n",
       "    <tr>\n",
       "      <td>4</td>\n",
       "      <td>41</td>\n",
       "      <td>11.6</td>\n",
       "      <td>516.00</td>\n",
       "      <td>0.04</td>\n",
       "      <td>0.181000</td>\n",
       "      <td>0.538508</td>\n",
       "      <td>0.538508</td>\n",
       "      <td>277.870385</td>\n",
       "      <td>2.1</td>\n",
       "      <td>-5.121136</td>\n",
       "      <td>52.144807</td>\n",
       "    </tr>\n",
       "  </tbody>\n",
       "</table>\n",
       "</div>"
      ],
      "text/plain": [
       "   days_to_mat   520  sp500_spot    rf  implied_vola=520  delta=520  \\\n",
       "0           45  13.3      516.09  0.07          0.181326   0.563495   \n",
       "1           44  13.8      516.54  0.07          0.187510   0.561783   \n",
       "2           43  10.2      510.35  0.07          0.187954   0.556205   \n",
       "3           42   9.5      508.79  0.04          0.202831   0.531685   \n",
       "4           41  11.6      516.00  0.04          0.181000   0.538508   \n",
       "\n",
       "   delta_freq   hedge_pos  change_P  change_R        MSE  \n",
       "0    0.563495  290.814063       NaN       NaN        NaN  \n",
       "1    0.563495  291.067635       0.5  0.253573   0.060726  \n",
       "2    0.556205  283.859201      -3.6 -7.208435  13.020800  \n",
       "3    0.556205  282.991521      -0.7 -0.867680   0.028116  \n",
       "4    0.538508  277.870385       2.1 -5.121136  52.144807  "
      ]
     },
     "execution_count": 9,
     "metadata": {},
     "output_type": "execute_result"
    }
   ],
   "source": [
    "isx_m45_E520.head()"
   ]
  },
  {
   "cell_type": "code",
   "execution_count": 10,
   "metadata": {},
   "outputs": [
    {
     "data": {
      "text/plain": [
       "14.243344485340224"
      ]
     },
     "execution_count": 10,
     "metadata": {},
     "output_type": "execute_result"
    }
   ],
   "source": [
    "isx_m45_E520['MSE'].sum()/isx_m45_E520['MSE'].count() # Average hedging (square) error"
   ]
  },
  {
   "cell_type": "markdown",
   "metadata": {},
   "source": [
    "Delta hedging isx15012010C, $E=520$ with rehedging frequency $k=2$: $MSE=14.24$\n",
    "\n",
    "With different rehedging frequencies:\n",
    "\n",
    "$k=3$"
   ]
  },
  {
   "cell_type": "code",
   "execution_count": 11,
   "metadata": {},
   "outputs": [
    {
     "data": {
      "text/html": [
       "<div>\n",
       "<style scoped>\n",
       "    .dataframe tbody tr th:only-of-type {\n",
       "        vertical-align: middle;\n",
       "    }\n",
       "\n",
       "    .dataframe tbody tr th {\n",
       "        vertical-align: top;\n",
       "    }\n",
       "\n",
       "    .dataframe thead th {\n",
       "        text-align: right;\n",
       "    }\n",
       "</style>\n",
       "<table border=\"1\" class=\"dataframe\">\n",
       "  <thead>\n",
       "    <tr style=\"text-align: right;\">\n",
       "      <th></th>\n",
       "      <th>days_to_mat</th>\n",
       "      <th>520</th>\n",
       "      <th>sp500_spot</th>\n",
       "      <th>rf</th>\n",
       "      <th>implied_vola=520</th>\n",
       "      <th>delta=520</th>\n",
       "      <th>delta_freq</th>\n",
       "      <th>hedge_pos</th>\n",
       "      <th>change_P</th>\n",
       "      <th>change_R</th>\n",
       "      <th>MSE</th>\n",
       "    </tr>\n",
       "  </thead>\n",
       "  <tbody>\n",
       "    <tr>\n",
       "      <td>0</td>\n",
       "      <td>45</td>\n",
       "      <td>13.30</td>\n",
       "      <td>516.09</td>\n",
       "      <td>0.07</td>\n",
       "      <td>0.181326</td>\n",
       "      <td>0.563495</td>\n",
       "      <td>0.563495</td>\n",
       "      <td>290.814063</td>\n",
       "      <td>NaN</td>\n",
       "      <td>NaN</td>\n",
       "      <td>NaN</td>\n",
       "    </tr>\n",
       "    <tr>\n",
       "      <td>1</td>\n",
       "      <td>44</td>\n",
       "      <td>13.80</td>\n",
       "      <td>516.54</td>\n",
       "      <td>0.07</td>\n",
       "      <td>0.187510</td>\n",
       "      <td>0.561783</td>\n",
       "      <td>0.563495</td>\n",
       "      <td>291.067635</td>\n",
       "      <td>0.50</td>\n",
       "      <td>0.253573</td>\n",
       "      <td>0.060726</td>\n",
       "    </tr>\n",
       "    <tr>\n",
       "      <td>2</td>\n",
       "      <td>43</td>\n",
       "      <td>10.20</td>\n",
       "      <td>510.35</td>\n",
       "      <td>0.07</td>\n",
       "      <td>0.187954</td>\n",
       "      <td>0.556205</td>\n",
       "      <td>0.563495</td>\n",
       "      <td>283.859201</td>\n",
       "      <td>-3.60</td>\n",
       "      <td>-7.208435</td>\n",
       "      <td>13.020800</td>\n",
       "    </tr>\n",
       "    <tr>\n",
       "      <td>3</td>\n",
       "      <td>42</td>\n",
       "      <td>9.50</td>\n",
       "      <td>508.79</td>\n",
       "      <td>0.04</td>\n",
       "      <td>0.202831</td>\n",
       "      <td>0.531685</td>\n",
       "      <td>0.531685</td>\n",
       "      <td>282.991521</td>\n",
       "      <td>-0.70</td>\n",
       "      <td>-0.867680</td>\n",
       "      <td>0.028116</td>\n",
       "    </tr>\n",
       "    <tr>\n",
       "      <td>4</td>\n",
       "      <td>41</td>\n",
       "      <td>11.60</td>\n",
       "      <td>516.00</td>\n",
       "      <td>0.04</td>\n",
       "      <td>0.181000</td>\n",
       "      <td>0.538508</td>\n",
       "      <td>0.531685</td>\n",
       "      <td>277.870385</td>\n",
       "      <td>2.10</td>\n",
       "      <td>-5.121136</td>\n",
       "      <td>52.144807</td>\n",
       "    </tr>\n",
       "    <tr>\n",
       "      <td>5</td>\n",
       "      <td>40</td>\n",
       "      <td>11.00</td>\n",
       "      <td>515.80</td>\n",
       "      <td>0.04</td>\n",
       "      <td>0.176458</td>\n",
       "      <td>0.538295</td>\n",
       "      <td>0.531685</td>\n",
       "      <td>277.762683</td>\n",
       "      <td>-0.60</td>\n",
       "      <td>-0.107702</td>\n",
       "      <td>0.242358</td>\n",
       "    </tr>\n",
       "    <tr>\n",
       "      <td>6</td>\n",
       "      <td>39</td>\n",
       "      <td>11.65</td>\n",
       "      <td>517.14</td>\n",
       "      <td>0.04</td>\n",
       "      <td>0.178096</td>\n",
       "      <td>0.538640</td>\n",
       "      <td>0.538640</td>\n",
       "      <td>278.552453</td>\n",
       "      <td>0.65</td>\n",
       "      <td>0.789770</td>\n",
       "      <td>0.019536</td>\n",
       "    </tr>\n",
       "  </tbody>\n",
       "</table>\n",
       "</div>"
      ],
      "text/plain": [
       "   days_to_mat    520  sp500_spot    rf  implied_vola=520  delta=520  \\\n",
       "0           45  13.30      516.09  0.07          0.181326   0.563495   \n",
       "1           44  13.80      516.54  0.07          0.187510   0.561783   \n",
       "2           43  10.20      510.35  0.07          0.187954   0.556205   \n",
       "3           42   9.50      508.79  0.04          0.202831   0.531685   \n",
       "4           41  11.60      516.00  0.04          0.181000   0.538508   \n",
       "5           40  11.00      515.80  0.04          0.176458   0.538295   \n",
       "6           39  11.65      517.14  0.04          0.178096   0.538640   \n",
       "\n",
       "   delta_freq   hedge_pos  change_P  change_R        MSE  \n",
       "0    0.563495  290.814063       NaN       NaN        NaN  \n",
       "1    0.563495  291.067635      0.50  0.253573   0.060726  \n",
       "2    0.563495  283.859201     -3.60 -7.208435  13.020800  \n",
       "3    0.531685  282.991521     -0.70 -0.867680   0.028116  \n",
       "4    0.531685  277.870385      2.10 -5.121136  52.144807  \n",
       "5    0.531685  277.762683     -0.60 -0.107702   0.242358  \n",
       "6    0.538640  278.552453      0.65  0.789770   0.019536  "
      ]
     },
     "execution_count": 11,
     "metadata": {},
     "output_type": "execute_result"
    }
   ],
   "source": [
    "isx_m45_E520['delta_freq'] = set_rehedge_freq(3,isx_m45_E520['delta=520'])\n",
    "isx_m45_E520[0:7]"
   ]
  },
  {
   "cell_type": "code",
   "execution_count": 12,
   "metadata": {},
   "outputs": [
    {
     "data": {
      "text/plain": [
       "12.783239763364037"
      ]
     },
     "execution_count": 12,
     "metadata": {},
     "output_type": "execute_result"
    }
   ],
   "source": [
    "isx_m45_E520['hedge_pos'] = isx_m45_E520.apply(lambda row: row['sp500_spot']*row['delta_freq'],axis=1)\n",
    "isx_m45_E520['change_P'] = isx_m45_E520[520].diff()\n",
    "isx_m45_E520['change_R'] = isx_m45_E520['hedge_pos'].diff()\n",
    "isx_m45_E520['MSE'] = isx_m45_E520.apply(lambda row: (row['change_P']-row['change_R'])**2,axis=1)\n",
    "isx_m45_E520['MSE'].sum()/isx_m45_E520['MSE'].count()"
   ]
  },
  {
   "cell_type": "markdown",
   "metadata": {},
   "source": [
    "To generalize the results, lets plot $MSE$ as a function of rehedging frequency $k$ for isx15012010C, $E=520$."
   ]
  },
  {
   "cell_type": "code",
   "execution_count": 17,
   "metadata": {},
   "outputs": [
    {
     "data": {
      "text/plain": [
       "Text(0.5, 0, 'Rehedging frequency')"
      ]
     },
     "execution_count": 17,
     "metadata": {},
     "output_type": "execute_result"
    },
    {
     "data": {
      "image/png": "[encoded data removed]",
      "text/plain": [
       "<Figure size 432x288 with 1 Axes>"
      ]
     },
     "metadata": {
      "needs_background": "light"
     },
     "output_type": "display_data"
    }
   ],
   "source": [
    "plt.plot(range(1,15),[MSE_delta_for_freq_strike(520,x,isx_m45_E520_general) for x in range(1,15)])\n",
    "plt.title(\"isx15012010C, E=520\")\n",
    "plt.ylabel(\"MSE\")\n",
    "plt.xlabel(\"Rehedging frequency\")"
   ]
  },
  {
   "cell_type": "markdown",
   "metadata": {},
   "source": [
    "### Results (isx15012010C, $E=360$)"
   ]
  },
  {
   "cell_type": "code",
   "execution_count": 18,
   "metadata": {},
   "outputs": [],
   "source": [
    "isx_m45_E360 = isx_m45[['days_to_mat',360,'sp500_spot','rf']]"
   ]
  },
  {
   "cell_type": "code",
   "execution_count": 19,
   "metadata": {},
   "outputs": [],
   "source": [
    "isx_m45_E360['implied_vola=360'] = isx_m45_E360.apply(lambda row: implied_vola_rows(360,row), axis=1)\n",
    "isx_m45_E360['delta=360'] = isx_m45_E360.apply(lambda row: delta_rows(360,row), axis=1)"
   ]
  },
  {
   "cell_type": "code",
   "execution_count": 21,
   "metadata": {},
   "outputs": [
    {
     "data": {
      "text/plain": [
       "Text(0.5, 0, 'Rehedging frequency')"
      ]
     },
     "execution_count": 21,
     "metadata": {},
     "output_type": "execute_result"
    },
    {
     "data": {
      "image/png": "[encoded data removed]",
      "text/plain": [
       "<Figure size 432x288 with 1 Axes>"
      ]
     },
     "metadata": {
      "needs_background": "light"
     },
     "output_type": "display_data"
    }
   ],
   "source": [
    "plt.plot(range(1,15),[MSE_delta_for_freq_strike(360,x,isx_m45_E360) for x in range(1,15)])\n",
    "plt.title(\"isx15012010C, E=360\")\n",
    "plt.ylabel(\"MSE\")\n",
    "plt.xlabel(\"Rehedging frequency\")"
   ]
  },
  {
   "cell_type": "markdown",
   "metadata": {},
   "source": [
    "### Results (isx15012010C, $E=400$)"
   ]
  },
  {
   "cell_type": "code",
   "execution_count": 22,
   "metadata": {},
   "outputs": [],
   "source": [
    "isx_m45_E400 = isx_m45[['days_to_mat',400,'sp500_spot','rf']]"
   ]
  },
  {
   "cell_type": "code",
   "execution_count": 23,
   "metadata": {},
   "outputs": [],
   "source": [
    "isx_m45_E400['implied_vola=400'] = isx_m45_E400.apply(lambda row: implied_vola_rows(400,row), axis=1)\n",
    "isx_m45_E400['delta=400'] = isx_m45_E400.apply(lambda row: delta_rows(400,row), axis=1)"
   ]
  },
  {
   "cell_type": "code",
   "execution_count": 25,
   "metadata": {},
   "outputs": [
    {
     "data": {
      "text/plain": [
       "Text(0.5, 0, 'Rehedging frequency')"
      ]
     },
     "execution_count": 25,
     "metadata": {},
     "output_type": "execute_result"
    },
    {
     "data": {
      "image/png": "[encoded data removed]",
      "text/plain": [
       "<Figure size 432x288 with 1 Axes>"
      ]
     },
     "metadata": {
      "needs_background": "light"
     },
     "output_type": "display_data"
    }
   ],
   "source": [
    "plt.plot(range(1,15),[MSE_delta_for_freq_strike(400,x,isx_m45_E400) for x in range(1,15)])\n",
    "plt.title(\"isx15012010C, E=400\")\n",
    "plt.ylabel(\"MSE\")\n",
    "plt.xlabel(\"Rehedging frequency\")"
   ]
  },
  {
   "cell_type": "markdown",
   "metadata": {},
   "source": [
    "### Results (isx15012010C, other strike prices)"
   ]
  },
  {
   "cell_type": "code",
   "execution_count": 26,
   "metadata": {},
   "outputs": [
    {
     "data": {
      "text/plain": [
       "array([490, 495, 500, 505, 510, 515, 520], dtype=object)"
      ]
     },
     "execution_count": 26,
     "metadata": {},
     "output_type": "execute_result"
    }
   ],
   "source": [
    "strikes = isx_m45.columns.values[1:49]\n",
    "strikes_ = strikes[1:-6] # Data for way ITM options seem to be corrupted. Hence OTM and ATM options are considered\n",
    "strikes_[30:37]"
   ]
  },
  {
   "cell_type": "markdown",
   "metadata": {},
   "source": [
    "Implied volatility and delta for all of the options in the dataframe (**computation heavy**). Solves $45\\cdot47=2115$ times the implied volatility problem by Newton's iteration."
   ]
  },
  {
   "cell_type": "code",
   "execution_count": 27,
   "metadata": {},
   "outputs": [
    {
     "name": "stdout",
     "output_type": "stream",
     "text": [
      ">> Implied volas and deltas computed.\n",
      ">> Time taken 7.245687484741211 s\n"
     ]
    }
   ],
   "source": [
    "dataf = volas_and_deltas_df(isx_m45,strikes_)"
   ]
  },
  {
   "cell_type": "code",
   "execution_count": 29,
   "metadata": {},
   "outputs": [
    {
     "data": {
      "image/png": "[encoded data removed]",
      "text/plain": [
       "<Figure size 432x288 with 1 Axes>"
      ]
     },
     "metadata": {
      "needs_background": "light"
     },
     "output_type": "display_data"
    }
   ],
   "source": [
    "for E in strikes_[5:37]:\n",
    "    if E < sp500_spot:\n",
    "        plt.plot(range(1,15),[MSE_delta_for_freq_strike(E,x,dataf) for x in range(1,15)],'r-')\n",
    "    else:\n",
    "        plt.plot(range(1,15),[MSE_delta_for_freq_strike(E,x,dataf) for x in range(1,15)],'b-')"
   ]
  },
  {
   "cell_type": "markdown",
   "metadata": {},
   "source": [
    "### Results (isx15012010C, $E=520$)"
   ]
  },
  {
   "cell_type": "code",
   "execution_count": 31,
   "metadata": {},
   "outputs": [
    {
     "data": {
      "text/html": [
       "<div>\n",
       "<style scoped>\n",
       "    .dataframe tbody tr th:only-of-type {\n",
       "        vertical-align: middle;\n",
       "    }\n",
       "\n",
       "    .dataframe tbody tr th {\n",
       "        vertical-align: top;\n",
       "    }\n",
       "\n",
       "    .dataframe thead th {\n",
       "        text-align: right;\n",
       "    }\n",
       "</style>\n",
       "<table border=\"1\" class=\"dataframe\">\n",
       "  <thead>\n",
       "    <tr style=\"text-align: right;\">\n",
       "      <th></th>\n",
       "      <th>days_to_mat</th>\n",
       "      <th>340</th>\n",
       "      <th>345</th>\n",
       "      <th>350</th>\n",
       "      <th>355</th>\n",
       "      <th>360</th>\n",
       "      <th>365</th>\n",
       "      <th>370</th>\n",
       "      <th>375</th>\n",
       "      <th>380</th>\n",
       "      <th>...</th>\n",
       "      <th>570</th>\n",
       "      <th>575</th>\n",
       "      <th>580</th>\n",
       "      <th>585</th>\n",
       "      <th>590</th>\n",
       "      <th>595</th>\n",
       "      <th>600</th>\n",
       "      <th>sp500_spot</th>\n",
       "      <th>rf</th>\n",
       "      <th>Unnamed: 56</th>\n",
       "    </tr>\n",
       "  </thead>\n",
       "  <tbody>\n",
       "    <tr>\n",
       "      <td>0</td>\n",
       "      <td>90</td>\n",
       "      <td>166.75</td>\n",
       "      <td>NaN</td>\n",
       "      <td>NaN</td>\n",
       "      <td>NaN</td>\n",
       "      <td>146.75</td>\n",
       "      <td>NaN</td>\n",
       "      <td>NaN</td>\n",
       "      <td>NaN</td>\n",
       "      <td>126.75</td>\n",
       "      <td>...</td>\n",
       "      <td>NaN</td>\n",
       "      <td>NaN</td>\n",
       "      <td>1.450</td>\n",
       "      <td>NaN</td>\n",
       "      <td>NaN</td>\n",
       "      <td>NaN</td>\n",
       "      <td>NaN</td>\n",
       "      <td>506.75</td>\n",
       "      <td>0.07</td>\n",
       "      <td>19.10.2009</td>\n",
       "    </tr>\n",
       "    <tr>\n",
       "      <td>1</td>\n",
       "      <td>89</td>\n",
       "      <td>165.95</td>\n",
       "      <td>NaN</td>\n",
       "      <td>NaN</td>\n",
       "      <td>NaN</td>\n",
       "      <td>146.05</td>\n",
       "      <td>NaN</td>\n",
       "      <td>NaN</td>\n",
       "      <td>NaN</td>\n",
       "      <td>126.15</td>\n",
       "      <td>...</td>\n",
       "      <td>NaN</td>\n",
       "      <td>NaN</td>\n",
       "      <td>1.375</td>\n",
       "      <td>NaN</td>\n",
       "      <td>NaN</td>\n",
       "      <td>NaN</td>\n",
       "      <td>NaN</td>\n",
       "      <td>504.52</td>\n",
       "      <td>0.07</td>\n",
       "      <td>20.10.2009</td>\n",
       "    </tr>\n",
       "    <tr>\n",
       "      <td>2</td>\n",
       "      <td>88</td>\n",
       "      <td>161.30</td>\n",
       "      <td>NaN</td>\n",
       "      <td>NaN</td>\n",
       "      <td>NaN</td>\n",
       "      <td>141.55</td>\n",
       "      <td>NaN</td>\n",
       "      <td>NaN</td>\n",
       "      <td>NaN</td>\n",
       "      <td>121.95</td>\n",
       "      <td>...</td>\n",
       "      <td>NaN</td>\n",
       "      <td>NaN</td>\n",
       "      <td>1.300</td>\n",
       "      <td>NaN</td>\n",
       "      <td>NaN</td>\n",
       "      <td>NaN</td>\n",
       "      <td>NaN</td>\n",
       "      <td>500.24</td>\n",
       "      <td>0.07</td>\n",
       "      <td>21.10.2009</td>\n",
       "    </tr>\n",
       "    <tr>\n",
       "      <td>3</td>\n",
       "      <td>87</td>\n",
       "      <td>165.90</td>\n",
       "      <td>NaN</td>\n",
       "      <td>NaN</td>\n",
       "      <td>NaN</td>\n",
       "      <td>146.00</td>\n",
       "      <td>NaN</td>\n",
       "      <td>NaN</td>\n",
       "      <td>NaN</td>\n",
       "      <td>126.30</td>\n",
       "      <td>...</td>\n",
       "      <td>NaN</td>\n",
       "      <td>NaN</td>\n",
       "      <td>1.150</td>\n",
       "      <td>NaN</td>\n",
       "      <td>NaN</td>\n",
       "      <td>NaN</td>\n",
       "      <td>NaN</td>\n",
       "      <td>504.84</td>\n",
       "      <td>0.07</td>\n",
       "      <td>22.10.2009</td>\n",
       "    </tr>\n",
       "    <tr>\n",
       "      <td>4</td>\n",
       "      <td>86</td>\n",
       "      <td>160.75</td>\n",
       "      <td>NaN</td>\n",
       "      <td>NaN</td>\n",
       "      <td>NaN</td>\n",
       "      <td>140.95</td>\n",
       "      <td>NaN</td>\n",
       "      <td>NaN</td>\n",
       "      <td>NaN</td>\n",
       "      <td>121.30</td>\n",
       "      <td>...</td>\n",
       "      <td>NaN</td>\n",
       "      <td>NaN</td>\n",
       "      <td>1.075</td>\n",
       "      <td>NaN</td>\n",
       "      <td>NaN</td>\n",
       "      <td>NaN</td>\n",
       "      <td>NaN</td>\n",
       "      <td>500.00</td>\n",
       "      <td>0.07</td>\n",
       "      <td>23.10.2009</td>\n",
       "    </tr>\n",
       "  </tbody>\n",
       "</table>\n",
       "<p>5 rows × 57 columns</p>\n",
       "</div>"
      ],
      "text/plain": [
       "   days_to_mat     340  345  350  355     360  365  370  375     380  ...  \\\n",
       "0           90  166.75  NaN  NaN  NaN  146.75  NaN  NaN  NaN  126.75  ...   \n",
       "1           89  165.95  NaN  NaN  NaN  146.05  NaN  NaN  NaN  126.15  ...   \n",
       "2           88  161.30  NaN  NaN  NaN  141.55  NaN  NaN  NaN  121.95  ...   \n",
       "3           87  165.90  NaN  NaN  NaN  146.00  NaN  NaN  NaN  126.30  ...   \n",
       "4           86  160.75  NaN  NaN  NaN  140.95  NaN  NaN  NaN  121.30  ...   \n",
       "\n",
       "   570  575    580  585  590  595  600  sp500_spot    rf  Unnamed: 56  \n",
       "0  NaN  NaN  1.450  NaN  NaN  NaN  NaN      506.75  0.07   19.10.2009  \n",
       "1  NaN  NaN  1.375  NaN  NaN  NaN  NaN      504.52  0.07   20.10.2009  \n",
       "2  NaN  NaN  1.300  NaN  NaN  NaN  NaN      500.24  0.07   21.10.2009  \n",
       "3  NaN  NaN  1.150  NaN  NaN  NaN  NaN      504.84  0.07   22.10.2009  \n",
       "4  NaN  NaN  1.075  NaN  NaN  NaN  NaN      500.00  0.07   23.10.2009  \n",
       "\n",
       "[5 rows x 57 columns]"
      ]
     },
     "execution_count": 31,
     "metadata": {},
     "output_type": "execute_result"
    }
   ],
   "source": [
    "isx19022010C = get_sheet('isx19022010C')\n",
    "isx_1501_selected = isx_m45[['days_to_mat',520,'sp500_spot','rf']]"
   ]
  },
  {
   "cell_type": "code",
   "execution_count": null,
   "metadata": {},
   "outputs": [],
   "source": []
  }
 ],
 "metadata": {
  "kernelspec": {
   "display_name": "Python 3",
   "language": "python",
   "name": "python3"
  },
  "language_info": {
   "codemirror_mode": {
    "name": "ipython",
    "version": 3
   },
   "file_extension": ".py",
   "mimetype": "text/x-python",
   "name": "python",
   "nbconvert_exporter": "python",
   "pygments_lexer": "ipython3",
   "version": "3.7.4"
  }
 },
 "nbformat": 4,
 "nbformat_minor": 2
}
