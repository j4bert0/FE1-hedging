{
 "cells": [
  {
   "cell_type": "code",
   "execution_count": 61,
   "metadata": {},
   "outputs": [],
   "source": [
    "%%capture\n",
    "%run utils.ipynb"
   ]
  },
  {
   "cell_type": "markdown",
   "metadata": {},
   "source": [
    "Most of the utility functions are implemented in 'utils.ipynb'. "
   ]
  },
  {
   "cell_type": "markdown",
   "metadata": {},
   "source": [
    "# Data"
   ]
  },
  {
   "cell_type": "markdown",
   "metadata": {},
   "source": [
    "S&P500 call options with different strike prices and maturities. \n",
    "* Sheets: different maturities (total 12)\n",
    "* Columns: different strike prices\n",
    "* Rows: time series of price evolution\n",
    "\n",
    "In addition\n",
    "* 1st column: days to maturity\n",
    "* 3rd last column: spot price of S&P500 index (1000 units)\n",
    "* 2nd last column: riskless interest rate\n",
    "\n",
    "Note: prices of call are per 1000 units (as are spot prices for underlying)"
   ]
  },
  {
   "cell_type": "code",
   "execution_count": 62,
   "metadata": {},
   "outputs": [],
   "source": [
    "xls = pd.ExcelFile('isx2010C.xls')\n",
    "isx15012010C = pd.read_excel(xls, 'isx15012010C')\n",
    "isx15012010C.rename(columns={isx15012010C.columns[0]:'days_to_mat',isx15012010C.columns[48]:'sp500_spot',isx15012010C.columns[49]:'rf'},inplace=True)"
   ]
  },
  {
   "cell_type": "markdown",
   "metadata": {},
   "source": [
    "For example data for call option maturing at 15.01.2010"
   ]
  },
  {
   "cell_type": "code",
   "execution_count": 63,
   "metadata": {},
   "outputs": [
    {
     "data": {
      "text/html": [
       "<div>\n",
       "<style scoped>\n",
       "    .dataframe tbody tr th:only-of-type {\n",
       "        vertical-align: middle;\n",
       "    }\n",
       "\n",
       "    .dataframe tbody tr th {\n",
       "        vertical-align: top;\n",
       "    }\n",
       "\n",
       "    .dataframe thead th {\n",
       "        text-align: right;\n",
       "    }\n",
       "</style>\n",
       "<table border=\"1\" class=\"dataframe\">\n",
       "  <thead>\n",
       "    <tr style=\"text-align: right;\">\n",
       "      <th></th>\n",
       "      <th>days_to_mat</th>\n",
       "      <th>340</th>\n",
       "      <th>345</th>\n",
       "      <th>350</th>\n",
       "      <th>355</th>\n",
       "      <th>360</th>\n",
       "      <th>365</th>\n",
       "      <th>370</th>\n",
       "      <th>375</th>\n",
       "      <th>380</th>\n",
       "      <th>...</th>\n",
       "      <th>540</th>\n",
       "      <th>545</th>\n",
       "      <th>550</th>\n",
       "      <th>555</th>\n",
       "      <th>560</th>\n",
       "      <th>565</th>\n",
       "      <th>570</th>\n",
       "      <th>sp500_spot</th>\n",
       "      <th>rf</th>\n",
       "      <th>date</th>\n",
       "    </tr>\n",
       "  </thead>\n",
       "  <tbody>\n",
       "    <tr>\n",
       "      <td>0</td>\n",
       "      <td>86</td>\n",
       "      <td>152.20</td>\n",
       "      <td>NaN</td>\n",
       "      <td>NaN</td>\n",
       "      <td>NaN</td>\n",
       "      <td>132.60</td>\n",
       "      <td>NaN</td>\n",
       "      <td>NaN</td>\n",
       "      <td>NaN</td>\n",
       "      <td>113.20</td>\n",
       "      <td>...</td>\n",
       "      <td>NaN</td>\n",
       "      <td>NaN</td>\n",
       "      <td>NaN</td>\n",
       "      <td>NaN</td>\n",
       "      <td>NaN</td>\n",
       "      <td>NaN</td>\n",
       "      <td>NaN</td>\n",
       "      <td>491.34</td>\n",
       "      <td>0.11</td>\n",
       "      <td>21.9.2009</td>\n",
       "    </tr>\n",
       "    <tr>\n",
       "      <td>1</td>\n",
       "      <td>85</td>\n",
       "      <td>155.05</td>\n",
       "      <td>NaN</td>\n",
       "      <td>NaN</td>\n",
       "      <td>NaN</td>\n",
       "      <td>135.35</td>\n",
       "      <td>NaN</td>\n",
       "      <td>NaN</td>\n",
       "      <td>NaN</td>\n",
       "      <td>115.90</td>\n",
       "      <td>...</td>\n",
       "      <td>NaN</td>\n",
       "      <td>NaN</td>\n",
       "      <td>NaN</td>\n",
       "      <td>NaN</td>\n",
       "      <td>NaN</td>\n",
       "      <td>NaN</td>\n",
       "      <td>NaN</td>\n",
       "      <td>494.35</td>\n",
       "      <td>0.11</td>\n",
       "      <td>22.9.2009</td>\n",
       "    </tr>\n",
       "    <tr>\n",
       "      <td>2</td>\n",
       "      <td>84</td>\n",
       "      <td>152.40</td>\n",
       "      <td>NaN</td>\n",
       "      <td>NaN</td>\n",
       "      <td>NaN</td>\n",
       "      <td>132.70</td>\n",
       "      <td>NaN</td>\n",
       "      <td>NaN</td>\n",
       "      <td>NaN</td>\n",
       "      <td>113.30</td>\n",
       "      <td>...</td>\n",
       "      <td>NaN</td>\n",
       "      <td>NaN</td>\n",
       "      <td>NaN</td>\n",
       "      <td>NaN</td>\n",
       "      <td>NaN</td>\n",
       "      <td>NaN</td>\n",
       "      <td>NaN</td>\n",
       "      <td>490.36</td>\n",
       "      <td>0.11</td>\n",
       "      <td>23.9.2009</td>\n",
       "    </tr>\n",
       "    <tr>\n",
       "      <td>3</td>\n",
       "      <td>83</td>\n",
       "      <td>147.00</td>\n",
       "      <td>NaN</td>\n",
       "      <td>NaN</td>\n",
       "      <td>NaN</td>\n",
       "      <td>127.25</td>\n",
       "      <td>NaN</td>\n",
       "      <td>NaN</td>\n",
       "      <td>NaN</td>\n",
       "      <td>108.05</td>\n",
       "      <td>...</td>\n",
       "      <td>NaN</td>\n",
       "      <td>NaN</td>\n",
       "      <td>NaN</td>\n",
       "      <td>NaN</td>\n",
       "      <td>NaN</td>\n",
       "      <td>NaN</td>\n",
       "      <td>NaN</td>\n",
       "      <td>486.99</td>\n",
       "      <td>0.11</td>\n",
       "      <td>24.9.2009</td>\n",
       "    </tr>\n",
       "    <tr>\n",
       "      <td>4</td>\n",
       "      <td>82</td>\n",
       "      <td>145.55</td>\n",
       "      <td>NaN</td>\n",
       "      <td>NaN</td>\n",
       "      <td>NaN</td>\n",
       "      <td>125.95</td>\n",
       "      <td>NaN</td>\n",
       "      <td>NaN</td>\n",
       "      <td>NaN</td>\n",
       "      <td>106.75</td>\n",
       "      <td>...</td>\n",
       "      <td>3.8</td>\n",
       "      <td>NaN</td>\n",
       "      <td>NaN</td>\n",
       "      <td>NaN</td>\n",
       "      <td>1525.0</td>\n",
       "      <td>NaN</td>\n",
       "      <td>NaN</td>\n",
       "      <td>484.11</td>\n",
       "      <td>0.11</td>\n",
       "      <td>25.9.2009</td>\n",
       "    </tr>\n",
       "  </tbody>\n",
       "</table>\n",
       "<p>5 rows × 51 columns</p>\n",
       "</div>"
      ],
      "text/plain": [
       "   days_to_mat     340  345  350  355     360  365  370  375     380  ...  \\\n",
       "0           86  152.20  NaN  NaN  NaN  132.60  NaN  NaN  NaN  113.20  ...   \n",
       "1           85  155.05  NaN  NaN  NaN  135.35  NaN  NaN  NaN  115.90  ...   \n",
       "2           84  152.40  NaN  NaN  NaN  132.70  NaN  NaN  NaN  113.30  ...   \n",
       "3           83  147.00  NaN  NaN  NaN  127.25  NaN  NaN  NaN  108.05  ...   \n",
       "4           82  145.55  NaN  NaN  NaN  125.95  NaN  NaN  NaN  106.75  ...   \n",
       "\n",
       "   540  545  550  555     560  565  570  sp500_spot    rf       date  \n",
       "0  NaN  NaN  NaN  NaN     NaN  NaN  NaN      491.34  0.11  21.9.2009  \n",
       "1  NaN  NaN  NaN  NaN     NaN  NaN  NaN      494.35  0.11  22.9.2009  \n",
       "2  NaN  NaN  NaN  NaN     NaN  NaN  NaN      490.36  0.11  23.9.2009  \n",
       "3  NaN  NaN  NaN  NaN     NaN  NaN  NaN      486.99  0.11  24.9.2009  \n",
       "4  3.8  NaN  NaN  NaN  1525.0  NaN  NaN      484.11  0.11  25.9.2009  \n",
       "\n",
       "[5 rows x 51 columns]"
      ]
     },
     "execution_count": 63,
     "metadata": {},
     "output_type": "execute_result"
    }
   ],
   "source": [
    "isx15012010C.head()"
   ]
  },
  {
   "cell_type": "markdown",
   "metadata": {},
   "source": [
    "# Hedging"
   ]
  },
  {
   "cell_type": "markdown",
   "metadata": {},
   "source": [
    "The fundamental idea of hedging is to immunize the current position in derivative instruments against changes in the underlying asset. Hedging is set up by taking an opposite position in the underlying (i.e. long call, short asset). The size of the hedging positon is dependent on **the hedging strategy** used.\n",
    "\n",
    "Various hedging strategies are considered below."
   ]
  },
  {
   "cell_type": "markdown",
   "metadata": {},
   "source": [
    "### Accuracy of hedging"
   ]
  },
  {
   "cell_type": "markdown",
   "metadata": {},
   "source": [
    "Hedging strategy can be measured by the average accuracy of the hedge. Let $P_t$ be the derivative portfolio and $R_t$ the replicating (hedge) portfolio.\n",
    "\n",
    "$$E=\\frac{1}{N}\\sum_{i=1}^N\\bigg((C_i-C_{i-1})-\\Delta_{i-1}(S_i-S_{i-1})\\bigg)^2$$"
   ]
  },
  {
   "cell_type": "markdown",
   "metadata": {},
   "source": [
    "# Delta hedging (single option)"
   ]
  },
  {
   "cell_type": "markdown",
   "metadata": {},
   "source": [
    "Delta hedging is set up as following\n",
    "\n",
    "$$P_t=C_t-\\Delta_t S_t$$\n",
    "\n",
    "that is, portfolio $P_t$ consists being long call ($C_t:=$ price of an call at $t$) and short $\\Delta$-units of the underlying ($S_t:=$ price of the underlying at $t$).\n",
    "\n",
    "Now at time $t=0$, we form the portfolio\n",
    "\n",
    "$$P_0=C_0-\\Delta_0 S_0$$\n",
    "\n",
    "Given our **rehedging frequency** k, the portfolio is rehedged. That is new $\\Delta_{0+k}$ is calculated and corredponding portfolio $P_{0+k}$ is formed. Note: Variations in $C_{0+k}$ and $S_{0+k}$ are stochastic.\n",
    "\n",
    "Delta is calculated by solving **implied volatility** from $C_t$ and using this to compute $\\Delta_t$"
   ]
  },
  {
   "cell_type": "markdown",
   "metadata": {},
   "source": [
    "### Data"
   ]
  },
  {
   "cell_type": "markdown",
   "metadata": {},
   "source": [
    "Consider an at-the-money (ATM) option, maturing at 15.01.2010. As suggested in the assignment, let $t_0=$ 45 days to maturity."
   ]
  },
  {
   "cell_type": "code",
   "execution_count": 64,
   "metadata": {},
   "outputs": [
    {
     "data": {
      "text/plain": [
       "516.09"
      ]
     },
     "execution_count": 64,
     "metadata": {},
     "output_type": "execute_result"
    }
   ],
   "source": [
    "isx_m45 = isx15012010C[isx15012010C.shape[0]-45:]\n",
    "isx_m45.iloc[0]['sp500_spot'] # S&P500 spot"
   ]
  },
  {
   "cell_type": "markdown",
   "metadata": {},
   "source": [
    "Since at $t_0$: $S_0=516.09$, call with $E=515$ is closest we can get to ATM. Unfortunately, price series for this options is not complete (consists NaN values). Hence $E=520$ is chosen, which is in-the-money (ITM)."
   ]
  },
  {
   "cell_type": "code",
   "execution_count": 70,
   "metadata": {},
   "outputs": [
    {
     "data": {
      "text/html": [
       "<div>\n",
       "<style scoped>\n",
       "    .dataframe tbody tr th:only-of-type {\n",
       "        vertical-align: middle;\n",
       "    }\n",
       "\n",
       "    .dataframe tbody tr th {\n",
       "        vertical-align: top;\n",
       "    }\n",
       "\n",
       "    .dataframe thead th {\n",
       "        text-align: right;\n",
       "    }\n",
       "</style>\n",
       "<table border=\"1\" class=\"dataframe\">\n",
       "  <thead>\n",
       "    <tr style=\"text-align: right;\">\n",
       "      <th></th>\n",
       "      <th>days_to_mat</th>\n",
       "      <th>520</th>\n",
       "      <th>sp500_spot</th>\n",
       "      <th>rf</th>\n",
       "    </tr>\n",
       "  </thead>\n",
       "  <tbody>\n",
       "    <tr>\n",
       "      <td>41</td>\n",
       "      <td>45</td>\n",
       "      <td>13.3</td>\n",
       "      <td>516.09</td>\n",
       "      <td>0.07</td>\n",
       "    </tr>\n",
       "    <tr>\n",
       "      <td>42</td>\n",
       "      <td>44</td>\n",
       "      <td>13.8</td>\n",
       "      <td>516.54</td>\n",
       "      <td>0.07</td>\n",
       "    </tr>\n",
       "    <tr>\n",
       "      <td>43</td>\n",
       "      <td>43</td>\n",
       "      <td>10.2</td>\n",
       "      <td>510.35</td>\n",
       "      <td>0.07</td>\n",
       "    </tr>\n",
       "    <tr>\n",
       "      <td>44</td>\n",
       "      <td>42</td>\n",
       "      <td>9.5</td>\n",
       "      <td>508.79</td>\n",
       "      <td>0.04</td>\n",
       "    </tr>\n",
       "    <tr>\n",
       "      <td>45</td>\n",
       "      <td>41</td>\n",
       "      <td>11.6</td>\n",
       "      <td>516.00</td>\n",
       "      <td>0.04</td>\n",
       "    </tr>\n",
       "  </tbody>\n",
       "</table>\n",
       "</div>"
      ],
      "text/plain": [
       "    days_to_mat   520  sp500_spot    rf\n",
       "41           45  13.3      516.09  0.07\n",
       "42           44  13.8      516.54  0.07\n",
       "43           43  10.2      510.35  0.07\n",
       "44           42   9.5      508.79  0.04\n",
       "45           41  11.6      516.00  0.04"
      ]
     },
     "execution_count": 70,
     "metadata": {},
     "output_type": "execute_result"
    }
   ],
   "source": [
    "isx_m45_E515 = isx_m45[['days_to_mat',520,'sp500_spot','rf']]\n",
    "isx_m45_E515.head()"
   ]
  },
  {
   "cell_type": "markdown",
   "metadata": {},
   "source": [
    "### Results"
   ]
  },
  {
   "cell_type": "code",
   "execution_count": 83,
   "metadata": {},
   "outputs": [
    {
     "name": "stdout",
     "output_type": "stream",
     "text": [
      "Maximum iterations reached. Solution is NOT within the error bound.\n"
     ]
    }
   ],
   "source": [
    "pd.options.mode.chained_assignment = None # suppress SettingWithCopy warning\n",
    "\n",
    "implied_vola_rows = lambda row: solve_implied_vola(row[520],row['sp500_spot'],520,row['days_to_mat'],row['rf'])\n",
    "isx_m45_E515['implied_vola'] = isx_m45_E515.apply(implied_vola_rows, axis=1).values"
   ]
  },
  {
   "cell_type": "code",
   "execution_count": 80,
   "metadata": {},
   "outputs": [],
   "source": [
    "delta_rows = lambda row: delta_call(row['sp500_spot'],520,row['days_to_mat'],row['rf'],row['implied_vola'])\n",
    "isx_m45_E515['delta'] = isx_m45_E515.apply(delta_rows, axis=1)"
   ]
  },
  {
   "cell_type": "code",
   "execution_count": 81,
   "metadata": {},
   "outputs": [
    {
     "data": {
      "text/html": [
       "<div>\n",
       "<style scoped>\n",
       "    .dataframe tbody tr th:only-of-type {\n",
       "        vertical-align: middle;\n",
       "    }\n",
       "\n",
       "    .dataframe tbody tr th {\n",
       "        vertical-align: top;\n",
       "    }\n",
       "\n",
       "    .dataframe thead th {\n",
       "        text-align: right;\n",
       "    }\n",
       "</style>\n",
       "<table border=\"1\" class=\"dataframe\">\n",
       "  <thead>\n",
       "    <tr style=\"text-align: right;\">\n",
       "      <th></th>\n",
       "      <th>days_to_mat</th>\n",
       "      <th>520</th>\n",
       "      <th>sp500_spot</th>\n",
       "      <th>rf</th>\n",
       "      <th>implied_vola</th>\n",
       "      <th>delta</th>\n",
       "    </tr>\n",
       "  </thead>\n",
       "  <tbody>\n",
       "    <tr>\n",
       "      <td>41</td>\n",
       "      <td>45</td>\n",
       "      <td>13.3</td>\n",
       "      <td>516.09</td>\n",
       "      <td>0.07</td>\n",
       "      <td>0.181326</td>\n",
       "      <td>0.563495</td>\n",
       "    </tr>\n",
       "    <tr>\n",
       "      <td>42</td>\n",
       "      <td>44</td>\n",
       "      <td>13.8</td>\n",
       "      <td>516.54</td>\n",
       "      <td>0.07</td>\n",
       "      <td>0.187510</td>\n",
       "      <td>0.561783</td>\n",
       "    </tr>\n",
       "    <tr>\n",
       "      <td>43</td>\n",
       "      <td>43</td>\n",
       "      <td>10.2</td>\n",
       "      <td>510.35</td>\n",
       "      <td>0.07</td>\n",
       "      <td>0.187954</td>\n",
       "      <td>0.556205</td>\n",
       "    </tr>\n",
       "    <tr>\n",
       "      <td>44</td>\n",
       "      <td>42</td>\n",
       "      <td>9.5</td>\n",
       "      <td>508.79</td>\n",
       "      <td>0.04</td>\n",
       "      <td>0.202831</td>\n",
       "      <td>0.531685</td>\n",
       "    </tr>\n",
       "    <tr>\n",
       "      <td>45</td>\n",
       "      <td>41</td>\n",
       "      <td>11.6</td>\n",
       "      <td>516.00</td>\n",
       "      <td>0.04</td>\n",
       "      <td>0.181000</td>\n",
       "      <td>0.538508</td>\n",
       "    </tr>\n",
       "  </tbody>\n",
       "</table>\n",
       "</div>"
      ],
      "text/plain": [
       "    days_to_mat   520  sp500_spot    rf  implied_vola     delta\n",
       "41           45  13.3      516.09  0.07      0.181326  0.563495\n",
       "42           44  13.8      516.54  0.07      0.187510  0.561783\n",
       "43           43  10.2      510.35  0.07      0.187954  0.556205\n",
       "44           42   9.5      508.79  0.04      0.202831  0.531685\n",
       "45           41  11.6      516.00  0.04      0.181000  0.538508"
      ]
     },
     "execution_count": 81,
     "metadata": {},
     "output_type": "execute_result"
    }
   ],
   "source": [
    "isx_m45_E515.head()"
   ]
  },
  {
   "cell_type": "code",
   "execution_count": null,
   "metadata": {},
   "outputs": [],
   "source": []
  }
 ],
 "metadata": {
  "kernelspec": {
   "display_name": "Python 3",
   "language": "python",
   "name": "python3"
  },
  "language_info": {
   "codemirror_mode": {
    "name": "ipython",
    "version": 3
   },
   "file_extension": ".py",
   "mimetype": "text/x-python",
   "name": "python",
   "nbconvert_exporter": "python",
   "pygments_lexer": "ipython3",
   "version": "3.7.4"
  }
 },
 "nbformat": 4,
 "nbformat_minor": 2
}
