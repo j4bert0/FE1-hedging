{
 "cells": [
  {
   "cell_type": "code",
   "execution_count": 78,
   "metadata": {},
   "outputs": [],
   "source": [
    "import pandas as pd\n",
    "import numpy as np\n",
    "from scipy.stats import norm\n",
    "import matplotlib.pyplot as plt"
   ]
  },
  {
   "cell_type": "markdown",
   "metadata": {},
   "source": [
    "# Numerical methods"
   ]
  },
  {
   "cell_type": "markdown",
   "metadata": {},
   "source": [
    "Solving the hedging problem, we need numerical methods. In particular, methods for solving equations of form $f(x)=0$. Two routines are implemented here: Newton's method and Bisection method."
   ]
  },
  {
   "cell_type": "markdown",
   "metadata": {},
   "source": [
    "### Newton's method"
   ]
  },
  {
   "cell_type": "code",
   "execution_count": null,
   "metadata": {},
   "outputs": [],
   "source": []
  },
  {
   "cell_type": "markdown",
   "metadata": {},
   "source": [
    "### Bisection method"
   ]
  },
  {
   "cell_type": "markdown",
   "metadata": {},
   "source": [
    "Bisection method is implemented for testing purposes. When solving implied volatility, bisection method has an obvious weakness: choosing the initial interval $I=[a,b]$."
   ]
  },
  {
   "cell_type": "code",
   "execution_count": 106,
   "metadata": {},
   "outputs": [],
   "source": [
    "def bisection_method(f,I,e=10**-5,N=10000):\n",
    "    # f: function, f(x) = 0 # I: interval [a,b]\n",
    "    # e: acceptable error # N: max iterations\n",
    "    close_to = lambda x: (x > -e and x < e)\n",
    "    a = I[0]\n",
    "    b = I[1]\n",
    "    for i in range(1,N+1):\n",
    "        m = (a+b)/2\n",
    "        if close_to(f(m)):\n",
    "            return m\n",
    "        elif f(a)*f(m) < 0:\n",
    "            b = m\n",
    "        else:\n",
    "            a = m\n",
    "    print('Maximum iterations reached. Solution is NOT within the error bound.')\n",
    "    return m"
   ]
  },
  {
   "cell_type": "markdown",
   "metadata": {},
   "source": [
    "### Working examples"
   ]
  },
  {
   "cell_type": "code",
   "execution_count": 72,
   "metadata": {},
   "outputs": [],
   "source": [
    "f = lambda x: 3*x**2-8*x+2"
   ]
  },
  {
   "cell_type": "markdown",
   "metadata": {},
   "source": [
    "# Pricing derivatives"
   ]
  },
  {
   "cell_type": "code",
   "execution_count": null,
   "metadata": {},
   "outputs": [],
   "source": [
    "def d1(S,E,T,r,v): return np.log(S/E)+(r+v**2/2)*T)/(v*np.sqrt(T)\n",
    "def d2(S,E,T,r,v): return d1(S,E,T,r,v)-v*np.sqrt(T)\n",
    "\n",
    "def price_call_BS(S,E,T,r,v):\n",
    "    # S: price of the underlying, E: excercise price, \n",
    "    # T: days to maturity, v: volatility (sigma)\n",
    "    T = T/365\n",
    "    d1 = d1(S,E,T,r,v)\n",
    "    d2 = d2(S,E,T,r,v)\n",
    "    return S*norm.cdf(d1)-E*np.exp(-r*T)*norm.cdf(d2)\n",
    "    \n",
    "def solve_implied_vola_BS(C_obs,S,E,T,r):\n",
    "    I=(1**-10,10^10)\n",
    "    C = lambda v: C_obs - price_call_BS(S,E,T,r,v)\n",
    "    return bisection_method(C,I)\n",
    "\n",
    "def delta_call(S,E,T,r,v): return norm.cdf(np.log(S/E)+(r+v**2/2)*T/(v*np.sqrt(T)))\n",
    "def gamma_call(S,E,T,r,v): return norm.pdf(np.log(S/E)+(r+v**2/2)*T/(v*np.sqrt(T)))/(S*v*np.sqrt(T))\n",
    "def vega_call(S,E,T,r,v): return S*norm.pdf()"
   ]
  },
  {
   "cell_type": "code",
   "execution_count": 100,
   "metadata": {},
   "outputs": [
    {
     "name": "stdout",
     "output_type": "stream",
     "text": [
      "0.09317460410066182\n",
      "0.021501831715537337\n"
     ]
    },
    {
     "data": {
      "text/plain": [
       "3.0626001437287442"
      ]
     },
     "execution_count": 100,
     "metadata": {},
     "output_type": "execute_result"
    }
   ],
   "source": [
    "price_call_BS(100,100,30,0.05,0.25)"
   ]
  }
 ],
 "metadata": {
  "kernelspec": {
   "display_name": "Python 3",
   "language": "python",
   "name": "python3"
  },
  "language_info": {
   "codemirror_mode": {
    "name": "ipython",
    "version": 3
   },
   "file_extension": ".py",
   "mimetype": "text/x-python",
   "name": "python",
   "nbconvert_exporter": "python",
   "pygments_lexer": "ipython3",
   "version": "3.7.4"
  }
 },
 "nbformat": 4,
 "nbformat_minor": 2
}
