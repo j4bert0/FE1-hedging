{
 "cells": [
  {
   "cell_type": "code",
   "execution_count": 7,
   "metadata": {},
   "outputs": [],
   "source": [
    "%%capture\n",
    "%run utils.ipynb"
   ]
  },
  {
   "cell_type": "markdown",
   "metadata": {},
   "source": [
    "# Data"
   ]
  },
  {
   "cell_type": "markdown",
   "metadata": {},
   "source": [
    "S&P500 call options with different strike prices and maturities. \n",
    "* Sheets: different maturities (total 12)\n",
    "* Columns: different strike prices\n",
    "* Rows: time series of price evolution\n",
    "\n",
    "In addition\n",
    "* 1st column: days to maturity\n",
    "* 3rd last column: spot price of S&P500 index (1000 units)\n",
    "* 2nd last column: riskless interest rate\n",
    "\n",
    "Note: prices of call are per 1000 units (as are spot prices for underlying)"
   ]
  },
  {
   "cell_type": "code",
   "execution_count": 8,
   "metadata": {},
   "outputs": [],
   "source": [
    "xls = pd.ExcelFile('isx2010C.xls')"
   ]
  },
  {
   "cell_type": "code",
   "execution_count": 16,
   "metadata": {},
   "outputs": [],
   "source": [
    "# The file of options price evolution contains corrupted data points.\n",
    "# Problem is in the decimal separator, e.g. in the file 1375.00 should be 1.375\n",
    "def check_data(df):\n",
    "    def f(x):\n",
    "        # arbitrary threshold which no call price should exceed\n",
    "        if x > 500: \n",
    "            return x/1000 \n",
    "        return x\n",
    "    N = len(df.columns)\n",
    "    last = df.iloc[:,-3:]\n",
    "    m = df.iloc[:,1:N-3].applymap(f)\n",
    "    return pd.concat([m,last])"
   ]
  },
  {
   "cell_type": "code",
   "execution_count": 17,
   "metadata": {},
   "outputs": [],
   "source": [
    "def get_sheet(name):\n",
    "    sheet = pd.read_excel(xls, name)\n",
    "    sheet.rename(columns={sheet.columns[0]:'days_to_mat',sheet.columns[-3]:'sp500_spot',sheet.columns[-2]:'rf'},inplace=True)\n",
    "    return sheet"
   ]
  },
  {
   "cell_type": "markdown",
   "metadata": {},
   "source": [
    "For example data for call option maturing at 15.01.2010"
   ]
  },
  {
   "cell_type": "code",
   "execution_count": 22,
   "metadata": {},
   "outputs": [
    {
     "ename": "NameError",
     "evalue": "name 'N' is not defined",
     "output_type": "error",
     "traceback": [
      "\u001b[1;31m---------------------------------------------------------------------------\u001b[0m",
      "\u001b[1;31mNameError\u001b[0m                                 Traceback (most recent call last)",
      "\u001b[1;32m<ipython-input-22-21f5c588e95f>\u001b[0m in \u001b[0;36m<module>\u001b[1;34m\u001b[0m\n\u001b[1;32m----> 1\u001b[1;33m \u001b[0mget_sheet\u001b[0m\u001b[1;33m(\u001b[0m\u001b[1;34m'isx15012010C'\u001b[0m\u001b[1;33m)\u001b[0m\u001b[1;33m.\u001b[0m\u001b[0miloc\u001b[0m\u001b[1;33m[\u001b[0m\u001b[1;33m:\u001b[0m\u001b[1;33m,\u001b[0m\u001b[1;36m1\u001b[0m\u001b[1;33m:\u001b[0m\u001b[0mN\u001b[0m\u001b[1;33m-\u001b[0m\u001b[1;36m3\u001b[0m\u001b[1;33m]\u001b[0m\u001b[1;33m\u001b[0m\u001b[1;33m\u001b[0m\u001b[0m\n\u001b[0m",
      "\u001b[1;31mNameError\u001b[0m: name 'N' is not defined"
     ]
    }
   ],
   "source": [
    "get_sheet('isx15012010C')"
   ]
  },
  {
   "cell_type": "code",
   "execution_count": null,
   "metadata": {},
   "outputs": [],
   "source": []
  }
 ],
 "metadata": {
  "kernelspec": {
   "display_name": "Python 3",
   "language": "python",
   "name": "python3"
  },
  "language_info": {
   "codemirror_mode": {
    "name": "ipython",
    "version": 3
   },
   "file_extension": ".py",
   "mimetype": "text/x-python",
   "name": "python",
   "nbconvert_exporter": "python",
   "pygments_lexer": "ipython3",
   "version": "3.7.4"
  }
 },
 "nbformat": 4,
 "nbformat_minor": 2
}
