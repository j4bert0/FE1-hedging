{
 "cells": [
  {
   "cell_type": "code",
   "execution_count": 1,
   "metadata": {},
   "outputs": [],
   "source": [
    "%%capture\n",
    "%run utils.ipynb\n",
    "%run data.ipynb\n",
    "\n",
    "import warnings\n",
    "warnings.filterwarnings(\"ignore\")"
   ]
  },
  {
   "cell_type": "markdown",
   "metadata": {},
   "source": [
    "# Delta-vega hedging"
   ]
  },
  {
   "cell_type": "markdown",
   "metadata": {},
   "source": [
    "$$\\Delta=\\frac{\\partial C^{BS}}{}$$"
   ]
  },
  {
   "cell_type": "code",
   "execution_count": 2,
   "metadata": {},
   "outputs": [],
   "source": [
    "isx15012010C = get_sheet('isx15012010C')\n",
    "isx19022010C = get_sheet('isx19022010C')\n",
    "\n",
    "isx_m45 = isx15012010C[isx15012010C.shape[0]-45:].reset_index()\n",
    "sp500_spot = isx_m45.iloc[0]['sp500_spot'] # S&P500 spot"
   ]
  },
  {
   "cell_type": "code",
   "execution_count": 3,
   "metadata": {},
   "outputs": [
    {
     "data": {
      "text/html": [
       "<div>\n",
       "<style scoped>\n",
       "    .dataframe tbody tr th:only-of-type {\n",
       "        vertical-align: middle;\n",
       "    }\n",
       "\n",
       "    .dataframe tbody tr th {\n",
       "        vertical-align: top;\n",
       "    }\n",
       "\n",
       "    .dataframe thead th {\n",
       "        text-align: right;\n",
       "    }\n",
       "</style>\n",
       "<table border=\"1\" class=\"dataframe\">\n",
       "  <thead>\n",
       "    <tr style=\"text-align: right;\">\n",
       "      <th></th>\n",
       "      <th>days_to_mat</th>\n",
       "      <th>520</th>\n",
       "      <th>sp500_spot</th>\n",
       "      <th>rf</th>\n",
       "      <th>date</th>\n",
       "    </tr>\n",
       "  </thead>\n",
       "  <tbody>\n",
       "    <tr>\n",
       "      <th>20</th>\n",
       "      <td>66</td>\n",
       "      <td>11.45</td>\n",
       "      <td>506.75</td>\n",
       "      <td>0.07</td>\n",
       "      <td>19.10.2009</td>\n",
       "    </tr>\n",
       "    <tr>\n",
       "      <th>21</th>\n",
       "      <td>65</td>\n",
       "      <td>10.80</td>\n",
       "      <td>504.52</td>\n",
       "      <td>0.07</td>\n",
       "      <td>20.10.2009</td>\n",
       "    </tr>\n",
       "    <tr>\n",
       "      <th>22</th>\n",
       "      <td>64</td>\n",
       "      <td>9.30</td>\n",
       "      <td>500.24</td>\n",
       "      <td>0.07</td>\n",
       "      <td>21.10.2009</td>\n",
       "    </tr>\n",
       "    <tr>\n",
       "      <th>23</th>\n",
       "      <td>63</td>\n",
       "      <td>10.70</td>\n",
       "      <td>504.84</td>\n",
       "      <td>0.07</td>\n",
       "      <td>22.10.2009</td>\n",
       "    </tr>\n",
       "    <tr>\n",
       "      <th>24</th>\n",
       "      <td>62</td>\n",
       "      <td>9.10</td>\n",
       "      <td>500.00</td>\n",
       "      <td>0.07</td>\n",
       "      <td>23.10.2009</td>\n",
       "    </tr>\n",
       "  </tbody>\n",
       "</table>\n",
       "</div>"
      ],
      "text/plain": [
       "    days_to_mat    520  sp500_spot    rf        date\n",
       "20           66  11.45      506.75  0.07  19.10.2009\n",
       "21           65  10.80      504.52  0.07  20.10.2009\n",
       "22           64   9.30      500.24  0.07  21.10.2009\n",
       "23           63  10.70      504.84  0.07  22.10.2009\n",
       "24           62   9.10      500.00  0.07  23.10.2009"
      ]
     },
     "execution_count": 3,
     "metadata": {},
     "output_type": "execute_result"
    }
   ],
   "source": [
    "isx_E520_C = isx15012010C[['days_to_mat',520,'sp500_spot','rf','date']].loc[20:]\n",
    "isx_E520_C.head()"
   ]
  },
  {
   "cell_type": "code",
   "execution_count": 4,
   "metadata": {},
   "outputs": [
    {
     "data": {
      "text/html": [
       "<div>\n",
       "<style scoped>\n",
       "    .dataframe tbody tr th:only-of-type {\n",
       "        vertical-align: middle;\n",
       "    }\n",
       "\n",
       "    .dataframe tbody tr th {\n",
       "        vertical-align: top;\n",
       "    }\n",
       "\n",
       "    .dataframe thead th {\n",
       "        text-align: right;\n",
       "    }\n",
       "</style>\n",
       "<table border=\"1\" class=\"dataframe\">\n",
       "  <thead>\n",
       "    <tr style=\"text-align: right;\">\n",
       "      <th></th>\n",
       "      <th>days_to_mat</th>\n",
       "      <th>520</th>\n",
       "      <th>sp500_spot</th>\n",
       "      <th>rf</th>\n",
       "      <th>date</th>\n",
       "    </tr>\n",
       "  </thead>\n",
       "  <tbody>\n",
       "    <tr>\n",
       "      <th>0</th>\n",
       "      <td>90</td>\n",
       "      <td>15.05</td>\n",
       "      <td>506.75</td>\n",
       "      <td>0.07</td>\n",
       "      <td>19.10.2009</td>\n",
       "    </tr>\n",
       "    <tr>\n",
       "      <th>1</th>\n",
       "      <td>89</td>\n",
       "      <td>14.90</td>\n",
       "      <td>504.52</td>\n",
       "      <td>0.07</td>\n",
       "      <td>20.10.2009</td>\n",
       "    </tr>\n",
       "    <tr>\n",
       "      <th>2</th>\n",
       "      <td>88</td>\n",
       "      <td>12.70</td>\n",
       "      <td>500.24</td>\n",
       "      <td>0.07</td>\n",
       "      <td>21.10.2009</td>\n",
       "    </tr>\n",
       "    <tr>\n",
       "      <th>3</th>\n",
       "      <td>87</td>\n",
       "      <td>14.40</td>\n",
       "      <td>504.84</td>\n",
       "      <td>0.07</td>\n",
       "      <td>22.10.2009</td>\n",
       "    </tr>\n",
       "    <tr>\n",
       "      <th>4</th>\n",
       "      <td>86</td>\n",
       "      <td>12.70</td>\n",
       "      <td>500.00</td>\n",
       "      <td>0.07</td>\n",
       "      <td>23.10.2009</td>\n",
       "    </tr>\n",
       "  </tbody>\n",
       "</table>\n",
       "</div>"
      ],
      "text/plain": [
       "   days_to_mat    520  sp500_spot    rf        date\n",
       "0           90  15.05      506.75  0.07  19.10.2009\n",
       "1           89  14.90      504.52  0.07  20.10.2009\n",
       "2           88  12.70      500.24  0.07  21.10.2009\n",
       "3           87  14.40      504.84  0.07  22.10.2009\n",
       "4           86  12.70      500.00  0.07  23.10.2009"
      ]
     },
     "execution_count": 4,
     "metadata": {},
     "output_type": "execute_result"
    }
   ],
   "source": [
    "isx19022010C.rename(columns={'Unnamed: 56': 'date'}, inplace=True)\n",
    "isx_E520_R = isx19022010C[['days_to_mat',520,'sp500_spot','rf','date']]\n",
    "isx_E520_R.head()"
   ]
  },
  {
   "cell_type": "code",
   "execution_count": 5,
   "metadata": {},
   "outputs": [],
   "source": [
    "# Rowwise computations of implied vola and delta\n",
    "def implied_vola_rows(E,row):  return solve_implied_vola(row[E],row['sp500_spot'],E,row['days_to_mat'],row['rf'])\n",
    "def delta_rows(E,row): return delta_call(row['sp500_spot'],E,row['days_to_mat'],row['rf'],row['implied_vola='+str(E)])\n",
    "def vega_rows(E,row): return vega_call(row['sp500_spot'],E,row['days_to_mat'],row['rf'],row['implied_vola='+str(E)])"
   ]
  },
  {
   "cell_type": "markdown",
   "metadata": {},
   "source": [
    "## Rehedging frequency: 1 day"
   ]
  },
  {
   "cell_type": "code",
   "execution_count": 6,
   "metadata": {},
   "outputs": [
    {
     "data": {
      "text/html": [
       "<div>\n",
       "<style scoped>\n",
       "    .dataframe tbody tr th:only-of-type {\n",
       "        vertical-align: middle;\n",
       "    }\n",
       "\n",
       "    .dataframe tbody tr th {\n",
       "        vertical-align: top;\n",
       "    }\n",
       "\n",
       "    .dataframe thead th {\n",
       "        text-align: right;\n",
       "    }\n",
       "</style>\n",
       "<table border=\"1\" class=\"dataframe\">\n",
       "  <thead>\n",
       "    <tr style=\"text-align: right;\">\n",
       "      <th></th>\n",
       "      <th>days_to_mat</th>\n",
       "      <th>520</th>\n",
       "      <th>sp500_spot</th>\n",
       "      <th>rf</th>\n",
       "      <th>date</th>\n",
       "      <th>implied_vola=520</th>\n",
       "      <th>delta=520</th>\n",
       "      <th>vega=520</th>\n",
       "    </tr>\n",
       "  </thead>\n",
       "  <tbody>\n",
       "    <tr>\n",
       "      <th>81</th>\n",
       "      <td>5</td>\n",
       "      <td>6.8</td>\n",
       "      <td>524.29</td>\n",
       "      <td>0.06</td>\n",
       "      <td>12.1.2010</td>\n",
       "      <td>1.644438e-01</td>\n",
       "      <td>0.684107</td>\n",
       "      <td>21.824942</td>\n",
       "    </tr>\n",
       "    <tr>\n",
       "      <th>82</th>\n",
       "      <td>4</td>\n",
       "      <td>9.0</td>\n",
       "      <td>527.93</td>\n",
       "      <td>0.06</td>\n",
       "      <td>13.1.2010</td>\n",
       "      <td>1.537721e-01</td>\n",
       "      <td>0.838691</td>\n",
       "      <td>13.518695</td>\n",
       "    </tr>\n",
       "    <tr>\n",
       "      <th>83</th>\n",
       "      <td>3</td>\n",
       "      <td>10.1</td>\n",
       "      <td>529.59</td>\n",
       "      <td>0.06</td>\n",
       "      <td>14.1.2010</td>\n",
       "      <td>1.472639e-01</td>\n",
       "      <td>0.921081</td>\n",
       "      <td>7.064685</td>\n",
       "    </tr>\n",
       "    <tr>\n",
       "      <th>84</th>\n",
       "      <td>2</td>\n",
       "      <td>4.1</td>\n",
       "      <td>524.11</td>\n",
       "      <td>0.05</td>\n",
       "      <td>15.1.2010</td>\n",
       "      <td>3.781978e+12</td>\n",
       "      <td>1.000000</td>\n",
       "      <td>0.000000</td>\n",
       "    </tr>\n",
       "    <tr>\n",
       "      <th>85</th>\n",
       "      <td>1</td>\n",
       "      <td>NaN</td>\n",
       "      <td>NaN</td>\n",
       "      <td>NaN</td>\n",
       "      <td>NaN</td>\n",
       "      <td>NaN</td>\n",
       "      <td>NaN</td>\n",
       "      <td>NaN</td>\n",
       "    </tr>\n",
       "  </tbody>\n",
       "</table>\n",
       "</div>"
      ],
      "text/plain": [
       "    days_to_mat   520  sp500_spot    rf       date  implied_vola=520  \\\n",
       "81            5   6.8      524.29  0.06  12.1.2010      1.644438e-01   \n",
       "82            4   9.0      527.93  0.06  13.1.2010      1.537721e-01   \n",
       "83            3  10.1      529.59  0.06  14.1.2010      1.472639e-01   \n",
       "84            2   4.1      524.11  0.05  15.1.2010      3.781978e+12   \n",
       "85            1   NaN         NaN   NaN        NaN               NaN   \n",
       "\n",
       "    delta=520   vega=520  \n",
       "81   0.684107  21.824942  \n",
       "82   0.838691  13.518695  \n",
       "83   0.921081   7.064685  \n",
       "84   1.000000   0.000000  \n",
       "85        NaN        NaN  "
      ]
     },
     "execution_count": 6,
     "metadata": {},
     "output_type": "execute_result"
    }
   ],
   "source": [
    "isx_E520_C['implied_vola=520'] = isx_E520_C.apply(lambda row: implied_vola_rows(520,row), axis=1)\n",
    "isx_E520_C['delta=520'] = isx_E520_C.apply(lambda row: delta_rows(520,row), axis=1)\n",
    "isx_E520_C['vega=520'] = isx_E520_C.apply(lambda row: vega_rows(520,row), axis=1)\n",
    "isx_E520_C.shape\n",
    "isx_E520_C.tail()"
   ]
  },
  {
   "cell_type": "code",
   "execution_count": 7,
   "metadata": {},
   "outputs": [],
   "source": [
    "isx_E520_R['implied_vola=520'] = isx_E520_R.apply(lambda row: implied_vola_rows(520,row), axis=1)\n",
    "isx_E520_R['delta=520'] = isx_E520_R.apply(lambda row: delta_rows(520,row), axis=1)\n",
    "isx_E520_R['vega=520'] = isx_E520_R.apply(lambda row: vega_rows(520,row), axis=1)\n",
    "isx_E520_R.rename(columns={'vega=520': 'R_vega=520', 'delta=520': 'R_delta=520', 520 : 'R_520', 'sp500_spot': 'R_sp500_spot'}, inplace=True)"
   ]
  },
  {
   "cell_type": "code",
   "execution_count": 8,
   "metadata": {},
   "outputs": [],
   "source": [
    "isx_E520_R.shape\n",
    "isx_E520_R = isx_E520_R.iloc[:65]"
   ]
  },
  {
   "cell_type": "code",
   "execution_count": 9,
   "metadata": {},
   "outputs": [],
   "source": [
    "hedge = pd.concat([isx_E520_C.reset_index(),isx_E520_R.reset_index()], axis=1)[[520,'R_520','sp500_spot','delta=520','vega=520','R_delta=520','R_vega=520']]"
   ]
  },
  {
   "cell_type": "code",
   "execution_count": 10,
   "metadata": {},
   "outputs": [],
   "source": [
    "hedge['alpha'] = hedge.apply(lambda row: row['delta=520']+row['R_delta=520']*row['vega=520']/row['R_vega=520'], axis=1)"
   ]
  },
  {
   "cell_type": "code",
   "execution_count": 11,
   "metadata": {},
   "outputs": [],
   "source": [
    "hedge['eta'] = hedge.apply(lambda row: row['vega=520']/row['R_vega=520'], axis=1)"
   ]
  },
  {
   "cell_type": "code",
   "execution_count": 12,
   "metadata": {},
   "outputs": [],
   "source": [
    "hedge['hedge_pos'] = hedge.apply(lambda row: row['alpha']*row['sp500_spot']+row['eta']*row['R_520'], axis=1)"
   ]
  },
  {
   "cell_type": "code",
   "execution_count": 13,
   "metadata": {},
   "outputs": [
    {
     "data": {
      "text/plain": [
       "2311.2304967831205"
      ]
     },
     "execution_count": 13,
     "metadata": {},
     "output_type": "execute_result"
    }
   ],
   "source": [
    "hedge['change_P'] = hedge[520].diff()\n",
    "hedge['change_R'] = hedge['hedge_pos'].diff()\n",
    "hedge['MSE'] = hedge.apply(lambda row: (row['change_P']-row['change_R'])**2,axis=1)\n",
    "hedge['MSE'].sum()/hedge['MSE'].count()"
   ]
  },
  {
   "cell_type": "markdown",
   "metadata": {},
   "source": [
    "## Rehedging frequency: 3 days"
   ]
  },
  {
   "cell_type": "code",
   "execution_count": 24,
   "metadata": {},
   "outputs": [],
   "source": [
    "hedge['delta_freq'] = set_rehedge_freq(3,hedge['delta=520'])\n",
    "hedge['vega_freq'] = set_rehedge_freq(3,hedge['vega=520'])\n",
    "hedge['R_delta_freq'] = set_rehedge_freq(3,hedge['R_delta=520'])\n",
    "hedge['R_vega_freq'] = set_rehedge_freq(3,hedge['R_vega=520'])"
   ]
  },
  {
   "cell_type": "code",
   "execution_count": 25,
   "metadata": {},
   "outputs": [],
   "source": [
    "hedge['alpha'] = hedge.apply(lambda row: row['delta_freq']+row['R_delta_freq']*row['vega_freq']/row['R_vega_freq'], axis=1)\n",
    "hedge['eta'] = hedge.apply(lambda row: row['vega_freq']/row['R_vega_freq'], axis=1)\n",
    "hedge['hedge_pos'] = hedge.apply(lambda row: row['alpha']*row['sp500_spot']+row['eta']*row['R_520'], axis=1)"
   ]
  },
  {
   "cell_type": "code",
   "execution_count": 26,
   "metadata": {},
   "outputs": [
    {
     "data": {
      "text/plain": [
       "2057.0960434274157"
      ]
     },
     "execution_count": 26,
     "metadata": {},
     "output_type": "execute_result"
    }
   ],
   "source": [
    "hedge['change_P'] = hedge[520].diff()\n",
    "hedge['change_R'] = hedge['hedge_pos'].diff()\n",
    "hedge['MSE'] = hedge.apply(lambda row: (row['change_P']-row['change_R'])**2,axis=1)\n",
    "hedge['MSE'].sum()/hedge['MSE'].count()"
   ]
  },
  {
   "cell_type": "markdown",
   "metadata": {},
   "source": [
    "## Rehedging frequency: 5 days"
   ]
  },
  {
   "cell_type": "code",
   "execution_count": 17,
   "metadata": {},
   "outputs": [],
   "source": [
    "hedge['delta_freq'] = set_rehedge_freq(5,hedge['delta=520'])\n",
    "hedge['vega_freq'] = set_rehedge_freq(5,hedge['vega=520'])\n",
    "hedge['R_delta_freq'] = set_rehedge_freq(5,hedge['R_delta=520'])\n",
    "hedge['R_vega_freq'] = set_rehedge_freq(5,hedge['R_vega=520'])"
   ]
  },
  {
   "cell_type": "code",
   "execution_count": 18,
   "metadata": {},
   "outputs": [],
   "source": [
    "hedge['alpha'] = hedge.apply(lambda row: row['delta_freq']+row['R_delta_freq']*row['vega_freq']/row['R_vega_freq'], axis=1)\n",
    "hedge['eta'] = hedge.apply(lambda row: row['vega_freq']/row['R_vega_freq'], axis=1)\n",
    "hedge['hedge_pos'] = hedge.apply(lambda row: row['alpha']*row['sp500_spot']+row['eta']*row['R_520'], axis=1)"
   ]
  },
  {
   "cell_type": "code",
   "execution_count": 19,
   "metadata": {},
   "outputs": [
    {
     "data": {
      "text/plain": [
       "1078.3941141998473"
      ]
     },
     "execution_count": 19,
     "metadata": {},
     "output_type": "execute_result"
    }
   ],
   "source": [
    "hedge['change_P'] = hedge[520].diff()\n",
    "hedge['change_R'] = hedge['hedge_pos'].diff()\n",
    "hedge['MSE'] = hedge.apply(lambda row: (row['change_P']-row['change_R'])**2,axis=1)\n",
    "hedge['MSE'].sum()/hedge['MSE'].count()"
   ]
  },
  {
   "cell_type": "markdown",
   "metadata": {},
   "source": [
    "## In the money results"
   ]
  },
  {
   "cell_type": "markdown",
   "metadata": {},
   "source": [
    "## Rehedging frequency: 1 days"
   ]
  },
  {
   "cell_type": "code",
   "execution_count": 14,
   "metadata": {},
   "outputs": [],
   "source": [
    "isx_E530_C = isx15012010C[['days_to_mat',530,'sp500_spot','rf','date']].loc[20:]\n",
    "isx_E530_R = isx19022010C[['days_to_mat',530,'sp500_spot','rf','date']]"
   ]
  },
  {
   "cell_type": "code",
   "execution_count": 15,
   "metadata": {},
   "outputs": [
    {
     "data": {
      "text/html": [
       "<div>\n",
       "<style scoped>\n",
       "    .dataframe tbody tr th:only-of-type {\n",
       "        vertical-align: middle;\n",
       "    }\n",
       "\n",
       "    .dataframe tbody tr th {\n",
       "        vertical-align: top;\n",
       "    }\n",
       "\n",
       "    .dataframe thead th {\n",
       "        text-align: right;\n",
       "    }\n",
       "</style>\n",
       "<table border=\"1\" class=\"dataframe\">\n",
       "  <thead>\n",
       "    <tr style=\"text-align: right;\">\n",
       "      <th></th>\n",
       "      <th>days_to_mat</th>\n",
       "      <th>530</th>\n",
       "      <th>sp500_spot</th>\n",
       "      <th>rf</th>\n",
       "      <th>date</th>\n",
       "      <th>implied_vola=530</th>\n",
       "      <th>delta=530</th>\n",
       "      <th>vega=530</th>\n",
       "    </tr>\n",
       "  </thead>\n",
       "  <tbody>\n",
       "    <tr>\n",
       "      <th>81</th>\n",
       "      <td>5</td>\n",
       "      <td>1.00</td>\n",
       "      <td>524.29</td>\n",
       "      <td>0.06</td>\n",
       "      <td>12.1.2010</td>\n",
       "      <td>1.181703e-01</td>\n",
       "      <td>0.236736</td>\n",
       "      <td>18.933754</td>\n",
       "    </tr>\n",
       "    <tr>\n",
       "      <th>82</th>\n",
       "      <td>4</td>\n",
       "      <td>1.60</td>\n",
       "      <td>527.93</td>\n",
       "      <td>0.06</td>\n",
       "      <td>13.1.2010</td>\n",
       "      <td>1.069394e-01</td>\n",
       "      <td>0.387735</td>\n",
       "      <td>21.169175</td>\n",
       "    </tr>\n",
       "    <tr>\n",
       "      <th>83</th>\n",
       "      <td>3</td>\n",
       "      <td>1.95</td>\n",
       "      <td>529.59</td>\n",
       "      <td>0.06</td>\n",
       "      <td>14.1.2010</td>\n",
       "      <td>1.056270e-01</td>\n",
       "      <td>0.490216</td>\n",
       "      <td>19.148440</td>\n",
       "    </tr>\n",
       "    <tr>\n",
       "      <th>84</th>\n",
       "      <td>2</td>\n",
       "      <td>0.05</td>\n",
       "      <td>524.11</td>\n",
       "      <td>0.05</td>\n",
       "      <td>15.1.2010</td>\n",
       "      <td>2.846228e+12</td>\n",
       "      <td>1.000000</td>\n",
       "      <td>0.000000</td>\n",
       "    </tr>\n",
       "    <tr>\n",
       "      <th>85</th>\n",
       "      <td>1</td>\n",
       "      <td>NaN</td>\n",
       "      <td>NaN</td>\n",
       "      <td>NaN</td>\n",
       "      <td>NaN</td>\n",
       "      <td>NaN</td>\n",
       "      <td>NaN</td>\n",
       "      <td>NaN</td>\n",
       "    </tr>\n",
       "  </tbody>\n",
       "</table>\n",
       "</div>"
      ],
      "text/plain": [
       "    days_to_mat   530  sp500_spot    rf       date  implied_vola=530  \\\n",
       "81            5  1.00      524.29  0.06  12.1.2010      1.181703e-01   \n",
       "82            4  1.60      527.93  0.06  13.1.2010      1.069394e-01   \n",
       "83            3  1.95      529.59  0.06  14.1.2010      1.056270e-01   \n",
       "84            2  0.05      524.11  0.05  15.1.2010      2.846228e+12   \n",
       "85            1   NaN         NaN   NaN        NaN               NaN   \n",
       "\n",
       "    delta=530   vega=530  \n",
       "81   0.236736  18.933754  \n",
       "82   0.387735  21.169175  \n",
       "83   0.490216  19.148440  \n",
       "84   1.000000   0.000000  \n",
       "85        NaN        NaN  "
      ]
     },
     "execution_count": 15,
     "metadata": {},
     "output_type": "execute_result"
    }
   ],
   "source": [
    "isx_E530_C['implied_vola=530'] = isx_E530_C.apply(lambda row: implied_vola_rows(530,row), axis=1)\n",
    "isx_E530_C['delta=530'] = isx_E530_C.apply(lambda row: delta_rows(530,row), axis=1)\n",
    "isx_E530_C['vega=530'] = isx_E530_C.apply(lambda row: vega_rows(530,row), axis=1)\n",
    "isx_E530_C.shape\n",
    "isx_E530_C.tail()"
   ]
  },
  {
   "cell_type": "code",
   "execution_count": 16,
   "metadata": {},
   "outputs": [],
   "source": [
    "isx_E530_R['implied_vola=530'] = isx_E530_R.apply(lambda row: implied_vola_rows(530,row), axis=1)\n",
    "isx_E530_R['delta=530'] = isx_E530_R.apply(lambda row: delta_rows(530,row), axis=1)\n",
    "isx_E530_R['vega=530'] = isx_E530_R.apply(lambda row: vega_rows(530,row), axis=1)\n",
    "isx_E530_R.rename(columns={'vega=530': 'R_vega=530', 'delta=530': 'R_delta=530', 530 : 'R_530', 'sp500_spot': 'R_sp500_spot'}, inplace=True)"
   ]
  },
  {
   "cell_type": "code",
   "execution_count": 17,
   "metadata": {},
   "outputs": [],
   "source": [
    "isx_E530_R.shape\n",
    "isx_E530_R = isx_E530_R.iloc[:65]"
   ]
  },
  {
   "cell_type": "code",
   "execution_count": 18,
   "metadata": {},
   "outputs": [],
   "source": [
    "hedge2 = pd.concat([isx_E530_C.reset_index(),isx_E530_R.reset_index()], axis=1)[[530,'R_530','sp500_spot','delta=530','vega=530','R_delta=530','R_vega=530']]"
   ]
  },
  {
   "cell_type": "code",
   "execution_count": 19,
   "metadata": {},
   "outputs": [],
   "source": [
    "hedge2['alpha'] = hedge2.apply(lambda row: row['delta=530']+row['R_delta=530']*row['vega=530']/row['R_vega=530'], axis=1)\n",
    "hedge2['eta'] = hedge2.apply(lambda row: row['vega=530']/row['R_vega=530'], axis=1)\n",
    "hedge2['hedge_pos'] = hedge2.apply(lambda row: row['alpha']*row['sp500_spot']+row['eta']*row['R_530'], axis=1)"
   ]
  },
  {
   "cell_type": "code",
   "execution_count": 20,
   "metadata": {},
   "outputs": [
    {
     "data": {
      "text/plain": [
       "17628.58389814175"
      ]
     },
     "execution_count": 20,
     "metadata": {},
     "output_type": "execute_result"
    }
   ],
   "source": [
    "hedge2['change_P'] = hedge2[530].diff()\n",
    "hedge2['change_R'] = hedge2['hedge_pos'].diff()\n",
    "hedge2['MSE'] = hedge2.apply(lambda row: (row['change_P']-row['change_R'])**2,axis=1)\n",
    "hedge2['MSE'].sum()/hedge['MSE'].count()"
   ]
  },
  {
   "cell_type": "markdown",
   "metadata": {},
   "source": [
    "## Rehedging frequency: 3 days"
   ]
  },
  {
   "cell_type": "code",
   "execution_count": 33,
   "metadata": {},
   "outputs": [],
   "source": [
    "hedge2['delta_freq'] = set_rehedge_freq(3,hedge2['delta=530'])\n",
    "hedge2['vega_freq'] = set_rehedge_freq(3,hedge2['vega=530'])\n",
    "hedge2['R_delta_freq'] = set_rehedge_freq(3,hedge2['R_delta=530'])\n",
    "hedge2['R_vega_freq'] = set_rehedge_freq(3,hedge2['R_vega=530'])"
   ]
  },
  {
   "cell_type": "code",
   "execution_count": 34,
   "metadata": {},
   "outputs": [],
   "source": [
    "hedge2['alpha'] = hedge2.apply(lambda row: row['delta_freq']+row['R_delta_freq']*row['vega_freq']/row['R_vega_freq'], axis=1)\n",
    "hedge2['eta'] = hedge2.apply(lambda row: row['vega_freq']/row['R_vega_freq'], axis=1)\n",
    "hedge2['hedge_pos'] = hedge2.apply(lambda row: row['alpha']*row['sp500_spot']+row['eta']*row['R_530'], axis=1)"
   ]
  },
  {
   "cell_type": "code",
   "execution_count": 35,
   "metadata": {},
   "outputs": [
    {
     "data": {
      "text/plain": [
       "8623.593176065791"
      ]
     },
     "execution_count": 35,
     "metadata": {},
     "output_type": "execute_result"
    }
   ],
   "source": [
    "hedge2['change_P'] = hedge2[530].diff()\n",
    "hedge2['change_R'] = hedge2['hedge_pos'].diff()\n",
    "hedge2['MSE'] = hedge2.apply(lambda row: (row['change_P']-row['change_R'])**2,axis=1)\n",
    "hedge2['MSE'].sum()/hedge2['MSE'].count()"
   ]
  },
  {
   "cell_type": "markdown",
   "metadata": {},
   "source": [
    "## Rehedging frequency: 5 days"
   ]
  },
  {
   "cell_type": "code",
   "execution_count": 21,
   "metadata": {},
   "outputs": [],
   "source": [
    "hedge2['delta_freq'] = set_rehedge_freq(5,hedge2['delta=530'])\n",
    "hedge2['vega_freq'] = set_rehedge_freq(5,hedge2['vega=530'])\n",
    "hedge2['R_delta_freq'] = set_rehedge_freq(5,hedge2['R_delta=530'])\n",
    "hedge2['R_vega_freq'] = set_rehedge_freq(5,hedge2['R_vega=530'])"
   ]
  },
  {
   "cell_type": "code",
   "execution_count": 22,
   "metadata": {},
   "outputs": [],
   "source": [
    "hedge2['alpha'] = hedge2.apply(lambda row: row['delta_freq']+row['R_delta_freq']*row['vega_freq']/row['R_vega_freq'], axis=1)\n",
    "hedge2['eta'] = hedge2.apply(lambda row: row['vega_freq']/row['R_vega_freq'], axis=1)\n",
    "hedge2['hedge_pos'] = hedge2.apply(lambda row: row['alpha']*row['sp500_spot']+row['eta']*row['R_530'], axis=1)"
   ]
  },
  {
   "cell_type": "code",
   "execution_count": 23,
   "metadata": {},
   "outputs": [
    {
     "data": {
      "text/plain": [
       "3561.6257415447767"
      ]
     },
     "execution_count": 23,
     "metadata": {},
     "output_type": "execute_result"
    }
   ],
   "source": [
    "hedge2['change_P'] = hedge2[530].diff()\n",
    "hedge2['change_R'] = hedge2['hedge_pos'].diff()\n",
    "hedge2['MSE'] = hedge2.apply(lambda row: (row['change_P']-row['change_R'])**2,axis=1)\n",
    "hedge2['MSE'].sum()/hedge2['MSE'].count()"
   ]
  },
  {
   "cell_type": "code",
   "execution_count": null,
   "metadata": {},
   "outputs": [],
   "source": []
  }
 ],
 "metadata": {
  "kernelspec": {
   "display_name": "Python 3",
   "language": "python",
   "name": "python3"
  },
  "language_info": {
   "codemirror_mode": {
    "name": "ipython",
    "version": 3
   },
   "file_extension": ".py",
   "mimetype": "text/x-python",
   "name": "python",
   "nbconvert_exporter": "python",
   "pygments_lexer": "ipython3",
   "version": "3.7.3"
  }
 },
 "nbformat": 4,
 "nbformat_minor": 2
}
