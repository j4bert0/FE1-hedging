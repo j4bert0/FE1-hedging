{
 "cells": [
  {
   "cell_type": "code",
   "execution_count": 1,
   "metadata": {},
   "outputs": [],
   "source": [
    "import pandas as pd\n",
    "import numpy as np\n",
    "import sympy as sym\n",
    "from scipy.stats import norm\n",
    "import matplotlib.pyplot as plt\n",
    "import time as t"
   ]
  },
  {
   "cell_type": "markdown",
   "metadata": {},
   "source": [
    "Implementations of functions needed in the hedging problem"
   ]
  },
  {
   "cell_type": "markdown",
   "metadata": {},
   "source": [
    "### Global variables"
   ]
  },
  {
   "cell_type": "code",
   "execution_count": 2,
   "metadata": {},
   "outputs": [],
   "source": [
    "MAX_ITERS = 1000\n",
    "ERROR = 10**-10\n",
    "ERROR2 = 10**-6"
   ]
  },
  {
   "cell_type": "markdown",
   "metadata": {},
   "source": [
    "# Functions for pricing derivatives"
   ]
  },
  {
   "cell_type": "markdown",
   "metadata": {},
   "source": [
    "### Black-Scholes formula"
   ]
  },
  {
   "cell_type": "markdown",
   "metadata": {},
   "source": [
    "Black-Scholes formula for pricing European calls:\n",
    "\n",
    "$$C(S_t,t)=N(d_1)S_t-Ee^{-rT}N(d_2)$$\n",
    "\n",
    "$$d_1=\\frac{ln(S_t/E)+(r+\\sigma^2/2)T}{\\sigma\\sqrt{T}}$$\n",
    "\n",
    "$$d_2=d_1-\\sigma\\sqrt{T}$$\n",
    "\n",
    "Where $N(\\cdot) := $ Normal cdf, $T:=$ time to maturity (years), $S_t:=$ spot price, $E:=$ strike price, $r:=$ risk free interest rate, $\\sigma:=$ volatility"
   ]
  },
  {
   "cell_type": "code",
   "execution_count": 3,
   "metadata": {},
   "outputs": [],
   "source": [
    "def d1(S,E,T,r,v): return (np.log(S/E)+(r+v*v/2)*(T/365))/(v*np.sqrt(T/365))\n",
    "def d2(S,E,T,r,v): return d1(S,E,T,r,v)-v*np.sqrt(T/365)\n",
    "\n",
    "def price_call_BS(S,E,T,r,v):\n",
    "    # S: price of the underlying, E: excercise price, \n",
    "    # T: days to maturity, v: volatility (sigma)\n",
    "    d_1 = d1(S,E,T,r,v)\n",
    "    d_2 = d2(S,E,T,r,v)\n",
    "    return S*norm.cdf(d_1)-E*np.exp(-r*T/365)*norm.cdf(d_2)"
   ]
  },
  {
   "cell_type": "markdown",
   "metadata": {},
   "source": [
    "### The Greeks"
   ]
  },
  {
   "cell_type": "markdown",
   "metadata": {},
   "source": [
    "For call options:\n",
    "\n",
    "Delta: $$\\Delta=\\frac{\\partial C}{\\partial S}=N(d_1)$$\n",
    "Gamma: $$\\Gamma=\\frac{\\partial^2 C}{\\partial S^2}=\\frac{N'(d_1)}{S\\sigma\\sqrt{T}}$$\n",
    "Vega: $$\\nu=\\frac{\\partial C}{\\partial \\sigma}=SN'(d_1)\\sqrt{T}$$\n",
    "\n",
    "Where $N'(\\cdot):=$ normal pdf"
   ]
  },
  {
   "cell_type": "code",
   "execution_count": 4,
   "metadata": {},
   "outputs": [],
   "source": [
    "def delta_call(S,E,T,r,v): return norm.cdf(d1(S,E,T,r,v))\n",
    "def gamma_call(S,E,T,r,v): return norm.pdf(d1(S,E,T,r,v))/(S*v*np.sqrt(T/365))\n",
    "def vega_call(S,E,T,r,v): return S*norm.pdf(d1(S,E,T,r,v))*np.sqrt(T/365)"
   ]
  },
  {
   "cell_type": "markdown",
   "metadata": {},
   "source": [
    "### Working examples"
   ]
  },
  {
   "cell_type": "markdown",
   "metadata": {},
   "source": [
    "Let $S_t=100$, $E=100$, $T=30$, $r=0.05$, $\\sigma=0.25$.\n",
    "Price of a call with the above parameters and the corresponding greeks:"
   ]
  },
  {
   "cell_type": "code",
   "execution_count": 5,
   "metadata": {},
   "outputs": [
    {
     "data": {
      "text/plain": [
       "3.0626001437287442"
      ]
     },
     "execution_count": 5,
     "metadata": {},
     "output_type": "execute_result"
    }
   ],
   "source": [
    "price_call_BS(100,100,30,0.05,0.25)"
   ]
  },
  {
   "cell_type": "code",
   "execution_count": 6,
   "metadata": {},
   "outputs": [
    {
     "data": {
      "text/plain": [
       "0.5371175752016983"
      ]
     },
     "execution_count": 6,
     "metadata": {},
     "output_type": "execute_result"
    }
   ],
   "source": [
    "delta_call(100,100,30,0.05,0.25)"
   ]
  },
  {
   "cell_type": "code",
   "execution_count": 7,
   "metadata": {},
   "outputs": [
    {
     "data": {
      "text/plain": [
       "0.0554205328109922"
      ]
     },
     "execution_count": 7,
     "metadata": {},
     "output_type": "execute_result"
    }
   ],
   "source": [
    "gamma_call(100,100,30,0.05,0.25)"
   ]
  },
  {
   "cell_type": "code",
   "execution_count": 28,
   "metadata": {},
   "outputs": [
    {
     "data": {
      "text/plain": [
       "11.387780714587437"
      ]
     },
     "execution_count": 28,
     "metadata": {},
     "output_type": "execute_result"
    }
   ],
   "source": [
    "vega_call(100,100,30,0.05,0.25)"
   ]
  },
  {
   "cell_type": "markdown",
   "metadata": {},
   "source": [
    "# Numerical methods"
   ]
  },
  {
   "cell_type": "markdown",
   "metadata": {},
   "source": [
    "Solving the hedging problem, we need numerical methods. In particular, methods for solving equations of form $f(x)=0$. Two routines are implemented here: Newton's method and Bisection method."
   ]
  },
  {
   "cell_type": "markdown",
   "metadata": {},
   "source": [
    "### Newton's method"
   ]
  },
  {
   "cell_type": "markdown",
   "metadata": {},
   "source": [
    "$$x_{n+1}=x_n-\\frac{f(x_n)}{f'(x_n)}$$"
   ]
  },
  {
   "cell_type": "code",
   "execution_count": 9,
   "metadata": {},
   "outputs": [],
   "source": [
    "def newtons_method(f,x_n,e=ERROR2,N=MAX_ITERS,debug=False):\n",
    "    # f: function, f(x) = 0 # x_n: initial guess\n",
    "    # e: acceptable error # N: max iterations\n",
    "    x = sym.symbols('x')\n",
    "    df = lambda z: float( sym.diff(f(x),x).subs(x,z).evalf() )\n",
    "    close_to = lambda x: (x > -e and x < e)\n",
    "    for i in range(1,N+1):\n",
    "        if close_to(f(x_n)):\n",
    "            return x_n\n",
    "        else:\n",
    "            x_n = x_n - f(x_n)/df(x_n)\n",
    "    if debug: print('Maximum iterations reached. Solution is NOT within the error bound.')\n",
    "    return x_n"
   ]
  },
  {
   "cell_type": "markdown",
   "metadata": {},
   "source": [
    "### Newton's method (vega derivative)"
   ]
  },
  {
   "cell_type": "markdown",
   "metadata": {},
   "source": [
    "Here the Newton's method is tailored for solving implied volatility (i.e. the derivative is hardcoded). Note: $\\nu=\\partial C / \\partial \\sigma$"
   ]
  },
  {
   "cell_type": "code",
   "execution_count": 10,
   "metadata": {},
   "outputs": [],
   "source": [
    "def newtons_method_E(f,x_n,S,E,T,r,e=ERROR2,N=MAX_ITERS,debug=False):\n",
    "    # f: function, f(x) = 0 # x_n: initial guess\n",
    "    # e: acceptable error # N: max iterations\n",
    "    df = lambda x: vega_call(S,E,T,r,x) + ERROR\n",
    "    close_to = lambda x: (x > -e and x < e)\n",
    "    for i in range(1,N+1):\n",
    "        if close_to(f(x_n)):\n",
    "            return x_n\n",
    "        else:\n",
    "            x_n = x_n - f(x_n)/df(x_n)\n",
    "    if debug: print('Maximum iterations reached. Solution is NOT within the error bound.')\n",
    "    return x_n"
   ]
  },
  {
   "cell_type": "markdown",
   "metadata": {},
   "source": [
    "### Bisection method"
   ]
  },
  {
   "cell_type": "markdown",
   "metadata": {},
   "source": [
    "Bisection method is implemented for testing purposes. When solving implied volatility, bisection method has an obvious weakness: choosing the initial interval $I=[a,b]$."
   ]
  },
  {
   "cell_type": "code",
   "execution_count": 11,
   "metadata": {},
   "outputs": [],
   "source": [
    "def bisection_method(f,I,e=ERROR2,N=MAX_ITERS,debug=False):\n",
    "    # f: function, f(x) = 0 # I: interval [a,b]\n",
    "    # e: acceptable error # N: max iterations\n",
    "    close_to = lambda x: (x > -e and x < e)\n",
    "    a = I[0]\n",
    "    b = I[1]\n",
    "    for i in range(1,N+1):\n",
    "        m = (a+b)/2\n",
    "        if close_to(f(m)):\n",
    "            return m\n",
    "        elif f(a)*f(m) < 0:\n",
    "            b = m\n",
    "        else:\n",
    "            a = m\n",
    "    if debug: print('Maximum iterations reached. Solution is NOT within the error bound.')\n",
    "    return m"
   ]
  },
  {
   "cell_type": "markdown",
   "metadata": {},
   "source": [
    "### Working examples"
   ]
  },
  {
   "cell_type": "markdown",
   "metadata": {},
   "source": [
    "Solving roots of $f(x)=3x^2-8x+2$"
   ]
  },
  {
   "cell_type": "code",
   "execution_count": 12,
   "metadata": {},
   "outputs": [],
   "source": [
    "f = lambda x: 3*x**2-8*x+2"
   ]
  },
  {
   "cell_type": "code",
   "execution_count": 13,
   "metadata": {},
   "outputs": [
    {
     "data": {
      "text/plain": [
       "0.2792407061024082"
      ]
     },
     "execution_count": 13,
     "metadata": {},
     "output_type": "execute_result"
    }
   ],
   "source": [
    "newtons_method(f,0)"
   ]
  },
  {
   "cell_type": "code",
   "execution_count": 14,
   "metadata": {},
   "outputs": [
    {
     "data": {
      "text/plain": [
       "2.3874258868147122"
      ]
     },
     "execution_count": 14,
     "metadata": {},
     "output_type": "execute_result"
    }
   ],
   "source": [
    "newtons_method(f,2)"
   ]
  },
  {
   "cell_type": "code",
   "execution_count": 15,
   "metadata": {},
   "outputs": [
    {
     "data": {
      "text/plain": [
       "0.27924084663391113"
      ]
     },
     "execution_count": 15,
     "metadata": {},
     "output_type": "execute_result"
    }
   ],
   "source": [
    "bisection_method(f,(0,1))"
   ]
  },
  {
   "cell_type": "code",
   "execution_count": 16,
   "metadata": {},
   "outputs": [
    {
     "data": {
      "text/plain": [
       "2.3874258995056152"
      ]
     },
     "execution_count": 16,
     "metadata": {},
     "output_type": "execute_result"
    }
   ],
   "source": [
    "bisection_method(f,(2,3))"
   ]
  },
  {
   "cell_type": "code",
   "execution_count": 17,
   "metadata": {},
   "outputs": [
    {
     "data": {
      "text/plain": [
       "[<matplotlib.lines.Line2D at 0x7f401690e320>]"
      ]
     },
     "execution_count": 17,
     "metadata": {},
     "output_type": "execute_result"
    },
    {
     "data": {
      "image/png": "[encoded data removed]",
      "text/plain": [
       "<Figure size 432x288 with 1 Axes>"
      ]
     },
     "metadata": {
      "needs_background": "light"
     },
     "output_type": "display_data"
    }
   ],
   "source": [
    "plt.plot(np.linspace(-1,3,100),f(np.linspace(-1,3,100)))\n",
    "plt.plot(np.linspace(-1,3,100),np.zeros(100))\n",
    "plt.plot(newtons_method(f,0),0,'bo')\n",
    "plt.plot(bisection_method(f,(2,3)),0,'bo')"
   ]
  },
  {
   "cell_type": "markdown",
   "metadata": {},
   "source": [
    "# Solving implied volatility"
   ]
  },
  {
   "cell_type": "markdown",
   "metadata": {},
   "source": [
    "When the parameters of BS pricing function except $\\sigma$ are known, we can solve equation (function of one parameter)"
   ]
  },
  {
   "cell_type": "markdown",
   "metadata": {},
   "source": [
    "$$C(\\sigma)=C_{Obs}$$\n",
    "\n",
    "\n",
    "$$\\iff C(\\sigma)-C_{Obs}=0$$"
   ]
  },
  {
   "cell_type": "markdown",
   "metadata": {},
   "source": [
    "With Newton's method (harcoded derivative)"
   ]
  },
  {
   "cell_type": "markdown",
   "metadata": {},
   "source": [
    "$$\\sigma_{n+1}=\\sigma_n-\\frac{C(..,\\sigma_n)-C_{Obs}}{\\nu(\\sigma)}$$"
   ]
  },
  {
   "cell_type": "markdown",
   "metadata": {},
   "source": [
    "Initial guess (Brenner & Subrahmanyan)"
   ]
  },
  {
   "cell_type": "markdown",
   "metadata": {},
   "source": [
    "\\begin{equation}\n",
    "\\sigma_0 = \\sqrt{\\frac{2\\pi}{T}}\\frac{C_{Obs}}{S}\n",
    "\\end{equation}"
   ]
  },
  {
   "cell_type": "code",
   "execution_count": 18,
   "metadata": {},
   "outputs": [],
   "source": [
    "def solve_implied_vola(C_obs,S,E,T,r,debug=False):\n",
    "    if pd.isna(C_obs): return C_obs\n",
    "    f = lambda v: price_call_BS(S,E,T,r,v) - C_obs\n",
    "    x_0 = np.sqrt(2*np.pi/(T/365))*C_obs/S\n",
    "    if debug: print(\"Initial guess: \" + str(x_0))\n",
    "    return newtons_method_E(f,x_0,S,E,T,r)"
   ]
  },
  {
   "cell_type": "markdown",
   "metadata": {},
   "source": [
    "### Working examples"
   ]
  },
  {
   "cell_type": "code",
   "execution_count": 19,
   "metadata": {},
   "outputs": [
    {
     "name": "stdout",
     "output_type": "stream",
     "text": [
      "Initial guess: 0.2622992167613477\n"
     ]
    },
    {
     "data": {
      "text/plain": [
       "0.24450274100496858"
      ]
     },
     "execution_count": 19,
     "metadata": {},
     "output_type": "execute_result"
    }
   ],
   "source": [
    "solve_implied_vola(3,100,100,30,0.05,debug=True)"
   ]
  },
  {
   "cell_type": "code",
   "execution_count": 20,
   "metadata": {},
   "outputs": [
    {
     "name": "stdout",
     "output_type": "stream",
     "text": [
      "Initial guess: 0.04371653612689129\n"
     ]
    },
    {
     "data": {
      "text/plain": [
       "0.021163623638379352"
      ]
     },
     "execution_count": 20,
     "metadata": {},
     "output_type": "execute_result"
    }
   ],
   "source": [
    "solve_implied_vola(0.5,100,100,30,0.05,debug=True)"
   ]
  },
  {
   "cell_type": "markdown",
   "metadata": {},
   "source": [
    "# Functions for data"
   ]
  },
  {
   "cell_type": "code",
   "execution_count": 21,
   "metadata": {},
   "outputs": [],
   "source": [
    "# Lag series in Pandas dataframe, e.g. set_rehedge_freq(2,[1,2,3,4,5,6]) -> [1,1,3,3,5,5]\n",
    "def set_rehedge_freq(freq,series):\n",
    "    series = series.tolist()\n",
    "    for i,val in enumerate(series):\n",
    "        if i % freq == 0:\n",
    "            tmp = val\n",
    "        else:\n",
    "            series[i] = tmp\n",
    "    return pd.Series(series)"
   ]
  },
  {
   "cell_type": "code",
   "execution_count": 22,
   "metadata": {},
   "outputs": [
    {
     "data": {
      "text/plain": [
       "0    1\n",
       "1    1\n",
       "2    3\n",
       "3    3\n",
       "4    5\n",
       "5    5\n",
       "dtype: int64"
      ]
     },
     "execution_count": 22,
     "metadata": {},
     "output_type": "execute_result"
    }
   ],
   "source": [
    "set_rehedge_freq(2,pd.Series([1,2,3,4,5,6]))"
   ]
  },
  {
   "cell_type": "code",
   "execution_count": 23,
   "metadata": {},
   "outputs": [],
   "source": [
    "# Compute MSE (delta hedging with rehedging frequency = k) for an option with strike = E.\n",
    "# data (dataframe of options with the same maturity) dictates the lenght of the period for which\n",
    "# the MSE is computed\n",
    "def MSE_delta_for_freq_strike(E,k,data):\n",
    "    data['delta_freq'] = set_rehedge_freq(k,data['delta='+str(E)])\n",
    "    data['hedge_pos']  = data.apply(lambda row: row['sp500_spot']*row['delta_freq'],axis=1)\n",
    "    data['change_P']   = data[E].diff()\n",
    "    data['change_R']   = data['hedge_pos'].diff()\n",
    "    data['MSE']        = data.apply(lambda row: (row['change_P']-row['change_R'])**2,axis=1)\n",
    "    return data['MSE'].sum()/data['MSE'].count() "
   ]
  },
  {
   "cell_type": "code",
   "execution_count": 24,
   "metadata": {},
   "outputs": [],
   "source": [
    "# Compute implied volatilies -> deltas for a dataframe of options\n",
    "def volas_and_deltas_df(df_options,strikes):\n",
    "    start = t.time()\n",
    "    for E in strikes:\n",
    "        name_vola = 'implied_vola='+str(E)\n",
    "        name_delta = 'delta='+str(E)\n",
    "        df_options[name_vola] = df_options.apply(lambda row: implied_vola_rows(E,row), axis=1)\n",
    "        df_options[name_delta] = df_options.apply(lambda row: delta_rows(E,row), axis=1)\n",
    "    end = t.time()\n",
    "    print('>> Implied volas and deltas computed.')\n",
    "    print('>> Time taken {} s'.format(end-start))\n",
    "    return df_options"
   ]
  }
 ],
 "metadata": {
  "kernelspec": {
   "display_name": "Python 3",
   "language": "python",
   "name": "python3"
  },
  "language_info": {
   "codemirror_mode": {
    "name": "ipython",
    "version": 3
   },
   "file_extension": ".py",
   "mimetype": "text/x-python",
   "name": "python",
   "nbconvert_exporter": "python",
   "pygments_lexer": "ipython3",
   "version": "3.7.3"
  }
 },
 "nbformat": 4,
 "nbformat_minor": 2
}
